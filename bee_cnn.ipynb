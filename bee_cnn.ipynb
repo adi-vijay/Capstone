{
  "nbformat": 4,
  "nbformat_minor": 0,
  "metadata": {
    "colab": {
      "provenance": [],
      "collapsed_sections": []
    },
    "kernelspec": {
      "name": "python3",
      "display_name": "Python 3"
    },
    "language_info": {
      "name": "python"
    },
    "accelerator": "GPU"
  },
  "cells": [
    {
      "cell_type": "code",
      "execution_count": 1,
      "metadata": {
        "id": "R1U0dwZriio1"
      },
      "outputs": [],
      "source": [
        "import pandas as pd\n",
        "import numpy as np\n",
        "import sys\n",
        "import os\n",
        "import random\n",
        "from pathlib import Path\n",
        "import imageio\n",
        "import skimage\n",
        "import skimage.io\n",
        "import skimage.transform\n",
        "import matplotlib.pyplot as plt\n",
        "import seaborn as sns\n",
        "from sklearn.model_selection import train_test_split\n",
        "from sklearn import metrics\n",
        "from keras import optimizers\n",
        "from keras.models import Sequential\n",
        "from keras.layers import Dense, Conv2D, Flatten, MaxPool2D, Dropout, BatchNormalization,LeakyReLU\n",
        "from keras.preprocessing.image import ImageDataGenerator\n",
        "from keras.callbacks import ModelCheckpoint, Callback, EarlyStopping, ReduceLROnPlateau, LearningRateScheduler\n",
        "from keras import utils\n",
        "import tensorflow"
      ]
    },
    {
      "cell_type": "code",
      "source": [
        "from google.colab import drive\n",
        "drive.mount('/content/drive')"
      ],
      "metadata": {
        "colab": {
          "base_uri": "https://localhost:8080/"
        },
        "id": "19a9jWAvlSHi",
        "outputId": "11578ffd-35dd-4083-842e-8e1690591c74"
      },
      "execution_count": 2,
      "outputs": [
        {
          "output_type": "stream",
          "name": "stdout",
          "text": [
            "Drive already mounted at /content/drive; to attempt to forcibly remount, call drive.mount(\"/content/drive\", force_remount=True).\n"
          ]
        }
      ]
    },
    {
      "cell_type": "code",
      "source": [
        "IMAGE_PATH = '/content/drive/MyDrive/colab_notebooks/data/Capstone/bee_imgs/'\n",
        "IMAGE_WIDTH = 100\n",
        "IMAGE_HEIGHT = 100\n",
        "IMAGE_CHANNELS = 3\n",
        "RANDOM_STATE = 42\n",
        "TEST_SIZE = 0.2\n",
        "VAL_SIZE = 0.2\n",
        "CONV_2D_DIM_1 = 16\n",
        "CONV_2D_DIM_2 = 16\n",
        "CONV_2D_DIM_3 = 32\n",
        "CONV_2D_DIM_4 = 64\n",
        "MAX_POOL_DIM = 2\n",
        "KERNEL_SIZE = 3\n",
        "BATCH_SIZE = 32\n",
        "NO_EPOCHS_1 = 5\n",
        "NO_EPOCHS_2 = 10\n",
        "NO_EPOCHS_3 = 50"
      ],
      "metadata": {
        "id": "uUA3LoJRvsxe"
      },
      "execution_count": 43,
      "outputs": []
    },
    {
      "cell_type": "code",
      "source": [
        "os.listdir(\"/content/drive/MyDrive/colab_notebooks/data/Capstone/\")"
      ],
      "metadata": {
        "colab": {
          "base_uri": "https://localhost:8080/"
        },
        "id": "XW6Ev0qXwckc",
        "outputId": "80e518ce-74b5-480e-b4bc-8de31811ec7a"
      },
      "execution_count": 4,
      "outputs": [
        {
          "output_type": "execute_result",
          "data": {
            "text/plain": [
              "['bee_data.csv', 'bee_image.zip', 'bee_imgs']"
            ]
          },
          "metadata": {},
          "execution_count": 4
        }
      ]
    },
    {
      "cell_type": "code",
      "source": [
        "os.listdir(IMAGE_PATH)[-10:]"
      ],
      "metadata": {
        "colab": {
          "base_uri": "https://localhost:8080/"
        },
        "id": "0hTE1vbTye1R",
        "outputId": "957598c5-03c5-4241-8654-7c95e9b7f92f"
      },
      "execution_count": 5,
      "outputs": [
        {
          "output_type": "execute_result",
          "data": {
            "text/plain": [
              "['003_230.png',\n",
              " '004_063.png',\n",
              " '003_259.png',\n",
              " '003_235.png',\n",
              " '004_170.png',\n",
              " '003_245.png',\n",
              " '003_273.png',\n",
              " '004_264.png',\n",
              " '003_249.png',\n",
              " '004_128.png']"
            ]
          },
          "metadata": {},
          "execution_count": 5
        }
      ]
    },
    {
      "cell_type": "code",
      "source": [
        "bee_df = pd.read_csv(\"/content/drive/MyDrive/colab_notebooks/data/Capstone/bee_data.csv\")\n",
        "bee_df.head(10)"
      ],
      "metadata": {
        "colab": {
          "base_uri": "https://localhost:8080/",
          "height": 363
        },
        "id": "8jqqHrPWxzy0",
        "outputId": "c55ea290-96d5-4560-9370-a046c4ad59ac"
      },
      "execution_count": 6,
      "outputs": [
        {
          "output_type": "execute_result",
          "data": {
            "text/plain": [
              "          file     date   time        location  zip code subspecies  \\\n",
              "0  041_066.png  8/28/18  16:07  Alvin, TX, USA     77511         -1   \n",
              "1  041_072.png  8/28/18  16:07  Alvin, TX, USA     77511         -1   \n",
              "2  041_073.png  8/28/18  16:07  Alvin, TX, USA     77511         -1   \n",
              "3  041_067.png  8/28/18  16:07  Alvin, TX, USA     77511         -1   \n",
              "4  041_059.png  8/28/18  16:07  Alvin, TX, USA     77511         -1   \n",
              "5  041_071.png  8/28/18  16:07  Alvin, TX, USA     77511         -1   \n",
              "6  041_065.png  8/28/18  16:07  Alvin, TX, USA     77511         -1   \n",
              "7  041_064.png  8/28/18  16:07  Alvin, TX, USA     77511         -1   \n",
              "8  041_070.png  8/28/18  16:07  Alvin, TX, USA     77511         -1   \n",
              "9  041_058.png  8/28/18  16:07  Alvin, TX, USA     77511         -1   \n",
              "\n",
              "              health  pollen_carrying   caste  \n",
              "0  hive being robbed            False  worker  \n",
              "1  hive being robbed            False  worker  \n",
              "2  hive being robbed            False  worker  \n",
              "3  hive being robbed            False  worker  \n",
              "4  hive being robbed            False  worker  \n",
              "5  hive being robbed            False  worker  \n",
              "6  hive being robbed            False  worker  \n",
              "7  hive being robbed            False  worker  \n",
              "8  hive being robbed            False  worker  \n",
              "9  hive being robbed            False  worker  "
            ],
            "text/html": [
              "\n",
              "  <div id=\"df-625b92ce-6139-4857-8799-446e1a1c7d03\">\n",
              "    <div class=\"colab-df-container\">\n",
              "      <div>\n",
              "<style scoped>\n",
              "    .dataframe tbody tr th:only-of-type {\n",
              "        vertical-align: middle;\n",
              "    }\n",
              "\n",
              "    .dataframe tbody tr th {\n",
              "        vertical-align: top;\n",
              "    }\n",
              "\n",
              "    .dataframe thead th {\n",
              "        text-align: right;\n",
              "    }\n",
              "</style>\n",
              "<table border=\"1\" class=\"dataframe\">\n",
              "  <thead>\n",
              "    <tr style=\"text-align: right;\">\n",
              "      <th></th>\n",
              "      <th>file</th>\n",
              "      <th>date</th>\n",
              "      <th>time</th>\n",
              "      <th>location</th>\n",
              "      <th>zip code</th>\n",
              "      <th>subspecies</th>\n",
              "      <th>health</th>\n",
              "      <th>pollen_carrying</th>\n",
              "      <th>caste</th>\n",
              "    </tr>\n",
              "  </thead>\n",
              "  <tbody>\n",
              "    <tr>\n",
              "      <th>0</th>\n",
              "      <td>041_066.png</td>\n",
              "      <td>8/28/18</td>\n",
              "      <td>16:07</td>\n",
              "      <td>Alvin, TX, USA</td>\n",
              "      <td>77511</td>\n",
              "      <td>-1</td>\n",
              "      <td>hive being robbed</td>\n",
              "      <td>False</td>\n",
              "      <td>worker</td>\n",
              "    </tr>\n",
              "    <tr>\n",
              "      <th>1</th>\n",
              "      <td>041_072.png</td>\n",
              "      <td>8/28/18</td>\n",
              "      <td>16:07</td>\n",
              "      <td>Alvin, TX, USA</td>\n",
              "      <td>77511</td>\n",
              "      <td>-1</td>\n",
              "      <td>hive being robbed</td>\n",
              "      <td>False</td>\n",
              "      <td>worker</td>\n",
              "    </tr>\n",
              "    <tr>\n",
              "      <th>2</th>\n",
              "      <td>041_073.png</td>\n",
              "      <td>8/28/18</td>\n",
              "      <td>16:07</td>\n",
              "      <td>Alvin, TX, USA</td>\n",
              "      <td>77511</td>\n",
              "      <td>-1</td>\n",
              "      <td>hive being robbed</td>\n",
              "      <td>False</td>\n",
              "      <td>worker</td>\n",
              "    </tr>\n",
              "    <tr>\n",
              "      <th>3</th>\n",
              "      <td>041_067.png</td>\n",
              "      <td>8/28/18</td>\n",
              "      <td>16:07</td>\n",
              "      <td>Alvin, TX, USA</td>\n",
              "      <td>77511</td>\n",
              "      <td>-1</td>\n",
              "      <td>hive being robbed</td>\n",
              "      <td>False</td>\n",
              "      <td>worker</td>\n",
              "    </tr>\n",
              "    <tr>\n",
              "      <th>4</th>\n",
              "      <td>041_059.png</td>\n",
              "      <td>8/28/18</td>\n",
              "      <td>16:07</td>\n",
              "      <td>Alvin, TX, USA</td>\n",
              "      <td>77511</td>\n",
              "      <td>-1</td>\n",
              "      <td>hive being robbed</td>\n",
              "      <td>False</td>\n",
              "      <td>worker</td>\n",
              "    </tr>\n",
              "    <tr>\n",
              "      <th>5</th>\n",
              "      <td>041_071.png</td>\n",
              "      <td>8/28/18</td>\n",
              "      <td>16:07</td>\n",
              "      <td>Alvin, TX, USA</td>\n",
              "      <td>77511</td>\n",
              "      <td>-1</td>\n",
              "      <td>hive being robbed</td>\n",
              "      <td>False</td>\n",
              "      <td>worker</td>\n",
              "    </tr>\n",
              "    <tr>\n",
              "      <th>6</th>\n",
              "      <td>041_065.png</td>\n",
              "      <td>8/28/18</td>\n",
              "      <td>16:07</td>\n",
              "      <td>Alvin, TX, USA</td>\n",
              "      <td>77511</td>\n",
              "      <td>-1</td>\n",
              "      <td>hive being robbed</td>\n",
              "      <td>False</td>\n",
              "      <td>worker</td>\n",
              "    </tr>\n",
              "    <tr>\n",
              "      <th>7</th>\n",
              "      <td>041_064.png</td>\n",
              "      <td>8/28/18</td>\n",
              "      <td>16:07</td>\n",
              "      <td>Alvin, TX, USA</td>\n",
              "      <td>77511</td>\n",
              "      <td>-1</td>\n",
              "      <td>hive being robbed</td>\n",
              "      <td>False</td>\n",
              "      <td>worker</td>\n",
              "    </tr>\n",
              "    <tr>\n",
              "      <th>8</th>\n",
              "      <td>041_070.png</td>\n",
              "      <td>8/28/18</td>\n",
              "      <td>16:07</td>\n",
              "      <td>Alvin, TX, USA</td>\n",
              "      <td>77511</td>\n",
              "      <td>-1</td>\n",
              "      <td>hive being robbed</td>\n",
              "      <td>False</td>\n",
              "      <td>worker</td>\n",
              "    </tr>\n",
              "    <tr>\n",
              "      <th>9</th>\n",
              "      <td>041_058.png</td>\n",
              "      <td>8/28/18</td>\n",
              "      <td>16:07</td>\n",
              "      <td>Alvin, TX, USA</td>\n",
              "      <td>77511</td>\n",
              "      <td>-1</td>\n",
              "      <td>hive being robbed</td>\n",
              "      <td>False</td>\n",
              "      <td>worker</td>\n",
              "    </tr>\n",
              "  </tbody>\n",
              "</table>\n",
              "</div>\n",
              "      <button class=\"colab-df-convert\" onclick=\"convertToInteractive('df-625b92ce-6139-4857-8799-446e1a1c7d03')\"\n",
              "              title=\"Convert this dataframe to an interactive table.\"\n",
              "              style=\"display:none;\">\n",
              "        \n",
              "  <svg xmlns=\"http://www.w3.org/2000/svg\" height=\"24px\"viewBox=\"0 0 24 24\"\n",
              "       width=\"24px\">\n",
              "    <path d=\"M0 0h24v24H0V0z\" fill=\"none\"/>\n",
              "    <path d=\"M18.56 5.44l.94 2.06.94-2.06 2.06-.94-2.06-.94-.94-2.06-.94 2.06-2.06.94zm-11 1L8.5 8.5l.94-2.06 2.06-.94-2.06-.94L8.5 2.5l-.94 2.06-2.06.94zm10 10l.94 2.06.94-2.06 2.06-.94-2.06-.94-.94-2.06-.94 2.06-2.06.94z\"/><path d=\"M17.41 7.96l-1.37-1.37c-.4-.4-.92-.59-1.43-.59-.52 0-1.04.2-1.43.59L10.3 9.45l-7.72 7.72c-.78.78-.78 2.05 0 2.83L4 21.41c.39.39.9.59 1.41.59.51 0 1.02-.2 1.41-.59l7.78-7.78 2.81-2.81c.8-.78.8-2.07 0-2.86zM5.41 20L4 18.59l7.72-7.72 1.47 1.35L5.41 20z\"/>\n",
              "  </svg>\n",
              "      </button>\n",
              "      \n",
              "  <style>\n",
              "    .colab-df-container {\n",
              "      display:flex;\n",
              "      flex-wrap:wrap;\n",
              "      gap: 12px;\n",
              "    }\n",
              "\n",
              "    .colab-df-convert {\n",
              "      background-color: #E8F0FE;\n",
              "      border: none;\n",
              "      border-radius: 50%;\n",
              "      cursor: pointer;\n",
              "      display: none;\n",
              "      fill: #1967D2;\n",
              "      height: 32px;\n",
              "      padding: 0 0 0 0;\n",
              "      width: 32px;\n",
              "    }\n",
              "\n",
              "    .colab-df-convert:hover {\n",
              "      background-color: #E2EBFA;\n",
              "      box-shadow: 0px 1px 2px rgba(60, 64, 67, 0.3), 0px 1px 3px 1px rgba(60, 64, 67, 0.15);\n",
              "      fill: #174EA6;\n",
              "    }\n",
              "\n",
              "    [theme=dark] .colab-df-convert {\n",
              "      background-color: #3B4455;\n",
              "      fill: #D2E3FC;\n",
              "    }\n",
              "\n",
              "    [theme=dark] .colab-df-convert:hover {\n",
              "      background-color: #434B5C;\n",
              "      box-shadow: 0px 1px 3px 1px rgba(0, 0, 0, 0.15);\n",
              "      filter: drop-shadow(0px 1px 2px rgba(0, 0, 0, 0.3));\n",
              "      fill: #FFFFFF;\n",
              "    }\n",
              "  </style>\n",
              "\n",
              "      <script>\n",
              "        const buttonEl =\n",
              "          document.querySelector('#df-625b92ce-6139-4857-8799-446e1a1c7d03 button.colab-df-convert');\n",
              "        buttonEl.style.display =\n",
              "          google.colab.kernel.accessAllowed ? 'block' : 'none';\n",
              "\n",
              "        async function convertToInteractive(key) {\n",
              "          const element = document.querySelector('#df-625b92ce-6139-4857-8799-446e1a1c7d03');\n",
              "          const dataTable =\n",
              "            await google.colab.kernel.invokeFunction('convertToInteractive',\n",
              "                                                     [key], {});\n",
              "          if (!dataTable) return;\n",
              "\n",
              "          const docLinkHtml = 'Like what you see? Visit the ' +\n",
              "            '<a target=\"_blank\" href=https://colab.research.google.com/notebooks/data_table.ipynb>data table notebook</a>'\n",
              "            + ' to learn more about interactive tables.';\n",
              "          element.innerHTML = '';\n",
              "          dataTable['output_type'] = 'display_data';\n",
              "          await google.colab.output.renderOutput(dataTable, element);\n",
              "          const docLink = document.createElement('div');\n",
              "          docLink.innerHTML = docLinkHtml;\n",
              "          element.appendChild(docLink);\n",
              "        }\n",
              "      </script>\n",
              "    </div>\n",
              "  </div>\n",
              "  "
            ]
          },
          "metadata": {},
          "execution_count": 6
        }
      ]
    },
    {
      "cell_type": "code",
      "source": [
        "bee_df.shape"
      ],
      "metadata": {
        "colab": {
          "base_uri": "https://localhost:8080/"
        },
        "id": "G-om55_EyEGl",
        "outputId": "4c2c4144-e4bd-41f4-a2b5-301f215d6e0d"
      },
      "execution_count": 7,
      "outputs": [
        {
          "output_type": "execute_result",
          "data": {
            "text/plain": [
              "(5172, 9)"
            ]
          },
          "metadata": {},
          "execution_count": 7
        }
      ]
    },
    {
      "cell_type": "code",
      "source": [
        "bee_df.info()"
      ],
      "metadata": {
        "colab": {
          "base_uri": "https://localhost:8080/"
        },
        "id": "mDH20WdayEEA",
        "outputId": "f698b6a3-b3cc-47f4-c170-b611a56fd990"
      },
      "execution_count": 8,
      "outputs": [
        {
          "output_type": "stream",
          "name": "stdout",
          "text": [
            "<class 'pandas.core.frame.DataFrame'>\n",
            "RangeIndex: 5172 entries, 0 to 5171\n",
            "Data columns (total 9 columns):\n",
            " #   Column           Non-Null Count  Dtype \n",
            "---  ------           --------------  ----- \n",
            " 0   file             5172 non-null   object\n",
            " 1   date             5172 non-null   object\n",
            " 2   time             5172 non-null   object\n",
            " 3   location         5172 non-null   object\n",
            " 4   zip code         5172 non-null   int64 \n",
            " 5   subspecies       5172 non-null   object\n",
            " 6   health           5172 non-null   object\n",
            " 7   pollen_carrying  5172 non-null   bool  \n",
            " 8   caste            5172 non-null   object\n",
            "dtypes: bool(1), int64(1), object(7)\n",
            "memory usage: 328.4+ KB\n"
          ]
        }
      ]
    },
    {
      "cell_type": "code",
      "source": [
        "image_files = list(os.listdir(IMAGE_PATH))\n",
        "print(\"Number of image files: {}\".format(len(image_files)))"
      ],
      "metadata": {
        "colab": {
          "base_uri": "https://localhost:8080/"
        },
        "id": "d9VlHEdFzH7O",
        "outputId": "9305db13-c447-40bd-c9b2-44a311115e9b"
      },
      "execution_count": 9,
      "outputs": [
        {
          "output_type": "stream",
          "name": "stdout",
          "text": [
            "Number of image files: 5173\n"
          ]
        }
      ]
    },
    {
      "cell_type": "code",
      "source": [
        "file_names = list(bee_df['file'])\n",
        "print(\"Matching image names: {}\".format(len(set(file_names).intersection(image_files))))"
      ],
      "metadata": {
        "colab": {
          "base_uri": "https://localhost:8080/"
        },
        "id": "1fAA32peyEBI",
        "outputId": "21179e06-b575-466f-cbd6-dfa43ce80730"
      },
      "execution_count": 10,
      "outputs": [
        {
          "output_type": "stream",
          "name": "stdout",
          "text": [
            "Matching image names: 5172\n"
          ]
        }
      ]
    },
    {
      "cell_type": "code",
      "source": [
        "def read_image_sizes(file_name):\n",
        "    image = skimage.io.imread(IMAGE_PATH + file_name)\n",
        "    return list(image.shape)"
      ],
      "metadata": {
        "id": "p5GyOiWpyD-R"
      },
      "execution_count": 11,
      "outputs": []
    },
    {
      "cell_type": "code",
      "source": [
        "np.stack([read_image_sizes(filename) for filename in bee_df['file'][:50]])"
      ],
      "metadata": {
        "colab": {
          "base_uri": "https://localhost:8080/"
        },
        "id": "8dKc6jSP6NR_",
        "outputId": "3806a9fa-f2d1-45dd-da0d-07e0bdf49b62"
      },
      "execution_count": 12,
      "outputs": [
        {
          "output_type": "execute_result",
          "data": {
            "text/plain": [
              "array([[115, 164,   3],\n",
              "       [201,  90,   3],\n",
              "       [132, 167,   3],\n",
              "       [134,  97,   3],\n",
              "       [147, 106,   3],\n",
              "       [194, 135,   3],\n",
              "       [159, 170,   3],\n",
              "       [132,  95,   3],\n",
              "       [126, 190,   3],\n",
              "       [156, 189,   3],\n",
              "       [132, 142,   3],\n",
              "       [ 69, 119,   3],\n",
              "       [105, 104,   3],\n",
              "       [108,  99,   3],\n",
              "       [220, 159,   3],\n",
              "       [130, 137,   3],\n",
              "       [183, 161,   3],\n",
              "       [182, 144,   3],\n",
              "       [186, 225,   3],\n",
              "       [150, 153,   3],\n",
              "       [101, 140,   3],\n",
              "       [136, 127,   3],\n",
              "       [ 95, 115,   3],\n",
              "       [ 78, 103,   3],\n",
              "       [180, 113,   3],\n",
              "       [118, 126,   3],\n",
              "       [238, 167,   3],\n",
              "       [133, 136,   3],\n",
              "       [159, 118,   3],\n",
              "       [146,  95,   3],\n",
              "       [145, 182,   3],\n",
              "       [ 89,  99,   3],\n",
              "       [126, 176,   3],\n",
              "       [172, 127,   3],\n",
              "       [210, 163,   3],\n",
              "       [ 96, 111,   3],\n",
              "       [127, 162,   3],\n",
              "       [168, 146,   3],\n",
              "       [143, 141,   3],\n",
              "       [129, 155,   3],\n",
              "       [ 86, 139,   3],\n",
              "       [222, 168,   3],\n",
              "       [ 94, 132,   3],\n",
              "       [112, 101,   3],\n",
              "       [113, 191,   3],\n",
              "       [119,  83,   3],\n",
              "       [140, 172,   3],\n",
              "       [193, 169,   3],\n",
              "       [122, 134,   3],\n",
              "       [155, 138,   3]])"
            ]
          },
          "metadata": {},
          "execution_count": 12
        }
      ]
    },
    {
      "cell_type": "code",
      "source": [],
      "metadata": {
        "id": "L3J9AtkJ6zAl"
      },
      "execution_count": 12,
      "outputs": []
    },
    {
      "cell_type": "code",
      "source": [
        "m = np.stack(bee_df['file'].apply(read_image_sizes))\n",
        "df = pd.DataFrame(m,columns=['width','height','color'])\n",
        "bee_df = pd.concat([bee_df,df],axis=1, sort=False)"
      ],
      "metadata": {
        "id": "TmI2ugfZyD7Z"
      },
      "execution_count": 13,
      "outputs": []
    },
    {
      "cell_type": "code",
      "source": [
        "bee_df.head()"
      ],
      "metadata": {
        "colab": {
          "base_uri": "https://localhost:8080/",
          "height": 206
        },
        "id": "lCawjf3z0uHa",
        "outputId": "af0df479-4b81-49f4-ad47-4e9636e9023d"
      },
      "execution_count": 14,
      "outputs": [
        {
          "output_type": "execute_result",
          "data": {
            "text/plain": [
              "          file     date   time        location  zip code subspecies  \\\n",
              "0  041_066.png  8/28/18  16:07  Alvin, TX, USA     77511         -1   \n",
              "1  041_072.png  8/28/18  16:07  Alvin, TX, USA     77511         -1   \n",
              "2  041_073.png  8/28/18  16:07  Alvin, TX, USA     77511         -1   \n",
              "3  041_067.png  8/28/18  16:07  Alvin, TX, USA     77511         -1   \n",
              "4  041_059.png  8/28/18  16:07  Alvin, TX, USA     77511         -1   \n",
              "\n",
              "              health  pollen_carrying   caste  width  height  color  \n",
              "0  hive being robbed            False  worker    115     164      3  \n",
              "1  hive being robbed            False  worker    201      90      3  \n",
              "2  hive being robbed            False  worker    132     167      3  \n",
              "3  hive being robbed            False  worker    134      97      3  \n",
              "4  hive being robbed            False  worker    147     106      3  "
            ],
            "text/html": [
              "\n",
              "  <div id=\"df-3b47d68d-3ee7-447f-84d6-d3c727483ea1\">\n",
              "    <div class=\"colab-df-container\">\n",
              "      <div>\n",
              "<style scoped>\n",
              "    .dataframe tbody tr th:only-of-type {\n",
              "        vertical-align: middle;\n",
              "    }\n",
              "\n",
              "    .dataframe tbody tr th {\n",
              "        vertical-align: top;\n",
              "    }\n",
              "\n",
              "    .dataframe thead th {\n",
              "        text-align: right;\n",
              "    }\n",
              "</style>\n",
              "<table border=\"1\" class=\"dataframe\">\n",
              "  <thead>\n",
              "    <tr style=\"text-align: right;\">\n",
              "      <th></th>\n",
              "      <th>file</th>\n",
              "      <th>date</th>\n",
              "      <th>time</th>\n",
              "      <th>location</th>\n",
              "      <th>zip code</th>\n",
              "      <th>subspecies</th>\n",
              "      <th>health</th>\n",
              "      <th>pollen_carrying</th>\n",
              "      <th>caste</th>\n",
              "      <th>width</th>\n",
              "      <th>height</th>\n",
              "      <th>color</th>\n",
              "    </tr>\n",
              "  </thead>\n",
              "  <tbody>\n",
              "    <tr>\n",
              "      <th>0</th>\n",
              "      <td>041_066.png</td>\n",
              "      <td>8/28/18</td>\n",
              "      <td>16:07</td>\n",
              "      <td>Alvin, TX, USA</td>\n",
              "      <td>77511</td>\n",
              "      <td>-1</td>\n",
              "      <td>hive being robbed</td>\n",
              "      <td>False</td>\n",
              "      <td>worker</td>\n",
              "      <td>115</td>\n",
              "      <td>164</td>\n",
              "      <td>3</td>\n",
              "    </tr>\n",
              "    <tr>\n",
              "      <th>1</th>\n",
              "      <td>041_072.png</td>\n",
              "      <td>8/28/18</td>\n",
              "      <td>16:07</td>\n",
              "      <td>Alvin, TX, USA</td>\n",
              "      <td>77511</td>\n",
              "      <td>-1</td>\n",
              "      <td>hive being robbed</td>\n",
              "      <td>False</td>\n",
              "      <td>worker</td>\n",
              "      <td>201</td>\n",
              "      <td>90</td>\n",
              "      <td>3</td>\n",
              "    </tr>\n",
              "    <tr>\n",
              "      <th>2</th>\n",
              "      <td>041_073.png</td>\n",
              "      <td>8/28/18</td>\n",
              "      <td>16:07</td>\n",
              "      <td>Alvin, TX, USA</td>\n",
              "      <td>77511</td>\n",
              "      <td>-1</td>\n",
              "      <td>hive being robbed</td>\n",
              "      <td>False</td>\n",
              "      <td>worker</td>\n",
              "      <td>132</td>\n",
              "      <td>167</td>\n",
              "      <td>3</td>\n",
              "    </tr>\n",
              "    <tr>\n",
              "      <th>3</th>\n",
              "      <td>041_067.png</td>\n",
              "      <td>8/28/18</td>\n",
              "      <td>16:07</td>\n",
              "      <td>Alvin, TX, USA</td>\n",
              "      <td>77511</td>\n",
              "      <td>-1</td>\n",
              "      <td>hive being robbed</td>\n",
              "      <td>False</td>\n",
              "      <td>worker</td>\n",
              "      <td>134</td>\n",
              "      <td>97</td>\n",
              "      <td>3</td>\n",
              "    </tr>\n",
              "    <tr>\n",
              "      <th>4</th>\n",
              "      <td>041_059.png</td>\n",
              "      <td>8/28/18</td>\n",
              "      <td>16:07</td>\n",
              "      <td>Alvin, TX, USA</td>\n",
              "      <td>77511</td>\n",
              "      <td>-1</td>\n",
              "      <td>hive being robbed</td>\n",
              "      <td>False</td>\n",
              "      <td>worker</td>\n",
              "      <td>147</td>\n",
              "      <td>106</td>\n",
              "      <td>3</td>\n",
              "    </tr>\n",
              "  </tbody>\n",
              "</table>\n",
              "</div>\n",
              "      <button class=\"colab-df-convert\" onclick=\"convertToInteractive('df-3b47d68d-3ee7-447f-84d6-d3c727483ea1')\"\n",
              "              title=\"Convert this dataframe to an interactive table.\"\n",
              "              style=\"display:none;\">\n",
              "        \n",
              "  <svg xmlns=\"http://www.w3.org/2000/svg\" height=\"24px\"viewBox=\"0 0 24 24\"\n",
              "       width=\"24px\">\n",
              "    <path d=\"M0 0h24v24H0V0z\" fill=\"none\"/>\n",
              "    <path d=\"M18.56 5.44l.94 2.06.94-2.06 2.06-.94-2.06-.94-.94-2.06-.94 2.06-2.06.94zm-11 1L8.5 8.5l.94-2.06 2.06-.94-2.06-.94L8.5 2.5l-.94 2.06-2.06.94zm10 10l.94 2.06.94-2.06 2.06-.94-2.06-.94-.94-2.06-.94 2.06-2.06.94z\"/><path d=\"M17.41 7.96l-1.37-1.37c-.4-.4-.92-.59-1.43-.59-.52 0-1.04.2-1.43.59L10.3 9.45l-7.72 7.72c-.78.78-.78 2.05 0 2.83L4 21.41c.39.39.9.59 1.41.59.51 0 1.02-.2 1.41-.59l7.78-7.78 2.81-2.81c.8-.78.8-2.07 0-2.86zM5.41 20L4 18.59l7.72-7.72 1.47 1.35L5.41 20z\"/>\n",
              "  </svg>\n",
              "      </button>\n",
              "      \n",
              "  <style>\n",
              "    .colab-df-container {\n",
              "      display:flex;\n",
              "      flex-wrap:wrap;\n",
              "      gap: 12px;\n",
              "    }\n",
              "\n",
              "    .colab-df-convert {\n",
              "      background-color: #E8F0FE;\n",
              "      border: none;\n",
              "      border-radius: 50%;\n",
              "      cursor: pointer;\n",
              "      display: none;\n",
              "      fill: #1967D2;\n",
              "      height: 32px;\n",
              "      padding: 0 0 0 0;\n",
              "      width: 32px;\n",
              "    }\n",
              "\n",
              "    .colab-df-convert:hover {\n",
              "      background-color: #E2EBFA;\n",
              "      box-shadow: 0px 1px 2px rgba(60, 64, 67, 0.3), 0px 1px 3px 1px rgba(60, 64, 67, 0.15);\n",
              "      fill: #174EA6;\n",
              "    }\n",
              "\n",
              "    [theme=dark] .colab-df-convert {\n",
              "      background-color: #3B4455;\n",
              "      fill: #D2E3FC;\n",
              "    }\n",
              "\n",
              "    [theme=dark] .colab-df-convert:hover {\n",
              "      background-color: #434B5C;\n",
              "      box-shadow: 0px 1px 3px 1px rgba(0, 0, 0, 0.15);\n",
              "      filter: drop-shadow(0px 1px 2px rgba(0, 0, 0, 0.3));\n",
              "      fill: #FFFFFF;\n",
              "    }\n",
              "  </style>\n",
              "\n",
              "      <script>\n",
              "        const buttonEl =\n",
              "          document.querySelector('#df-3b47d68d-3ee7-447f-84d6-d3c727483ea1 button.colab-df-convert');\n",
              "        buttonEl.style.display =\n",
              "          google.colab.kernel.accessAllowed ? 'block' : 'none';\n",
              "\n",
              "        async function convertToInteractive(key) {\n",
              "          const element = document.querySelector('#df-3b47d68d-3ee7-447f-84d6-d3c727483ea1');\n",
              "          const dataTable =\n",
              "            await google.colab.kernel.invokeFunction('convertToInteractive',\n",
              "                                                     [key], {});\n",
              "          if (!dataTable) return;\n",
              "\n",
              "          const docLinkHtml = 'Like what you see? Visit the ' +\n",
              "            '<a target=\"_blank\" href=https://colab.research.google.com/notebooks/data_table.ipynb>data table notebook</a>'\n",
              "            + ' to learn more about interactive tables.';\n",
              "          element.innerHTML = '';\n",
              "          dataTable['output_type'] = 'display_data';\n",
              "          await google.colab.output.renderOutput(dataTable, element);\n",
              "          const docLink = document.createElement('div');\n",
              "          docLink.innerHTML = docLinkHtml;\n",
              "          element.appendChild(docLink);\n",
              "        }\n",
              "      </script>\n",
              "    </div>\n",
              "  </div>\n",
              "  "
            ]
          },
          "metadata": {},
          "execution_count": 14
        }
      ]
    },
    {
      "cell_type": "code",
      "source": [
        "bee_df.to_csv('/content/drive/MyDrive/colab_notebooks/data/Capstone/bee_data_w_image.csv')"
      ],
      "metadata": {
        "id": "u1TBslTIyD4P"
      },
      "execution_count": 16,
      "outputs": []
    },
    {
      "cell_type": "code",
      "source": [
        "plt.figure()\n",
        "plt.boxplot([bee_df.width, bee_df.height], labels = ['width', 'height'], vert = False)\n",
        "\n",
        "plt.title('Image Pixel Height and Width')\n",
        ";"
      ],
      "metadata": {
        "colab": {
          "base_uri": "https://localhost:8080/",
          "height": 300
        },
        "id": "aU3csU1EyD1a",
        "outputId": "15f79864-4c25-46cd-9f60-2a37c2ae34f1"
      },
      "execution_count": 32,
      "outputs": [
        {
          "output_type": "execute_result",
          "data": {
            "text/plain": [
              "''"
            ],
            "application/vnd.google.colaboratory.intrinsic+json": {
              "type": "string"
            }
          },
          "metadata": {},
          "execution_count": 32
        },
        {
          "output_type": "display_data",
          "data": {
            "text/plain": [
              "<Figure size 432x288 with 1 Axes>"
            ],
            "image/png": "[encoded data removed]"
          },
          "metadata": {
            "needs_background": "light"
          }
        }
      ]
    },
    {
      "cell_type": "markdown",
      "source": [
        "Scale to 100 x 100 px."
      ],
      "metadata": {
        "id": "qRxf0R48BEHR"
      }
    },
    {
      "cell_type": "code",
      "source": [],
      "metadata": {
        "id": "nZyPHI8YyDyB"
      },
      "execution_count": null,
      "outputs": []
    },
    {
      "cell_type": "code",
      "source": [
        "tmp = bee_df.groupby(['zip code'])['location'].value_counts()"
      ],
      "metadata": {
        "id": "_Qz7jSVDwgH7"
      },
      "execution_count": 34,
      "outputs": []
    },
    {
      "cell_type": "code",
      "source": [],
      "metadata": {
        "colab": {
          "base_uri": "https://localhost:8080/"
        },
        "id": "FMCXavfFBdyF",
        "outputId": "78f7c9f1-99a7-4300-ddbe-93e5c9cc32b9"
      },
      "execution_count": 37,
      "outputs": [
        {
          "output_type": "execute_result",
          "data": {
            "text/plain": [
              "zip code  location            \n",
              "3431      Keene, NH, USA           92\n",
              "30607     Athens, GA, USA         579\n",
              "          Athens, Georgia, USA    472\n",
              "50315     Des Moines, IA, USA     973\n",
              "70115     New Orleans, LA, USA    170\n",
              "Name: location, dtype: int64"
            ]
          },
          "metadata": {},
          "execution_count": 37
        }
      ]
    },
    {
      "cell_type": "code",
      "source": [
        "df = pd.DataFrame(data={'Images': tmp.values}, index=tmp.index).reset_index()\n",
        "df"
      ],
      "metadata": {
        "colab": {
          "base_uri": "https://localhost:8080/",
          "height": 300
        },
        "id": "dLzYSLmjBKNY",
        "outputId": "0033419d-af5b-4cab-fe64-baf60594b341"
      },
      "execution_count": 35,
      "outputs": [
        {
          "output_type": "execute_result",
          "data": {
            "text/plain": [
              "   zip code              location  Images\n",
              "0      3431        Keene, NH, USA      92\n",
              "1     30607       Athens, GA, USA     579\n",
              "2     30607  Athens, Georgia, USA     472\n",
              "3     50315   Des Moines, IA, USA     973\n",
              "4     70115  New Orleans, LA, USA     170\n",
              "5     77511        Alvin, TX, USA     737\n",
              "6     95070     Saratoga, CA, USA    2000\n",
              "7     95124     San Jose, CA, USA     149"
            ],
            "text/html": [
              "\n",
              "  <div id=\"df-c32734f8-ce2a-493f-954b-cdb00dd56c40\">\n",
              "    <div class=\"colab-df-container\">\n",
              "      <div>\n",
              "<style scoped>\n",
              "    .dataframe tbody tr th:only-of-type {\n",
              "        vertical-align: middle;\n",
              "    }\n",
              "\n",
              "    .dataframe tbody tr th {\n",
              "        vertical-align: top;\n",
              "    }\n",
              "\n",
              "    .dataframe thead th {\n",
              "        text-align: right;\n",
              "    }\n",
              "</style>\n",
              "<table border=\"1\" class=\"dataframe\">\n",
              "  <thead>\n",
              "    <tr style=\"text-align: right;\">\n",
              "      <th></th>\n",
              "      <th>zip code</th>\n",
              "      <th>location</th>\n",
              "      <th>Images</th>\n",
              "    </tr>\n",
              "  </thead>\n",
              "  <tbody>\n",
              "    <tr>\n",
              "      <th>0</th>\n",
              "      <td>3431</td>\n",
              "      <td>Keene, NH, USA</td>\n",
              "      <td>92</td>\n",
              "    </tr>\n",
              "    <tr>\n",
              "      <th>1</th>\n",
              "      <td>30607</td>\n",
              "      <td>Athens, GA, USA</td>\n",
              "      <td>579</td>\n",
              "    </tr>\n",
              "    <tr>\n",
              "      <th>2</th>\n",
              "      <td>30607</td>\n",
              "      <td>Athens, Georgia, USA</td>\n",
              "      <td>472</td>\n",
              "    </tr>\n",
              "    <tr>\n",
              "      <th>3</th>\n",
              "      <td>50315</td>\n",
              "      <td>Des Moines, IA, USA</td>\n",
              "      <td>973</td>\n",
              "    </tr>\n",
              "    <tr>\n",
              "      <th>4</th>\n",
              "      <td>70115</td>\n",
              "      <td>New Orleans, LA, USA</td>\n",
              "      <td>170</td>\n",
              "    </tr>\n",
              "    <tr>\n",
              "      <th>5</th>\n",
              "      <td>77511</td>\n",
              "      <td>Alvin, TX, USA</td>\n",
              "      <td>737</td>\n",
              "    </tr>\n",
              "    <tr>\n",
              "      <th>6</th>\n",
              "      <td>95070</td>\n",
              "      <td>Saratoga, CA, USA</td>\n",
              "      <td>2000</td>\n",
              "    </tr>\n",
              "    <tr>\n",
              "      <th>7</th>\n",
              "      <td>95124</td>\n",
              "      <td>San Jose, CA, USA</td>\n",
              "      <td>149</td>\n",
              "    </tr>\n",
              "  </tbody>\n",
              "</table>\n",
              "</div>\n",
              "      <button class=\"colab-df-convert\" onclick=\"convertToInteractive('df-c32734f8-ce2a-493f-954b-cdb00dd56c40')\"\n",
              "              title=\"Convert this dataframe to an interactive table.\"\n",
              "              style=\"display:none;\">\n",
              "        \n",
              "  <svg xmlns=\"http://www.w3.org/2000/svg\" height=\"24px\"viewBox=\"0 0 24 24\"\n",
              "       width=\"24px\">\n",
              "    <path d=\"M0 0h24v24H0V0z\" fill=\"none\"/>\n",
              "    <path d=\"M18.56 5.44l.94 2.06.94-2.06 2.06-.94-2.06-.94-.94-2.06-.94 2.06-2.06.94zm-11 1L8.5 8.5l.94-2.06 2.06-.94-2.06-.94L8.5 2.5l-.94 2.06-2.06.94zm10 10l.94 2.06.94-2.06 2.06-.94-2.06-.94-.94-2.06-.94 2.06-2.06.94z\"/><path d=\"M17.41 7.96l-1.37-1.37c-.4-.4-.92-.59-1.43-.59-.52 0-1.04.2-1.43.59L10.3 9.45l-7.72 7.72c-.78.78-.78 2.05 0 2.83L4 21.41c.39.39.9.59 1.41.59.51 0 1.02-.2 1.41-.59l7.78-7.78 2.81-2.81c.8-.78.8-2.07 0-2.86zM5.41 20L4 18.59l7.72-7.72 1.47 1.35L5.41 20z\"/>\n",
              "  </svg>\n",
              "      </button>\n",
              "      \n",
              "  <style>\n",
              "    .colab-df-container {\n",
              "      display:flex;\n",
              "      flex-wrap:wrap;\n",
              "      gap: 12px;\n",
              "    }\n",
              "\n",
              "    .colab-df-convert {\n",
              "      background-color: #E8F0FE;\n",
              "      border: none;\n",
              "      border-radius: 50%;\n",
              "      cursor: pointer;\n",
              "      display: none;\n",
              "      fill: #1967D2;\n",
              "      height: 32px;\n",
              "      padding: 0 0 0 0;\n",
              "      width: 32px;\n",
              "    }\n",
              "\n",
              "    .colab-df-convert:hover {\n",
              "      background-color: #E2EBFA;\n",
              "      box-shadow: 0px 1px 2px rgba(60, 64, 67, 0.3), 0px 1px 3px 1px rgba(60, 64, 67, 0.15);\n",
              "      fill: #174EA6;\n",
              "    }\n",
              "\n",
              "    [theme=dark] .colab-df-convert {\n",
              "      background-color: #3B4455;\n",
              "      fill: #D2E3FC;\n",
              "    }\n",
              "\n",
              "    [theme=dark] .colab-df-convert:hover {\n",
              "      background-color: #434B5C;\n",
              "      box-shadow: 0px 1px 3px 1px rgba(0, 0, 0, 0.15);\n",
              "      filter: drop-shadow(0px 1px 2px rgba(0, 0, 0, 0.3));\n",
              "      fill: #FFFFFF;\n",
              "    }\n",
              "  </style>\n",
              "\n",
              "      <script>\n",
              "        const buttonEl =\n",
              "          document.querySelector('#df-c32734f8-ce2a-493f-954b-cdb00dd56c40 button.colab-df-convert');\n",
              "        buttonEl.style.display =\n",
              "          google.colab.kernel.accessAllowed ? 'block' : 'none';\n",
              "\n",
              "        async function convertToInteractive(key) {\n",
              "          const element = document.querySelector('#df-c32734f8-ce2a-493f-954b-cdb00dd56c40');\n",
              "          const dataTable =\n",
              "            await google.colab.kernel.invokeFunction('convertToInteractive',\n",
              "                                                     [key], {});\n",
              "          if (!dataTable) return;\n",
              "\n",
              "          const docLinkHtml = 'Like what you see? Visit the ' +\n",
              "            '<a target=\"_blank\" href=https://colab.research.google.com/notebooks/data_table.ipynb>data table notebook</a>'\n",
              "            + ' to learn more about interactive tables.';\n",
              "          element.innerHTML = '';\n",
              "          dataTable['output_type'] = 'display_data';\n",
              "          await google.colab.output.renderOutput(dataTable, element);\n",
              "          const docLink = document.createElement('div');\n",
              "          docLink.innerHTML = docLinkHtml;\n",
              "          element.appendChild(docLink);\n",
              "        }\n",
              "      </script>\n",
              "    </div>\n",
              "  </div>\n",
              "  "
            ]
          },
          "metadata": {},
          "execution_count": 35
        }
      ]
    },
    {
      "cell_type": "code",
      "source": [
        "bee_df = bee_df.replace({'location':'Athens, Georgia, USA'}, 'Athens, GA, USA')\n",
        "bee_df.head()"
      ],
      "metadata": {
        "colab": {
          "base_uri": "https://localhost:8080/",
          "height": 206
        },
        "id": "rxjMKRlnBRAK",
        "outputId": "2c78198c-620c-482e-95a8-d3f26083f87c"
      },
      "execution_count": 38,
      "outputs": [
        {
          "output_type": "execute_result",
          "data": {
            "text/plain": [
              "          file     date   time        location  zip code subspecies  \\\n",
              "0  041_066.png  8/28/18  16:07  Alvin, TX, USA     77511         -1   \n",
              "1  041_072.png  8/28/18  16:07  Alvin, TX, USA     77511         -1   \n",
              "2  041_073.png  8/28/18  16:07  Alvin, TX, USA     77511         -1   \n",
              "3  041_067.png  8/28/18  16:07  Alvin, TX, USA     77511         -1   \n",
              "4  041_059.png  8/28/18  16:07  Alvin, TX, USA     77511         -1   \n",
              "\n",
              "              health  pollen_carrying   caste  width  height  color  \n",
              "0  hive being robbed            False  worker    115     164      3  \n",
              "1  hive being robbed            False  worker    201      90      3  \n",
              "2  hive being robbed            False  worker    132     167      3  \n",
              "3  hive being robbed            False  worker    134      97      3  \n",
              "4  hive being robbed            False  worker    147     106      3  "
            ],
            "text/html": [
              "\n",
              "  <div id=\"df-80aa52ef-bc6b-42b4-a035-66f963e1e914\">\n",
              "    <div class=\"colab-df-container\">\n",
              "      <div>\n",
              "<style scoped>\n",
              "    .dataframe tbody tr th:only-of-type {\n",
              "        vertical-align: middle;\n",
              "    }\n",
              "\n",
              "    .dataframe tbody tr th {\n",
              "        vertical-align: top;\n",
              "    }\n",
              "\n",
              "    .dataframe thead th {\n",
              "        text-align: right;\n",
              "    }\n",
              "</style>\n",
              "<table border=\"1\" class=\"dataframe\">\n",
              "  <thead>\n",
              "    <tr style=\"text-align: right;\">\n",
              "      <th></th>\n",
              "      <th>file</th>\n",
              "      <th>date</th>\n",
              "      <th>time</th>\n",
              "      <th>location</th>\n",
              "      <th>zip code</th>\n",
              "      <th>subspecies</th>\n",
              "      <th>health</th>\n",
              "      <th>pollen_carrying</th>\n",
              "      <th>caste</th>\n",
              "      <th>width</th>\n",
              "      <th>height</th>\n",
              "      <th>color</th>\n",
              "    </tr>\n",
              "  </thead>\n",
              "  <tbody>\n",
              "    <tr>\n",
              "      <th>0</th>\n",
              "      <td>041_066.png</td>\n",
              "      <td>8/28/18</td>\n",
              "      <td>16:07</td>\n",
              "      <td>Alvin, TX, USA</td>\n",
              "      <td>77511</td>\n",
              "      <td>-1</td>\n",
              "      <td>hive being robbed</td>\n",
              "      <td>False</td>\n",
              "      <td>worker</td>\n",
              "      <td>115</td>\n",
              "      <td>164</td>\n",
              "      <td>3</td>\n",
              "    </tr>\n",
              "    <tr>\n",
              "      <th>1</th>\n",
              "      <td>041_072.png</td>\n",
              "      <td>8/28/18</td>\n",
              "      <td>16:07</td>\n",
              "      <td>Alvin, TX, USA</td>\n",
              "      <td>77511</td>\n",
              "      <td>-1</td>\n",
              "      <td>hive being robbed</td>\n",
              "      <td>False</td>\n",
              "      <td>worker</td>\n",
              "      <td>201</td>\n",
              "      <td>90</td>\n",
              "      <td>3</td>\n",
              "    </tr>\n",
              "    <tr>\n",
              "      <th>2</th>\n",
              "      <td>041_073.png</td>\n",
              "      <td>8/28/18</td>\n",
              "      <td>16:07</td>\n",
              "      <td>Alvin, TX, USA</td>\n",
              "      <td>77511</td>\n",
              "      <td>-1</td>\n",
              "      <td>hive being robbed</td>\n",
              "      <td>False</td>\n",
              "      <td>worker</td>\n",
              "      <td>132</td>\n",
              "      <td>167</td>\n",
              "      <td>3</td>\n",
              "    </tr>\n",
              "    <tr>\n",
              "      <th>3</th>\n",
              "      <td>041_067.png</td>\n",
              "      <td>8/28/18</td>\n",
              "      <td>16:07</td>\n",
              "      <td>Alvin, TX, USA</td>\n",
              "      <td>77511</td>\n",
              "      <td>-1</td>\n",
              "      <td>hive being robbed</td>\n",
              "      <td>False</td>\n",
              "      <td>worker</td>\n",
              "      <td>134</td>\n",
              "      <td>97</td>\n",
              "      <td>3</td>\n",
              "    </tr>\n",
              "    <tr>\n",
              "      <th>4</th>\n",
              "      <td>041_059.png</td>\n",
              "      <td>8/28/18</td>\n",
              "      <td>16:07</td>\n",
              "      <td>Alvin, TX, USA</td>\n",
              "      <td>77511</td>\n",
              "      <td>-1</td>\n",
              "      <td>hive being robbed</td>\n",
              "      <td>False</td>\n",
              "      <td>worker</td>\n",
              "      <td>147</td>\n",
              "      <td>106</td>\n",
              "      <td>3</td>\n",
              "    </tr>\n",
              "  </tbody>\n",
              "</table>\n",
              "</div>\n",
              "      <button class=\"colab-df-convert\" onclick=\"convertToInteractive('df-80aa52ef-bc6b-42b4-a035-66f963e1e914')\"\n",
              "              title=\"Convert this dataframe to an interactive table.\"\n",
              "              style=\"display:none;\">\n",
              "        \n",
              "  <svg xmlns=\"http://www.w3.org/2000/svg\" height=\"24px\"viewBox=\"0 0 24 24\"\n",
              "       width=\"24px\">\n",
              "    <path d=\"M0 0h24v24H0V0z\" fill=\"none\"/>\n",
              "    <path d=\"M18.56 5.44l.94 2.06.94-2.06 2.06-.94-2.06-.94-.94-2.06-.94 2.06-2.06.94zm-11 1L8.5 8.5l.94-2.06 2.06-.94-2.06-.94L8.5 2.5l-.94 2.06-2.06.94zm10 10l.94 2.06.94-2.06 2.06-.94-2.06-.94-.94-2.06-.94 2.06-2.06.94z\"/><path d=\"M17.41 7.96l-1.37-1.37c-.4-.4-.92-.59-1.43-.59-.52 0-1.04.2-1.43.59L10.3 9.45l-7.72 7.72c-.78.78-.78 2.05 0 2.83L4 21.41c.39.39.9.59 1.41.59.51 0 1.02-.2 1.41-.59l7.78-7.78 2.81-2.81c.8-.78.8-2.07 0-2.86zM5.41 20L4 18.59l7.72-7.72 1.47 1.35L5.41 20z\"/>\n",
              "  </svg>\n",
              "      </button>\n",
              "      \n",
              "  <style>\n",
              "    .colab-df-container {\n",
              "      display:flex;\n",
              "      flex-wrap:wrap;\n",
              "      gap: 12px;\n",
              "    }\n",
              "\n",
              "    .colab-df-convert {\n",
              "      background-color: #E8F0FE;\n",
              "      border: none;\n",
              "      border-radius: 50%;\n",
              "      cursor: pointer;\n",
              "      display: none;\n",
              "      fill: #1967D2;\n",
              "      height: 32px;\n",
              "      padding: 0 0 0 0;\n",
              "      width: 32px;\n",
              "    }\n",
              "\n",
              "    .colab-df-convert:hover {\n",
              "      background-color: #E2EBFA;\n",
              "      box-shadow: 0px 1px 2px rgba(60, 64, 67, 0.3), 0px 1px 3px 1px rgba(60, 64, 67, 0.15);\n",
              "      fill: #174EA6;\n",
              "    }\n",
              "\n",
              "    [theme=dark] .colab-df-convert {\n",
              "      background-color: #3B4455;\n",
              "      fill: #D2E3FC;\n",
              "    }\n",
              "\n",
              "    [theme=dark] .colab-df-convert:hover {\n",
              "      background-color: #434B5C;\n",
              "      box-shadow: 0px 1px 3px 1px rgba(0, 0, 0, 0.15);\n",
              "      filter: drop-shadow(0px 1px 2px rgba(0, 0, 0, 0.3));\n",
              "      fill: #FFFFFF;\n",
              "    }\n",
              "  </style>\n",
              "\n",
              "      <script>\n",
              "        const buttonEl =\n",
              "          document.querySelector('#df-80aa52ef-bc6b-42b4-a035-66f963e1e914 button.colab-df-convert');\n",
              "        buttonEl.style.display =\n",
              "          google.colab.kernel.accessAllowed ? 'block' : 'none';\n",
              "\n",
              "        async function convertToInteractive(key) {\n",
              "          const element = document.querySelector('#df-80aa52ef-bc6b-42b4-a035-66f963e1e914');\n",
              "          const dataTable =\n",
              "            await google.colab.kernel.invokeFunction('convertToInteractive',\n",
              "                                                     [key], {});\n",
              "          if (!dataTable) return;\n",
              "\n",
              "          const docLinkHtml = 'Like what you see? Visit the ' +\n",
              "            '<a target=\"_blank\" href=https://colab.research.google.com/notebooks/data_table.ipynb>data table notebook</a>'\n",
              "            + ' to learn more about interactive tables.';\n",
              "          element.innerHTML = '';\n",
              "          dataTable['output_type'] = 'display_data';\n",
              "          await google.colab.output.renderOutput(dataTable, element);\n",
              "          const docLink = document.createElement('div');\n",
              "          docLink.innerHTML = docLinkHtml;\n",
              "          element.appendChild(docLink);\n",
              "        }\n",
              "      </script>\n",
              "    </div>\n",
              "  </div>\n",
              "  "
            ]
          },
          "metadata": {},
          "execution_count": 38
        }
      ]
    },
    {
      "cell_type": "code",
      "source": [
        "bee_df.location.value_counts()"
      ],
      "metadata": {
        "colab": {
          "base_uri": "https://localhost:8080/"
        },
        "id": "3H1IeQYMB8M1",
        "outputId": "07fa58e8-d4a5-408f-89d2-f01a2a4247de"
      },
      "execution_count": 39,
      "outputs": [
        {
          "output_type": "execute_result",
          "data": {
            "text/plain": [
              "Saratoga, CA, USA       2000\n",
              "Athens, GA, USA         1051\n",
              "Des Moines, IA, USA      973\n",
              "Alvin, TX, USA           737\n",
              "New Orleans, LA, USA     170\n",
              "San Jose, CA, USA        149\n",
              "Keene, NH, USA            92\n",
              "Name: location, dtype: int64"
            ]
          },
          "metadata": {},
          "execution_count": 39
        }
      ]
    },
    {
      "cell_type": "code",
      "source": [
        "bee_df['date_time'] = pd.to_datetime(bee_df['date'] + ' ' + bee_df['time'])\n",
        "bee_df[\"year\"] = bee_df['date_time'].dt.year\n",
        "bee_df[\"month\"] = bee_df['date_time'].dt.month\n",
        "bee_df[\"day\"] = bee_df['date_time'].dt.day\n",
        "bee_df[\"hour\"] = bee_df['date_time'].dt.hour\n",
        "bee_df[\"minute\"] = bee_df['date_time'].dt.minute"
      ],
      "metadata": {
        "id": "xV7Z5yuDCBcp"
      },
      "execution_count": 41,
      "outputs": []
    },
    {
      "cell_type": "code",
      "source": [
        "bee_df.head()"
      ],
      "metadata": {
        "colab": {
          "base_uri": "https://localhost:8080/",
          "height": 354
        },
        "id": "ec_3JSSgIZ-0",
        "outputId": "7f30192c-4153-49c3-d570-d80b10134787"
      },
      "execution_count": 42,
      "outputs": [
        {
          "output_type": "execute_result",
          "data": {
            "text/plain": [
              "          file     date   time        location  zip code subspecies  \\\n",
              "0  041_066.png  8/28/18  16:07  Alvin, TX, USA     77511         -1   \n",
              "1  041_072.png  8/28/18  16:07  Alvin, TX, USA     77511         -1   \n",
              "2  041_073.png  8/28/18  16:07  Alvin, TX, USA     77511         -1   \n",
              "3  041_067.png  8/28/18  16:07  Alvin, TX, USA     77511         -1   \n",
              "4  041_059.png  8/28/18  16:07  Alvin, TX, USA     77511         -1   \n",
              "\n",
              "              health  pollen_carrying   caste  width  height  color  \\\n",
              "0  hive being robbed            False  worker    115     164      3   \n",
              "1  hive being robbed            False  worker    201      90      3   \n",
              "2  hive being robbed            False  worker    132     167      3   \n",
              "3  hive being robbed            False  worker    134      97      3   \n",
              "4  hive being robbed            False  worker    147     106      3   \n",
              "\n",
              "            date_time  year  month  day  hour  minute  \n",
              "0 2018-08-28 16:07:00  2018      8   28    16       7  \n",
              "1 2018-08-28 16:07:00  2018      8   28    16       7  \n",
              "2 2018-08-28 16:07:00  2018      8   28    16       7  \n",
              "3 2018-08-28 16:07:00  2018      8   28    16       7  \n",
              "4 2018-08-28 16:07:00  2018      8   28    16       7  "
            ],
            "text/html": [
              "\n",
              "  <div id=\"df-10db46bf-5381-4476-9408-5778bf5f6eb2\">\n",
              "    <div class=\"colab-df-container\">\n",
              "      <div>\n",
              "<style scoped>\n",
              "    .dataframe tbody tr th:only-of-type {\n",
              "        vertical-align: middle;\n",
              "    }\n",
              "\n",
              "    .dataframe tbody tr th {\n",
              "        vertical-align: top;\n",
              "    }\n",
              "\n",
              "    .dataframe thead th {\n",
              "        text-align: right;\n",
              "    }\n",
              "</style>\n",
              "<table border=\"1\" class=\"dataframe\">\n",
              "  <thead>\n",
              "    <tr style=\"text-align: right;\">\n",
              "      <th></th>\n",
              "      <th>file</th>\n",
              "      <th>date</th>\n",
              "      <th>time</th>\n",
              "      <th>location</th>\n",
              "      <th>zip code</th>\n",
              "      <th>subspecies</th>\n",
              "      <th>health</th>\n",
              "      <th>pollen_carrying</th>\n",
              "      <th>caste</th>\n",
              "      <th>width</th>\n",
              "      <th>height</th>\n",
              "      <th>color</th>\n",
              "      <th>date_time</th>\n",
              "      <th>year</th>\n",
              "      <th>month</th>\n",
              "      <th>day</th>\n",
              "      <th>hour</th>\n",
              "      <th>minute</th>\n",
              "    </tr>\n",
              "  </thead>\n",
              "  <tbody>\n",
              "    <tr>\n",
              "      <th>0</th>\n",
              "      <td>041_066.png</td>\n",
              "      <td>8/28/18</td>\n",
              "      <td>16:07</td>\n",
              "      <td>Alvin, TX, USA</td>\n",
              "      <td>77511</td>\n",
              "      <td>-1</td>\n",
              "      <td>hive being robbed</td>\n",
              "      <td>False</td>\n",
              "      <td>worker</td>\n",
              "      <td>115</td>\n",
              "      <td>164</td>\n",
              "      <td>3</td>\n",
              "      <td>2018-08-28 16:07:00</td>\n",
              "      <td>2018</td>\n",
              "      <td>8</td>\n",
              "      <td>28</td>\n",
              "      <td>16</td>\n",
              "      <td>7</td>\n",
              "    </tr>\n",
              "    <tr>\n",
              "      <th>1</th>\n",
              "      <td>041_072.png</td>\n",
              "      <td>8/28/18</td>\n",
              "      <td>16:07</td>\n",
              "      <td>Alvin, TX, USA</td>\n",
              "      <td>77511</td>\n",
              "      <td>-1</td>\n",
              "      <td>hive being robbed</td>\n",
              "      <td>False</td>\n",
              "      <td>worker</td>\n",
              "      <td>201</td>\n",
              "      <td>90</td>\n",
              "      <td>3</td>\n",
              "      <td>2018-08-28 16:07:00</td>\n",
              "      <td>2018</td>\n",
              "      <td>8</td>\n",
              "      <td>28</td>\n",
              "      <td>16</td>\n",
              "      <td>7</td>\n",
              "    </tr>\n",
              "    <tr>\n",
              "      <th>2</th>\n",
              "      <td>041_073.png</td>\n",
              "      <td>8/28/18</td>\n",
              "      <td>16:07</td>\n",
              "      <td>Alvin, TX, USA</td>\n",
              "      <td>77511</td>\n",
              "      <td>-1</td>\n",
              "      <td>hive being robbed</td>\n",
              "      <td>False</td>\n",
              "      <td>worker</td>\n",
              "      <td>132</td>\n",
              "      <td>167</td>\n",
              "      <td>3</td>\n",
              "      <td>2018-08-28 16:07:00</td>\n",
              "      <td>2018</td>\n",
              "      <td>8</td>\n",
              "      <td>28</td>\n",
              "      <td>16</td>\n",
              "      <td>7</td>\n",
              "    </tr>\n",
              "    <tr>\n",
              "      <th>3</th>\n",
              "      <td>041_067.png</td>\n",
              "      <td>8/28/18</td>\n",
              "      <td>16:07</td>\n",
              "      <td>Alvin, TX, USA</td>\n",
              "      <td>77511</td>\n",
              "      <td>-1</td>\n",
              "      <td>hive being robbed</td>\n",
              "      <td>False</td>\n",
              "      <td>worker</td>\n",
              "      <td>134</td>\n",
              "      <td>97</td>\n",
              "      <td>3</td>\n",
              "      <td>2018-08-28 16:07:00</td>\n",
              "      <td>2018</td>\n",
              "      <td>8</td>\n",
              "      <td>28</td>\n",
              "      <td>16</td>\n",
              "      <td>7</td>\n",
              "    </tr>\n",
              "    <tr>\n",
              "      <th>4</th>\n",
              "      <td>041_059.png</td>\n",
              "      <td>8/28/18</td>\n",
              "      <td>16:07</td>\n",
              "      <td>Alvin, TX, USA</td>\n",
              "      <td>77511</td>\n",
              "      <td>-1</td>\n",
              "      <td>hive being robbed</td>\n",
              "      <td>False</td>\n",
              "      <td>worker</td>\n",
              "      <td>147</td>\n",
              "      <td>106</td>\n",
              "      <td>3</td>\n",
              "      <td>2018-08-28 16:07:00</td>\n",
              "      <td>2018</td>\n",
              "      <td>8</td>\n",
              "      <td>28</td>\n",
              "      <td>16</td>\n",
              "      <td>7</td>\n",
              "    </tr>\n",
              "  </tbody>\n",
              "</table>\n",
              "</div>\n",
              "      <button class=\"colab-df-convert\" onclick=\"convertToInteractive('df-10db46bf-5381-4476-9408-5778bf5f6eb2')\"\n",
              "              title=\"Convert this dataframe to an interactive table.\"\n",
              "              style=\"display:none;\">\n",
              "        \n",
              "  <svg xmlns=\"http://www.w3.org/2000/svg\" height=\"24px\"viewBox=\"0 0 24 24\"\n",
              "       width=\"24px\">\n",
              "    <path d=\"M0 0h24v24H0V0z\" fill=\"none\"/>\n",
              "    <path d=\"M18.56 5.44l.94 2.06.94-2.06 2.06-.94-2.06-.94-.94-2.06-.94 2.06-2.06.94zm-11 1L8.5 8.5l.94-2.06 2.06-.94-2.06-.94L8.5 2.5l-.94 2.06-2.06.94zm10 10l.94 2.06.94-2.06 2.06-.94-2.06-.94-.94-2.06-.94 2.06-2.06.94z\"/><path d=\"M17.41 7.96l-1.37-1.37c-.4-.4-.92-.59-1.43-.59-.52 0-1.04.2-1.43.59L10.3 9.45l-7.72 7.72c-.78.78-.78 2.05 0 2.83L4 21.41c.39.39.9.59 1.41.59.51 0 1.02-.2 1.41-.59l7.78-7.78 2.81-2.81c.8-.78.8-2.07 0-2.86zM5.41 20L4 18.59l7.72-7.72 1.47 1.35L5.41 20z\"/>\n",
              "  </svg>\n",
              "      </button>\n",
              "      \n",
              "  <style>\n",
              "    .colab-df-container {\n",
              "      display:flex;\n",
              "      flex-wrap:wrap;\n",
              "      gap: 12px;\n",
              "    }\n",
              "\n",
              "    .colab-df-convert {\n",
              "      background-color: #E8F0FE;\n",
              "      border: none;\n",
              "      border-radius: 50%;\n",
              "      cursor: pointer;\n",
              "      display: none;\n",
              "      fill: #1967D2;\n",
              "      height: 32px;\n",
              "      padding: 0 0 0 0;\n",
              "      width: 32px;\n",
              "    }\n",
              "\n",
              "    .colab-df-convert:hover {\n",
              "      background-color: #E2EBFA;\n",
              "      box-shadow: 0px 1px 2px rgba(60, 64, 67, 0.3), 0px 1px 3px 1px rgba(60, 64, 67, 0.15);\n",
              "      fill: #174EA6;\n",
              "    }\n",
              "\n",
              "    [theme=dark] .colab-df-convert {\n",
              "      background-color: #3B4455;\n",
              "      fill: #D2E3FC;\n",
              "    }\n",
              "\n",
              "    [theme=dark] .colab-df-convert:hover {\n",
              "      background-color: #434B5C;\n",
              "      box-shadow: 0px 1px 3px 1px rgba(0, 0, 0, 0.15);\n",
              "      filter: drop-shadow(0px 1px 2px rgba(0, 0, 0, 0.3));\n",
              "      fill: #FFFFFF;\n",
              "    }\n",
              "  </style>\n",
              "\n",
              "      <script>\n",
              "        const buttonEl =\n",
              "          document.querySelector('#df-10db46bf-5381-4476-9408-5778bf5f6eb2 button.colab-df-convert');\n",
              "        buttonEl.style.display =\n",
              "          google.colab.kernel.accessAllowed ? 'block' : 'none';\n",
              "\n",
              "        async function convertToInteractive(key) {\n",
              "          const element = document.querySelector('#df-10db46bf-5381-4476-9408-5778bf5f6eb2');\n",
              "          const dataTable =\n",
              "            await google.colab.kernel.invokeFunction('convertToInteractive',\n",
              "                                                     [key], {});\n",
              "          if (!dataTable) return;\n",
              "\n",
              "          const docLinkHtml = 'Like what you see? Visit the ' +\n",
              "            '<a target=\"_blank\" href=https://colab.research.google.com/notebooks/data_table.ipynb>data table notebook</a>'\n",
              "            + ' to learn more about interactive tables.';\n",
              "          element.innerHTML = '';\n",
              "          dataTable['output_type'] = 'display_data';\n",
              "          await google.colab.output.renderOutput(dataTable, element);\n",
              "          const docLink = document.createElement('div');\n",
              "          docLink.innerHTML = docLinkHtml;\n",
              "          element.appendChild(docLink);\n",
              "        }\n",
              "      </script>\n",
              "    </div>\n",
              "  </div>\n",
              "  "
            ]
          },
          "metadata": {},
          "execution_count": 42
        }
      ]
    },
    {
      "cell_type": "code",
      "source": [],
      "metadata": {
        "id": "X8YDB1CQIpfp"
      },
      "execution_count": 42,
      "outputs": []
    },
    {
      "cell_type": "code",
      "source": [],
      "metadata": {
        "id": "bsBgGCI5JBLa"
      },
      "execution_count": 42,
      "outputs": []
    },
    {
      "cell_type": "code",
      "source": [],
      "metadata": {
        "id": "hMdtyPqNJBNC"
      },
      "execution_count": 42,
      "outputs": []
    },
    {
      "cell_type": "code",
      "source": [],
      "metadata": {
        "id": "FbLAI3MCJBQm"
      },
      "execution_count": null,
      "outputs": []
    },
    {
      "cell_type": "markdown",
      "source": [
        "### Train-test-split"
      ],
      "metadata": {
        "id": "ZFiPfn1EJB0u"
      }
    },
    {
      "cell_type": "code",
      "source": [],
      "metadata": {
        "id": "a5lGRYXcJOrz"
      },
      "execution_count": null,
      "outputs": []
    },
    {
      "cell_type": "code",
      "source": [
        "train_df, test_df = train_test_split(bee_df, test_size=TEST_SIZE, \n",
        "                                     random_state=RANDOM_STATE, \n",
        "                                     stratify=bee_df['subspecies'])"
      ],
      "metadata": {
        "id": "1HCwBEljJHkI"
      },
      "execution_count": 44,
      "outputs": []
    },
    {
      "cell_type": "code",
      "source": [
        "train_df, val_df = train_test_split(train_df, test_size=VAL_SIZE, \n",
        "                                    random_state=RANDOM_STATE, \n",
        "                                    stratify=train_df['subspecies'])"
      ],
      "metadata": {
        "id": "pBPx-KVTJipW"
      },
      "execution_count": 45,
      "outputs": []
    },
    {
      "cell_type": "code",
      "source": [
        "print(\"Train set rows: {}\".format(train_df.shape[0]))\n",
        "print(\"Test  set rows: {}\".format(test_df.shape[0]))\n",
        "print(\"Val   set rows: {}\".format(val_df.shape[0]))"
      ],
      "metadata": {
        "colab": {
          "base_uri": "https://localhost:8080/"
        },
        "id": "N1sKQ2LrJq50",
        "outputId": "f944a862-c4f9-4b66-f378-15a9e8f5a520"
      },
      "execution_count": 46,
      "outputs": [
        {
          "output_type": "stream",
          "name": "stdout",
          "text": [
            "Train set rows: 3309\n",
            "Test  set rows: 1035\n",
            "Val   set rows: 828\n"
          ]
        }
      ]
    },
    {
      "cell_type": "code",
      "source": [
        "def read_image(file_name):\n",
        "    image = skimage.io.imread(IMAGE_PATH + file_name)\n",
        "    image = skimage.transform.resize(image, (IMAGE_WIDTH, IMAGE_HEIGHT), mode='reflect')\n",
        "    return image[:,:,:IMAGE_CHANNELS]"
      ],
      "metadata": {
        "id": "LyXt3wKxJtvr"
      },
      "execution_count": 47,
      "outputs": []
    },
    {
      "cell_type": "code",
      "source": [
        "def categories_encoder(dataset, var='subspecies'):\n",
        "    X = np.stack(dataset['file'].apply(read_image))\n",
        "    y = pd.get_dummies(dataset[var], drop_first=False)\n",
        "    return X, y"
      ],
      "metadata": {
        "id": "u17-sAQ4KAUZ"
      },
      "execution_count": 48,
      "outputs": []
    },
    {
      "cell_type": "code",
      "source": [
        "X_train, y_train = categories_encoder(train_df)\n",
        "X_val, y_val = categories_encoder(val_df)\n",
        "X_test, y_test = categories_encoder(test_df)"
      ],
      "metadata": {
        "id": "sz3B6GCcKZoZ"
      },
      "execution_count": 49,
      "outputs": []
    },
    {
      "cell_type": "code",
      "source": [],
      "metadata": {
        "id": "7j9ovIJMKhn1"
      },
      "execution_count": 49,
      "outputs": []
    },
    {
      "cell_type": "code",
      "source": [],
      "metadata": {
        "id": "UDk_RFmKKrU-"
      },
      "execution_count": 49,
      "outputs": []
    },
    {
      "cell_type": "markdown",
      "source": [
        "## CNN"
      ],
      "metadata": {
        "id": "Y3WgwKJLKsIp"
      }
    },
    {
      "cell_type": "code",
      "source": [
        "model1 = Sequential()\n",
        "\n",
        "\n",
        "model1.add(Conv2D(CONV_2D_DIM_1, kernel_size=KERNEL_SIZE, input_shape=(IMAGE_WIDTH, IMAGE_HEIGHT,IMAGE_CHANNELS), activation='relu', padding='same'))\n",
        "model1.add(MaxPool2D(MAX_POOL_DIM))\n",
        "#model1.add(Conv2D(CONV_2D_DIM_2, kernel_size=KERNEL_SIZE, activation='relu', padding='same'))\n",
        "model1.add(Flatten())\n",
        "model1.add(Dense(y_train.columns.size, activation='softmax'))\n",
        "\n",
        "\n",
        "model1.compile(optimizer='adam', loss='categorical_crossentropy', metrics=['accuracy'])"
      ],
      "metadata": {
        "id": "AwfiMx-aKrYc"
      },
      "execution_count": 56,
      "outputs": []
    },
    {
      "cell_type": "code",
      "source": [
        "model1.summary()"
      ],
      "metadata": {
        "colab": {
          "base_uri": "https://localhost:8080/"
        },
        "id": "F5wDHP7qLQFf",
        "outputId": "b19592bc-114a-455b-b418-13405bb8d9ad"
      },
      "execution_count": 57,
      "outputs": [
        {
          "output_type": "stream",
          "name": "stdout",
          "text": [
            "Model: \"sequential_2\"\n",
            "_________________________________________________________________\n",
            " Layer (type)                Output Shape              Param #   \n",
            "=================================================================\n",
            " conv2d_4 (Conv2D)           (None, 100, 100, 16)      448       \n",
            "                                                                 \n",
            " max_pooling2d_2 (MaxPooling  (None, 50, 50, 16)       0         \n",
            " 2D)                                                             \n",
            "                                                                 \n",
            " flatten_2 (Flatten)         (None, 40000)             0         \n",
            "                                                                 \n",
            " dense_2 (Dense)             (None, 7)                 280007    \n",
            "                                                                 \n",
            "=================================================================\n",
            "Total params: 280,455\n",
            "Trainable params: 280,455\n",
            "Non-trainable params: 0\n",
            "_________________________________________________________________\n"
          ]
        }
      ]
    },
    {
      "cell_type": "code",
      "source": [
        "history1 = model1.fit(\n",
        "    X_train, y_train,\n",
        "    validation_data=(X_val, y_val),\n",
        "    epochs=10,\n",
        "    batch_size=256,\n",
        "    verbose=1\n",
        ")"
      ],
      "metadata": {
        "colab": {
          "base_uri": "https://localhost:8080/"
        },
        "id": "OP1dlLEmLSCg",
        "outputId": "078c0d01-48f3-4ccb-e437-f4731526cb2a"
      },
      "execution_count": 58,
      "outputs": [
        {
          "output_type": "stream",
          "name": "stdout",
          "text": [
            "Epoch 1/10\n",
            "13/13 [==============================] - 1s 60ms/step - loss: 2.9849 - accuracy: 0.4379 - val_loss: 1.6681 - val_accuracy: 0.5568\n",
            "Epoch 2/10\n",
            "13/13 [==============================] - 1s 40ms/step - loss: 1.2758 - accuracy: 0.5775 - val_loss: 0.9634 - val_accuracy: 0.6437\n",
            "Epoch 3/10\n",
            "13/13 [==============================] - 1s 39ms/step - loss: 0.8639 - accuracy: 0.7325 - val_loss: 0.7719 - val_accuracy: 0.7476\n",
            "Epoch 4/10\n",
            "13/13 [==============================] - 1s 39ms/step - loss: 0.6782 - accuracy: 0.7736 - val_loss: 0.6170 - val_accuracy: 0.7705\n",
            "Epoch 5/10\n",
            "13/13 [==============================] - 1s 39ms/step - loss: 0.5571 - accuracy: 0.7906 - val_loss: 0.5553 - val_accuracy: 0.7838\n",
            "Epoch 6/10\n",
            "13/13 [==============================] - 1s 40ms/step - loss: 0.4984 - accuracy: 0.8090 - val_loss: 0.5235 - val_accuracy: 0.7911\n",
            "Epoch 7/10\n",
            "13/13 [==============================] - 1s 42ms/step - loss: 0.4546 - accuracy: 0.8250 - val_loss: 0.4737 - val_accuracy: 0.8056\n",
            "Epoch 8/10\n",
            "13/13 [==============================] - 1s 43ms/step - loss: 0.4128 - accuracy: 0.8356 - val_loss: 0.4311 - val_accuracy: 0.8357\n",
            "Epoch 9/10\n",
            "13/13 [==============================] - 1s 44ms/step - loss: 0.3821 - accuracy: 0.8546 - val_loss: 0.4116 - val_accuracy: 0.8478\n",
            "Epoch 10/10\n",
            "13/13 [==============================] - 1s 41ms/step - loss: 0.3622 - accuracy: 0.8586 - val_loss: 0.3984 - val_accuracy: 0.8478\n"
          ]
        }
      ]
    },
    {
      "cell_type": "code",
      "source": [
        "model1.history"
      ],
      "metadata": {
        "colab": {
          "base_uri": "https://localhost:8080/"
        },
        "id": "dNhntR-GOsau",
        "outputId": "d4c833f0-1de1-491c-c6a2-0d257195496f"
      },
      "execution_count": 63,
      "outputs": [
        {
          "output_type": "execute_result",
          "data": {
            "text/plain": [
              "<keras.callbacks.History at 0x7fb9d89b9890>"
            ]
          },
          "metadata": {},
          "execution_count": 63
        }
      ]
    },
    {
      "cell_type": "code",
      "source": [
        "def plot_loss(history):\n",
        "    train_loss = history.history['loss']\n",
        "    test_loss = history.history['val_loss']\n",
        "\n",
        "    # Set figure size\n",
        "    plt.figure(figsize=(12, 8))\n",
        "\n",
        "    # Generate line plot of training, testing loss over epochs\n",
        "    plt.plot(train_loss, label='Training Loss', color='#185fad')\n",
        "    plt.plot(test_loss, label='Testing Loss', color='orange')\n",
        "\n",
        "    # Set title\n",
        "    plt.title('Training and Testing Loss by Epoch', fontsize = 25)\n",
        "    plt.xlabel('Epoch', fontsize = 18)\n",
        "    plt.ylabel('Categorical Crossentropy', fontsize = 18)\n",
        "    plt.xticks(np.arange(10), np.arange(10))\n",
        "\n",
        "    plt.legend(fontsize = 18);\n",
        "\n",
        "plot_loss(model1.history)"
      ],
      "metadata": {
        "colab": {
          "base_uri": "https://localhost:8080/",
          "height": 530
        },
        "id": "i5nRHKYkPORt",
        "outputId": "e7afba47-e6f0-4b81-d1ec-955ee4b72c5a"
      },
      "execution_count": 65,
      "outputs": [
        {
          "output_type": "display_data",
          "data": {
            "text/plain": [
              "<Figure size 864x576 with 1 Axes>"
            ],
            "image/png": "[encoded data removed]"
          },
          "metadata": {
            "needs_background": "light"
          }
        }
      ]
    },
    {
      "cell_type": "code",
      "source": [],
      "metadata": {
        "id": "MHGx8CRfNSLE"
      },
      "execution_count": 67,
      "outputs": []
    },
    {
      "cell_type": "code",
      "source": [],
      "metadata": {
        "id": "NBGpd0x2OdzY"
      },
      "execution_count": null,
      "outputs": []
    }
  ]
}