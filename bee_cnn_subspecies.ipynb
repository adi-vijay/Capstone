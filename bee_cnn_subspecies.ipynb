{
  "nbformat": 4,
  "nbformat_minor": 0,
  "metadata": {
    "colab": {
      "provenance": [],
      "collapsed_sections": []
    },
    "kernelspec": {
      "name": "python3",
      "display_name": "Python 3"
    },
    "language_info": {
      "name": "python"
    },
    "accelerator": "GPU"
  },
  "cells": [
    {
      "cell_type": "markdown",
      "source": [
        "### To BE SPLIT INTO SEPARATE NOTEBOOKS"
      ],
      "metadata": {
        "id": "vVu-2yWq8yAV"
      }
    },
    {
      "cell_type": "code",
      "execution_count": 99,
      "metadata": {
        "id": "R1U0dwZriio1"
      },
      "outputs": [],
      "source": [
        "import pandas as pd\n",
        "import numpy as np\n",
        "import sys\n",
        "import os\n",
        "import random\n",
        "from pathlib import Path\n",
        "import imageio\n",
        "import skimage\n",
        "import skimage.io\n",
        "import skimage.transform\n",
        "import matplotlib.pyplot as plt\n",
        "import plotly.graph_objs as go\n",
        "import plotly.figure_factory as ff\n",
        "from plotly import tools\n",
        "import seaborn as sns\n",
        "from sklearn.model_selection import train_test_split\n",
        "from sklearn import metrics\n",
        "from keras import optimizers\n",
        "from keras.models import Sequential\n",
        "from keras.layers import Dense, Conv2D, Flatten, MaxPool2D, Dropout, BatchNormalization,LeakyReLU\n",
        "from keras.preprocessing.image import ImageDataGenerator\n",
        "from keras.callbacks import ModelCheckpoint, Callback, EarlyStopping, ReduceLROnPlateau, LearningRateScheduler\n",
        "from keras import utils\n",
        "import tensorflow"
      ]
    },
    {
      "cell_type": "code",
      "source": [
        "from google.colab import drive\n",
        "drive.mount('/content/drive')"
      ],
      "metadata": {
        "colab": {
          "base_uri": "https://localhost:8080/"
        },
        "id": "19a9jWAvlSHi",
        "outputId": "1fbd6cc5-186f-475f-9f25-6e74a6488049"
      },
      "execution_count": 100,
      "outputs": [
        {
          "output_type": "stream",
          "name": "stdout",
          "text": [
            "Drive already mounted at /content/drive; to attempt to forcibly remount, call drive.mount(\"/content/drive\", force_remount=True).\n"
          ]
        }
      ]
    },
    {
      "cell_type": "code",
      "source": [
        "IMAGE_PATH = '/content/drive/MyDrive/colab_notebooks/data/Capstone/bee_imgs/'\n",
        "IMAGE_WIDTH = 100\n",
        "IMAGE_HEIGHT = 100\n",
        "IMAGE_CHANNELS = 3\n",
        "RANDOM_STATE = 42\n",
        "TEST_SIZE = 0.2\n",
        "VAL_SIZE = 0.2\n",
        "CONV_2D_DIM_1 = 16\n",
        "CONV_2D_DIM_2 = 16\n",
        "CONV_2D_DIM_3 = 32\n",
        "CONV_2D_DIM_4 = 64\n",
        "MAX_POOL_DIM = 2\n",
        "KERNEL_SIZE = 3\n",
        "BATCH_SIZE = 32\n",
        "PATIENCE = 5\n",
        "NO_EPOCHS_1 = 5\n",
        "NO_EPOCHS_2 = 10\n",
        "NO_EPOCHS_3 = 50"
      ],
      "metadata": {
        "id": "uUA3LoJRvsxe"
      },
      "execution_count": 146,
      "outputs": []
    },
    {
      "cell_type": "code",
      "source": [
        "os.listdir(\"/content/drive/MyDrive/colab_notebooks/data/Capstone/\")"
      ],
      "metadata": {
        "colab": {
          "base_uri": "https://localhost:8080/"
        },
        "id": "XW6Ev0qXwckc",
        "outputId": "e60c3fc1-b904-40f9-f850-815a1a3669d5"
      },
      "execution_count": 102,
      "outputs": [
        {
          "output_type": "execute_result",
          "data": {
            "text/plain": [
              "['bee_data.csv',\n",
              " 'bee_image.zip',\n",
              " 'bee_imgs',\n",
              " '.ipynb_checkpoints',\n",
              " 'bee_data_w_image.csv']"
            ]
          },
          "metadata": {},
          "execution_count": 102
        }
      ]
    },
    {
      "cell_type": "code",
      "source": [
        "os.listdir(IMAGE_PATH)[-10:]"
      ],
      "metadata": {
        "colab": {
          "base_uri": "https://localhost:8080/"
        },
        "id": "0hTE1vbTye1R",
        "outputId": "350cb324-efb4-41fd-c2b0-bbcbdba811de"
      },
      "execution_count": 103,
      "outputs": [
        {
          "output_type": "execute_result",
          "data": {
            "text/plain": [
              "['003_230.png',\n",
              " '004_063.png',\n",
              " '003_259.png',\n",
              " '003_235.png',\n",
              " '004_170.png',\n",
              " '003_245.png',\n",
              " '003_273.png',\n",
              " '004_264.png',\n",
              " '003_249.png',\n",
              " '004_128.png']"
            ]
          },
          "metadata": {},
          "execution_count": 103
        }
      ]
    },
    {
      "cell_type": "code",
      "source": [
        "bee_df = pd.read_csv(\"/content/drive/MyDrive/colab_notebooks/data/Capstone/bee_data.csv\")\n",
        "bee_df.head(10)"
      ],
      "metadata": {
        "colab": {
          "base_uri": "https://localhost:8080/",
          "height": 363
        },
        "id": "8jqqHrPWxzy0",
        "outputId": "92767a57-a214-4121-aa3b-5735caf60a7a"
      },
      "execution_count": 104,
      "outputs": [
        {
          "output_type": "execute_result",
          "data": {
            "text/plain": [
              "          file     date   time        location  zip code subspecies  \\\n",
              "0  041_066.png  8/28/18  16:07  Alvin, TX, USA     77511         -1   \n",
              "1  041_072.png  8/28/18  16:07  Alvin, TX, USA     77511         -1   \n",
              "2  041_073.png  8/28/18  16:07  Alvin, TX, USA     77511         -1   \n",
              "3  041_067.png  8/28/18  16:07  Alvin, TX, USA     77511         -1   \n",
              "4  041_059.png  8/28/18  16:07  Alvin, TX, USA     77511         -1   \n",
              "5  041_071.png  8/28/18  16:07  Alvin, TX, USA     77511         -1   \n",
              "6  041_065.png  8/28/18  16:07  Alvin, TX, USA     77511         -1   \n",
              "7  041_064.png  8/28/18  16:07  Alvin, TX, USA     77511         -1   \n",
              "8  041_070.png  8/28/18  16:07  Alvin, TX, USA     77511         -1   \n",
              "9  041_058.png  8/28/18  16:07  Alvin, TX, USA     77511         -1   \n",
              "\n",
              "              health  pollen_carrying   caste  \n",
              "0  hive being robbed            False  worker  \n",
              "1  hive being robbed            False  worker  \n",
              "2  hive being robbed            False  worker  \n",
              "3  hive being robbed            False  worker  \n",
              "4  hive being robbed            False  worker  \n",
              "5  hive being robbed            False  worker  \n",
              "6  hive being robbed            False  worker  \n",
              "7  hive being robbed            False  worker  \n",
              "8  hive being robbed            False  worker  \n",
              "9  hive being robbed            False  worker  "
            ],
            "text/html": [
              "\n",
              "  <div id=\"df-3b1ce81c-8dc9-48c1-9092-b0e47a0c61c2\">\n",
              "    <div class=\"colab-df-container\">\n",
              "      <div>\n",
              "<style scoped>\n",
              "    .dataframe tbody tr th:only-of-type {\n",
              "        vertical-align: middle;\n",
              "    }\n",
              "\n",
              "    .dataframe tbody tr th {\n",
              "        vertical-align: top;\n",
              "    }\n",
              "\n",
              "    .dataframe thead th {\n",
              "        text-align: right;\n",
              "    }\n",
              "</style>\n",
              "<table border=\"1\" class=\"dataframe\">\n",
              "  <thead>\n",
              "    <tr style=\"text-align: right;\">\n",
              "      <th></th>\n",
              "      <th>file</th>\n",
              "      <th>date</th>\n",
              "      <th>time</th>\n",
              "      <th>location</th>\n",
              "      <th>zip code</th>\n",
              "      <th>subspecies</th>\n",
              "      <th>health</th>\n",
              "      <th>pollen_carrying</th>\n",
              "      <th>caste</th>\n",
              "    </tr>\n",
              "  </thead>\n",
              "  <tbody>\n",
              "    <tr>\n",
              "      <th>0</th>\n",
              "      <td>041_066.png</td>\n",
              "      <td>8/28/18</td>\n",
              "      <td>16:07</td>\n",
              "      <td>Alvin, TX, USA</td>\n",
              "      <td>77511</td>\n",
              "      <td>-1</td>\n",
              "      <td>hive being robbed</td>\n",
              "      <td>False</td>\n",
              "      <td>worker</td>\n",
              "    </tr>\n",
              "    <tr>\n",
              "      <th>1</th>\n",
              "      <td>041_072.png</td>\n",
              "      <td>8/28/18</td>\n",
              "      <td>16:07</td>\n",
              "      <td>Alvin, TX, USA</td>\n",
              "      <td>77511</td>\n",
              "      <td>-1</td>\n",
              "      <td>hive being robbed</td>\n",
              "      <td>False</td>\n",
              "      <td>worker</td>\n",
              "    </tr>\n",
              "    <tr>\n",
              "      <th>2</th>\n",
              "      <td>041_073.png</td>\n",
              "      <td>8/28/18</td>\n",
              "      <td>16:07</td>\n",
              "      <td>Alvin, TX, USA</td>\n",
              "      <td>77511</td>\n",
              "      <td>-1</td>\n",
              "      <td>hive being robbed</td>\n",
              "      <td>False</td>\n",
              "      <td>worker</td>\n",
              "    </tr>\n",
              "    <tr>\n",
              "      <th>3</th>\n",
              "      <td>041_067.png</td>\n",
              "      <td>8/28/18</td>\n",
              "      <td>16:07</td>\n",
              "      <td>Alvin, TX, USA</td>\n",
              "      <td>77511</td>\n",
              "      <td>-1</td>\n",
              "      <td>hive being robbed</td>\n",
              "      <td>False</td>\n",
              "      <td>worker</td>\n",
              "    </tr>\n",
              "    <tr>\n",
              "      <th>4</th>\n",
              "      <td>041_059.png</td>\n",
              "      <td>8/28/18</td>\n",
              "      <td>16:07</td>\n",
              "      <td>Alvin, TX, USA</td>\n",
              "      <td>77511</td>\n",
              "      <td>-1</td>\n",
              "      <td>hive being robbed</td>\n",
              "      <td>False</td>\n",
              "      <td>worker</td>\n",
              "    </tr>\n",
              "    <tr>\n",
              "      <th>5</th>\n",
              "      <td>041_071.png</td>\n",
              "      <td>8/28/18</td>\n",
              "      <td>16:07</td>\n",
              "      <td>Alvin, TX, USA</td>\n",
              "      <td>77511</td>\n",
              "      <td>-1</td>\n",
              "      <td>hive being robbed</td>\n",
              "      <td>False</td>\n",
              "      <td>worker</td>\n",
              "    </tr>\n",
              "    <tr>\n",
              "      <th>6</th>\n",
              "      <td>041_065.png</td>\n",
              "      <td>8/28/18</td>\n",
              "      <td>16:07</td>\n",
              "      <td>Alvin, TX, USA</td>\n",
              "      <td>77511</td>\n",
              "      <td>-1</td>\n",
              "      <td>hive being robbed</td>\n",
              "      <td>False</td>\n",
              "      <td>worker</td>\n",
              "    </tr>\n",
              "    <tr>\n",
              "      <th>7</th>\n",
              "      <td>041_064.png</td>\n",
              "      <td>8/28/18</td>\n",
              "      <td>16:07</td>\n",
              "      <td>Alvin, TX, USA</td>\n",
              "      <td>77511</td>\n",
              "      <td>-1</td>\n",
              "      <td>hive being robbed</td>\n",
              "      <td>False</td>\n",
              "      <td>worker</td>\n",
              "    </tr>\n",
              "    <tr>\n",
              "      <th>8</th>\n",
              "      <td>041_070.png</td>\n",
              "      <td>8/28/18</td>\n",
              "      <td>16:07</td>\n",
              "      <td>Alvin, TX, USA</td>\n",
              "      <td>77511</td>\n",
              "      <td>-1</td>\n",
              "      <td>hive being robbed</td>\n",
              "      <td>False</td>\n",
              "      <td>worker</td>\n",
              "    </tr>\n",
              "    <tr>\n",
              "      <th>9</th>\n",
              "      <td>041_058.png</td>\n",
              "      <td>8/28/18</td>\n",
              "      <td>16:07</td>\n",
              "      <td>Alvin, TX, USA</td>\n",
              "      <td>77511</td>\n",
              "      <td>-1</td>\n",
              "      <td>hive being robbed</td>\n",
              "      <td>False</td>\n",
              "      <td>worker</td>\n",
              "    </tr>\n",
              "  </tbody>\n",
              "</table>\n",
              "</div>\n",
              "      <button class=\"colab-df-convert\" onclick=\"convertToInteractive('df-3b1ce81c-8dc9-48c1-9092-b0e47a0c61c2')\"\n",
              "              title=\"Convert this dataframe to an interactive table.\"\n",
              "              style=\"display:none;\">\n",
              "        \n",
              "  <svg xmlns=\"http://www.w3.org/2000/svg\" height=\"24px\"viewBox=\"0 0 24 24\"\n",
              "       width=\"24px\">\n",
              "    <path d=\"M0 0h24v24H0V0z\" fill=\"none\"/>\n",
              "    <path d=\"M18.56 5.44l.94 2.06.94-2.06 2.06-.94-2.06-.94-.94-2.06-.94 2.06-2.06.94zm-11 1L8.5 8.5l.94-2.06 2.06-.94-2.06-.94L8.5 2.5l-.94 2.06-2.06.94zm10 10l.94 2.06.94-2.06 2.06-.94-2.06-.94-.94-2.06-.94 2.06-2.06.94z\"/><path d=\"M17.41 7.96l-1.37-1.37c-.4-.4-.92-.59-1.43-.59-.52 0-1.04.2-1.43.59L10.3 9.45l-7.72 7.72c-.78.78-.78 2.05 0 2.83L4 21.41c.39.39.9.59 1.41.59.51 0 1.02-.2 1.41-.59l7.78-7.78 2.81-2.81c.8-.78.8-2.07 0-2.86zM5.41 20L4 18.59l7.72-7.72 1.47 1.35L5.41 20z\"/>\n",
              "  </svg>\n",
              "      </button>\n",
              "      \n",
              "  <style>\n",
              "    .colab-df-container {\n",
              "      display:flex;\n",
              "      flex-wrap:wrap;\n",
              "      gap: 12px;\n",
              "    }\n",
              "\n",
              "    .colab-df-convert {\n",
              "      background-color: #E8F0FE;\n",
              "      border: none;\n",
              "      border-radius: 50%;\n",
              "      cursor: pointer;\n",
              "      display: none;\n",
              "      fill: #1967D2;\n",
              "      height: 32px;\n",
              "      padding: 0 0 0 0;\n",
              "      width: 32px;\n",
              "    }\n",
              "\n",
              "    .colab-df-convert:hover {\n",
              "      background-color: #E2EBFA;\n",
              "      box-shadow: 0px 1px 2px rgba(60, 64, 67, 0.3), 0px 1px 3px 1px rgba(60, 64, 67, 0.15);\n",
              "      fill: #174EA6;\n",
              "    }\n",
              "\n",
              "    [theme=dark] .colab-df-convert {\n",
              "      background-color: #3B4455;\n",
              "      fill: #D2E3FC;\n",
              "    }\n",
              "\n",
              "    [theme=dark] .colab-df-convert:hover {\n",
              "      background-color: #434B5C;\n",
              "      box-shadow: 0px 1px 3px 1px rgba(0, 0, 0, 0.15);\n",
              "      filter: drop-shadow(0px 1px 2px rgba(0, 0, 0, 0.3));\n",
              "      fill: #FFFFFF;\n",
              "    }\n",
              "  </style>\n",
              "\n",
              "      <script>\n",
              "        const buttonEl =\n",
              "          document.querySelector('#df-3b1ce81c-8dc9-48c1-9092-b0e47a0c61c2 button.colab-df-convert');\n",
              "        buttonEl.style.display =\n",
              "          google.colab.kernel.accessAllowed ? 'block' : 'none';\n",
              "\n",
              "        async function convertToInteractive(key) {\n",
              "          const element = document.querySelector('#df-3b1ce81c-8dc9-48c1-9092-b0e47a0c61c2');\n",
              "          const dataTable =\n",
              "            await google.colab.kernel.invokeFunction('convertToInteractive',\n",
              "                                                     [key], {});\n",
              "          if (!dataTable) return;\n",
              "\n",
              "          const docLinkHtml = 'Like what you see? Visit the ' +\n",
              "            '<a target=\"_blank\" href=https://colab.research.google.com/notebooks/data_table.ipynb>data table notebook</a>'\n",
              "            + ' to learn more about interactive tables.';\n",
              "          element.innerHTML = '';\n",
              "          dataTable['output_type'] = 'display_data';\n",
              "          await google.colab.output.renderOutput(dataTable, element);\n",
              "          const docLink = document.createElement('div');\n",
              "          docLink.innerHTML = docLinkHtml;\n",
              "          element.appendChild(docLink);\n",
              "        }\n",
              "      </script>\n",
              "    </div>\n",
              "  </div>\n",
              "  "
            ]
          },
          "metadata": {},
          "execution_count": 104
        }
      ]
    },
    {
      "cell_type": "code",
      "source": [
        "bee_df.shape"
      ],
      "metadata": {
        "colab": {
          "base_uri": "https://localhost:8080/"
        },
        "id": "G-om55_EyEGl",
        "outputId": "822f3394-a278-4fb5-d537-cfd18a9af989"
      },
      "execution_count": 105,
      "outputs": [
        {
          "output_type": "execute_result",
          "data": {
            "text/plain": [
              "(5172, 9)"
            ]
          },
          "metadata": {},
          "execution_count": 105
        }
      ]
    },
    {
      "cell_type": "code",
      "source": [
        "bee_df.info()"
      ],
      "metadata": {
        "colab": {
          "base_uri": "https://localhost:8080/"
        },
        "id": "mDH20WdayEEA",
        "outputId": "ac15996d-c112-43f1-a6ad-99f37af5e291"
      },
      "execution_count": 106,
      "outputs": [
        {
          "output_type": "stream",
          "name": "stdout",
          "text": [
            "<class 'pandas.core.frame.DataFrame'>\n",
            "RangeIndex: 5172 entries, 0 to 5171\n",
            "Data columns (total 9 columns):\n",
            " #   Column           Non-Null Count  Dtype \n",
            "---  ------           --------------  ----- \n",
            " 0   file             5172 non-null   object\n",
            " 1   date             5172 non-null   object\n",
            " 2   time             5172 non-null   object\n",
            " 3   location         5172 non-null   object\n",
            " 4   zip code         5172 non-null   int64 \n",
            " 5   subspecies       5172 non-null   object\n",
            " 6   health           5172 non-null   object\n",
            " 7   pollen_carrying  5172 non-null   bool  \n",
            " 8   caste            5172 non-null   object\n",
            "dtypes: bool(1), int64(1), object(7)\n",
            "memory usage: 328.4+ KB\n"
          ]
        }
      ]
    },
    {
      "cell_type": "code",
      "source": [
        "image_files = list(os.listdir(IMAGE_PATH))\n",
        "print(\"Number of image files: {}\".format(len(image_files)))"
      ],
      "metadata": {
        "colab": {
          "base_uri": "https://localhost:8080/"
        },
        "id": "d9VlHEdFzH7O",
        "outputId": "03fda438-e4d1-4c48-dc9a-fc02626550c9"
      },
      "execution_count": 107,
      "outputs": [
        {
          "output_type": "stream",
          "name": "stdout",
          "text": [
            "Number of image files: 5173\n"
          ]
        }
      ]
    },
    {
      "cell_type": "code",
      "source": [
        "file_names = list(bee_df['file'])\n",
        "print(\"Matching image names: {}\".format(len(set(file_names).intersection(image_files))))"
      ],
      "metadata": {
        "colab": {
          "base_uri": "https://localhost:8080/"
        },
        "id": "1fAA32peyEBI",
        "outputId": "00b9db76-2033-484e-f7df-56c5b8d1df06"
      },
      "execution_count": 108,
      "outputs": [
        {
          "output_type": "stream",
          "name": "stdout",
          "text": [
            "Matching image names: 5172\n"
          ]
        }
      ]
    },
    {
      "cell_type": "code",
      "source": [
        "def read_image_sizes(file_name):\n",
        "    image = skimage.io.imread(IMAGE_PATH + file_name)\n",
        "    return list(image.shape)"
      ],
      "metadata": {
        "id": "p5GyOiWpyD-R"
      },
      "execution_count": 109,
      "outputs": []
    },
    {
      "cell_type": "code",
      "source": [
        "np.stack([read_image_sizes(filename) for filename in bee_df['file'][:50]])"
      ],
      "metadata": {
        "colab": {
          "base_uri": "https://localhost:8080/"
        },
        "id": "8dKc6jSP6NR_",
        "outputId": "f5362d1a-b982-481f-9350-3d2c0d58fa1c"
      },
      "execution_count": 110,
      "outputs": [
        {
          "output_type": "execute_result",
          "data": {
            "text/plain": [
              "array([[115, 164,   3],\n",
              "       [201,  90,   3],\n",
              "       [132, 167,   3],\n",
              "       [134,  97,   3],\n",
              "       [147, 106,   3],\n",
              "       [194, 135,   3],\n",
              "       [159, 170,   3],\n",
              "       [132,  95,   3],\n",
              "       [126, 190,   3],\n",
              "       [156, 189,   3],\n",
              "       [132, 142,   3],\n",
              "       [ 69, 119,   3],\n",
              "       [105, 104,   3],\n",
              "       [108,  99,   3],\n",
              "       [220, 159,   3],\n",
              "       [130, 137,   3],\n",
              "       [183, 161,   3],\n",
              "       [182, 144,   3],\n",
              "       [186, 225,   3],\n",
              "       [150, 153,   3],\n",
              "       [101, 140,   3],\n",
              "       [136, 127,   3],\n",
              "       [ 95, 115,   3],\n",
              "       [ 78, 103,   3],\n",
              "       [180, 113,   3],\n",
              "       [118, 126,   3],\n",
              "       [238, 167,   3],\n",
              "       [133, 136,   3],\n",
              "       [159, 118,   3],\n",
              "       [146,  95,   3],\n",
              "       [145, 182,   3],\n",
              "       [ 89,  99,   3],\n",
              "       [126, 176,   3],\n",
              "       [172, 127,   3],\n",
              "       [210, 163,   3],\n",
              "       [ 96, 111,   3],\n",
              "       [127, 162,   3],\n",
              "       [168, 146,   3],\n",
              "       [143, 141,   3],\n",
              "       [129, 155,   3],\n",
              "       [ 86, 139,   3],\n",
              "       [222, 168,   3],\n",
              "       [ 94, 132,   3],\n",
              "       [112, 101,   3],\n",
              "       [113, 191,   3],\n",
              "       [119,  83,   3],\n",
              "       [140, 172,   3],\n",
              "       [193, 169,   3],\n",
              "       [122, 134,   3],\n",
              "       [155, 138,   3]])"
            ]
          },
          "metadata": {},
          "execution_count": 110
        }
      ]
    },
    {
      "cell_type": "code",
      "source": [],
      "metadata": {
        "id": "L3J9AtkJ6zAl"
      },
      "execution_count": 110,
      "outputs": []
    },
    {
      "cell_type": "code",
      "source": [
        "m = np.stack(bee_df['file'].apply(read_image_sizes))\n",
        "df = pd.DataFrame(m,columns=['width','height','color'])\n",
        "bee_df = pd.concat([bee_df,df],axis=1, sort=False)"
      ],
      "metadata": {
        "id": "TmI2ugfZyD7Z"
      },
      "execution_count": 111,
      "outputs": []
    },
    {
      "cell_type": "code",
      "source": [
        "bee_df.head()"
      ],
      "metadata": {
        "colab": {
          "base_uri": "https://localhost:8080/",
          "height": 206
        },
        "id": "lCawjf3z0uHa",
        "outputId": "c938d60e-215d-4d13-e3f0-8450fc9d9569"
      },
      "execution_count": 112,
      "outputs": [
        {
          "output_type": "execute_result",
          "data": {
            "text/plain": [
              "          file     date   time        location  zip code subspecies  \\\n",
              "0  041_066.png  8/28/18  16:07  Alvin, TX, USA     77511         -1   \n",
              "1  041_072.png  8/28/18  16:07  Alvin, TX, USA     77511         -1   \n",
              "2  041_073.png  8/28/18  16:07  Alvin, TX, USA     77511         -1   \n",
              "3  041_067.png  8/28/18  16:07  Alvin, TX, USA     77511         -1   \n",
              "4  041_059.png  8/28/18  16:07  Alvin, TX, USA     77511         -1   \n",
              "\n",
              "              health  pollen_carrying   caste  width  height  color  \n",
              "0  hive being robbed            False  worker    115     164      3  \n",
              "1  hive being robbed            False  worker    201      90      3  \n",
              "2  hive being robbed            False  worker    132     167      3  \n",
              "3  hive being robbed            False  worker    134      97      3  \n",
              "4  hive being robbed            False  worker    147     106      3  "
            ],
            "text/html": [
              "\n",
              "  <div id=\"df-8d730194-040f-485c-be92-ac65c3c9f898\">\n",
              "    <div class=\"colab-df-container\">\n",
              "      <div>\n",
              "<style scoped>\n",
              "    .dataframe tbody tr th:only-of-type {\n",
              "        vertical-align: middle;\n",
              "    }\n",
              "\n",
              "    .dataframe tbody tr th {\n",
              "        vertical-align: top;\n",
              "    }\n",
              "\n",
              "    .dataframe thead th {\n",
              "        text-align: right;\n",
              "    }\n",
              "</style>\n",
              "<table border=\"1\" class=\"dataframe\">\n",
              "  <thead>\n",
              "    <tr style=\"text-align: right;\">\n",
              "      <th></th>\n",
              "      <th>file</th>\n",
              "      <th>date</th>\n",
              "      <th>time</th>\n",
              "      <th>location</th>\n",
              "      <th>zip code</th>\n",
              "      <th>subspecies</th>\n",
              "      <th>health</th>\n",
              "      <th>pollen_carrying</th>\n",
              "      <th>caste</th>\n",
              "      <th>width</th>\n",
              "      <th>height</th>\n",
              "      <th>color</th>\n",
              "    </tr>\n",
              "  </thead>\n",
              "  <tbody>\n",
              "    <tr>\n",
              "      <th>0</th>\n",
              "      <td>041_066.png</td>\n",
              "      <td>8/28/18</td>\n",
              "      <td>16:07</td>\n",
              "      <td>Alvin, TX, USA</td>\n",
              "      <td>77511</td>\n",
              "      <td>-1</td>\n",
              "      <td>hive being robbed</td>\n",
              "      <td>False</td>\n",
              "      <td>worker</td>\n",
              "      <td>115</td>\n",
              "      <td>164</td>\n",
              "      <td>3</td>\n",
              "    </tr>\n",
              "    <tr>\n",
              "      <th>1</th>\n",
              "      <td>041_072.png</td>\n",
              "      <td>8/28/18</td>\n",
              "      <td>16:07</td>\n",
              "      <td>Alvin, TX, USA</td>\n",
              "      <td>77511</td>\n",
              "      <td>-1</td>\n",
              "      <td>hive being robbed</td>\n",
              "      <td>False</td>\n",
              "      <td>worker</td>\n",
              "      <td>201</td>\n",
              "      <td>90</td>\n",
              "      <td>3</td>\n",
              "    </tr>\n",
              "    <tr>\n",
              "      <th>2</th>\n",
              "      <td>041_073.png</td>\n",
              "      <td>8/28/18</td>\n",
              "      <td>16:07</td>\n",
              "      <td>Alvin, TX, USA</td>\n",
              "      <td>77511</td>\n",
              "      <td>-1</td>\n",
              "      <td>hive being robbed</td>\n",
              "      <td>False</td>\n",
              "      <td>worker</td>\n",
              "      <td>132</td>\n",
              "      <td>167</td>\n",
              "      <td>3</td>\n",
              "    </tr>\n",
              "    <tr>\n",
              "      <th>3</th>\n",
              "      <td>041_067.png</td>\n",
              "      <td>8/28/18</td>\n",
              "      <td>16:07</td>\n",
              "      <td>Alvin, TX, USA</td>\n",
              "      <td>77511</td>\n",
              "      <td>-1</td>\n",
              "      <td>hive being robbed</td>\n",
              "      <td>False</td>\n",
              "      <td>worker</td>\n",
              "      <td>134</td>\n",
              "      <td>97</td>\n",
              "      <td>3</td>\n",
              "    </tr>\n",
              "    <tr>\n",
              "      <th>4</th>\n",
              "      <td>041_059.png</td>\n",
              "      <td>8/28/18</td>\n",
              "      <td>16:07</td>\n",
              "      <td>Alvin, TX, USA</td>\n",
              "      <td>77511</td>\n",
              "      <td>-1</td>\n",
              "      <td>hive being robbed</td>\n",
              "      <td>False</td>\n",
              "      <td>worker</td>\n",
              "      <td>147</td>\n",
              "      <td>106</td>\n",
              "      <td>3</td>\n",
              "    </tr>\n",
              "  </tbody>\n",
              "</table>\n",
              "</div>\n",
              "      <button class=\"colab-df-convert\" onclick=\"convertToInteractive('df-8d730194-040f-485c-be92-ac65c3c9f898')\"\n",
              "              title=\"Convert this dataframe to an interactive table.\"\n",
              "              style=\"display:none;\">\n",
              "        \n",
              "  <svg xmlns=\"http://www.w3.org/2000/svg\" height=\"24px\"viewBox=\"0 0 24 24\"\n",
              "       width=\"24px\">\n",
              "    <path d=\"M0 0h24v24H0V0z\" fill=\"none\"/>\n",
              "    <path d=\"M18.56 5.44l.94 2.06.94-2.06 2.06-.94-2.06-.94-.94-2.06-.94 2.06-2.06.94zm-11 1L8.5 8.5l.94-2.06 2.06-.94-2.06-.94L8.5 2.5l-.94 2.06-2.06.94zm10 10l.94 2.06.94-2.06 2.06-.94-2.06-.94-.94-2.06-.94 2.06-2.06.94z\"/><path d=\"M17.41 7.96l-1.37-1.37c-.4-.4-.92-.59-1.43-.59-.52 0-1.04.2-1.43.59L10.3 9.45l-7.72 7.72c-.78.78-.78 2.05 0 2.83L4 21.41c.39.39.9.59 1.41.59.51 0 1.02-.2 1.41-.59l7.78-7.78 2.81-2.81c.8-.78.8-2.07 0-2.86zM5.41 20L4 18.59l7.72-7.72 1.47 1.35L5.41 20z\"/>\n",
              "  </svg>\n",
              "      </button>\n",
              "      \n",
              "  <style>\n",
              "    .colab-df-container {\n",
              "      display:flex;\n",
              "      flex-wrap:wrap;\n",
              "      gap: 12px;\n",
              "    }\n",
              "\n",
              "    .colab-df-convert {\n",
              "      background-color: #E8F0FE;\n",
              "      border: none;\n",
              "      border-radius: 50%;\n",
              "      cursor: pointer;\n",
              "      display: none;\n",
              "      fill: #1967D2;\n",
              "      height: 32px;\n",
              "      padding: 0 0 0 0;\n",
              "      width: 32px;\n",
              "    }\n",
              "\n",
              "    .colab-df-convert:hover {\n",
              "      background-color: #E2EBFA;\n",
              "      box-shadow: 0px 1px 2px rgba(60, 64, 67, 0.3), 0px 1px 3px 1px rgba(60, 64, 67, 0.15);\n",
              "      fill: #174EA6;\n",
              "    }\n",
              "\n",
              "    [theme=dark] .colab-df-convert {\n",
              "      background-color: #3B4455;\n",
              "      fill: #D2E3FC;\n",
              "    }\n",
              "\n",
              "    [theme=dark] .colab-df-convert:hover {\n",
              "      background-color: #434B5C;\n",
              "      box-shadow: 0px 1px 3px 1px rgba(0, 0, 0, 0.15);\n",
              "      filter: drop-shadow(0px 1px 2px rgba(0, 0, 0, 0.3));\n",
              "      fill: #FFFFFF;\n",
              "    }\n",
              "  </style>\n",
              "\n",
              "      <script>\n",
              "        const buttonEl =\n",
              "          document.querySelector('#df-8d730194-040f-485c-be92-ac65c3c9f898 button.colab-df-convert');\n",
              "        buttonEl.style.display =\n",
              "          google.colab.kernel.accessAllowed ? 'block' : 'none';\n",
              "\n",
              "        async function convertToInteractive(key) {\n",
              "          const element = document.querySelector('#df-8d730194-040f-485c-be92-ac65c3c9f898');\n",
              "          const dataTable =\n",
              "            await google.colab.kernel.invokeFunction('convertToInteractive',\n",
              "                                                     [key], {});\n",
              "          if (!dataTable) return;\n",
              "\n",
              "          const docLinkHtml = 'Like what you see? Visit the ' +\n",
              "            '<a target=\"_blank\" href=https://colab.research.google.com/notebooks/data_table.ipynb>data table notebook</a>'\n",
              "            + ' to learn more about interactive tables.';\n",
              "          element.innerHTML = '';\n",
              "          dataTable['output_type'] = 'display_data';\n",
              "          await google.colab.output.renderOutput(dataTable, element);\n",
              "          const docLink = document.createElement('div');\n",
              "          docLink.innerHTML = docLinkHtml;\n",
              "          element.appendChild(docLink);\n",
              "        }\n",
              "      </script>\n",
              "    </div>\n",
              "  </div>\n",
              "  "
            ]
          },
          "metadata": {},
          "execution_count": 112
        }
      ]
    },
    {
      "cell_type": "code",
      "source": [
        "bee_df.to_csv('/content/drive/MyDrive/colab_notebooks/data/Capstone/bee_data_w_image.csv')"
      ],
      "metadata": {
        "id": "u1TBslTIyD4P"
      },
      "execution_count": 113,
      "outputs": []
    },
    {
      "cell_type": "code",
      "source": [
        "plt.figure()\n",
        "plt.boxplot([bee_df.width, bee_df.height], labels = ['width', 'height'], vert = False)\n",
        "\n",
        "plt.title('Image Pixel Height and Width')\n",
        ";"
      ],
      "metadata": {
        "colab": {
          "base_uri": "https://localhost:8080/",
          "height": 300
        },
        "id": "aU3csU1EyD1a",
        "outputId": "45b4e0cf-ac5f-49bb-b87a-c881eafd02b6"
      },
      "execution_count": 114,
      "outputs": [
        {
          "output_type": "execute_result",
          "data": {
            "text/plain": [
              "''"
            ],
            "application/vnd.google.colaboratory.intrinsic+json": {
              "type": "string"
            }
          },
          "metadata": {},
          "execution_count": 114
        },
        {
          "output_type": "display_data",
          "data": {
            "text/plain": [
              "<Figure size 432x288 with 1 Axes>"
            ],
            "image/png": "[encoded data removed]"
          },
          "metadata": {
            "needs_background": "light"
          }
        }
      ]
    },
    {
      "cell_type": "markdown",
      "source": [
        "Scale to 100 x 100 px."
      ],
      "metadata": {
        "id": "qRxf0R48BEHR"
      }
    },
    {
      "cell_type": "code",
      "source": [],
      "metadata": {
        "id": "nZyPHI8YyDyB"
      },
      "execution_count": 114,
      "outputs": []
    },
    {
      "cell_type": "code",
      "source": [
        "tmp = bee_df.groupby(['zip code'])['location'].value_counts()"
      ],
      "metadata": {
        "id": "_Qz7jSVDwgH7"
      },
      "execution_count": 115,
      "outputs": []
    },
    {
      "cell_type": "code",
      "source": [
        "tmp"
      ],
      "metadata": {
        "colab": {
          "base_uri": "https://localhost:8080/"
        },
        "id": "FMCXavfFBdyF",
        "outputId": "d41dfea5-26b8-4efe-fc54-1572ad608088"
      },
      "execution_count": 116,
      "outputs": [
        {
          "output_type": "execute_result",
          "data": {
            "text/plain": [
              "zip code  location            \n",
              "3431      Keene, NH, USA            92\n",
              "30607     Athens, GA, USA          579\n",
              "          Athens, Georgia, USA     472\n",
              "50315     Des Moines, IA, USA      973\n",
              "70115     New Orleans, LA, USA     170\n",
              "77511     Alvin, TX, USA           737\n",
              "95070     Saratoga, CA, USA       2000\n",
              "95124     San Jose, CA, USA        149\n",
              "Name: location, dtype: int64"
            ]
          },
          "metadata": {},
          "execution_count": 116
        }
      ]
    },
    {
      "cell_type": "code",
      "source": [
        "df = pd.DataFrame(data={'Images': tmp.values}, index=tmp.index).reset_index()\n",
        "df"
      ],
      "metadata": {
        "colab": {
          "base_uri": "https://localhost:8080/",
          "height": 300
        },
        "id": "dLzYSLmjBKNY",
        "outputId": "fba8e830-0824-4e13-914f-26294c80fb3f"
      },
      "execution_count": 117,
      "outputs": [
        {
          "output_type": "execute_result",
          "data": {
            "text/plain": [
              "   zip code              location  Images\n",
              "0      3431        Keene, NH, USA      92\n",
              "1     30607       Athens, GA, USA     579\n",
              "2     30607  Athens, Georgia, USA     472\n",
              "3     50315   Des Moines, IA, USA     973\n",
              "4     70115  New Orleans, LA, USA     170\n",
              "5     77511        Alvin, TX, USA     737\n",
              "6     95070     Saratoga, CA, USA    2000\n",
              "7     95124     San Jose, CA, USA     149"
            ],
            "text/html": [
              "\n",
              "  <div id=\"df-c5e7af32-a4f9-458a-99a3-57cd99dfb065\">\n",
              "    <div class=\"colab-df-container\">\n",
              "      <div>\n",
              "<style scoped>\n",
              "    .dataframe tbody tr th:only-of-type {\n",
              "        vertical-align: middle;\n",
              "    }\n",
              "\n",
              "    .dataframe tbody tr th {\n",
              "        vertical-align: top;\n",
              "    }\n",
              "\n",
              "    .dataframe thead th {\n",
              "        text-align: right;\n",
              "    }\n",
              "</style>\n",
              "<table border=\"1\" class=\"dataframe\">\n",
              "  <thead>\n",
              "    <tr style=\"text-align: right;\">\n",
              "      <th></th>\n",
              "      <th>zip code</th>\n",
              "      <th>location</th>\n",
              "      <th>Images</th>\n",
              "    </tr>\n",
              "  </thead>\n",
              "  <tbody>\n",
              "    <tr>\n",
              "      <th>0</th>\n",
              "      <td>3431</td>\n",
              "      <td>Keene, NH, USA</td>\n",
              "      <td>92</td>\n",
              "    </tr>\n",
              "    <tr>\n",
              "      <th>1</th>\n",
              "      <td>30607</td>\n",
              "      <td>Athens, GA, USA</td>\n",
              "      <td>579</td>\n",
              "    </tr>\n",
              "    <tr>\n",
              "      <th>2</th>\n",
              "      <td>30607</td>\n",
              "      <td>Athens, Georgia, USA</td>\n",
              "      <td>472</td>\n",
              "    </tr>\n",
              "    <tr>\n",
              "      <th>3</th>\n",
              "      <td>50315</td>\n",
              "      <td>Des Moines, IA, USA</td>\n",
              "      <td>973</td>\n",
              "    </tr>\n",
              "    <tr>\n",
              "      <th>4</th>\n",
              "      <td>70115</td>\n",
              "      <td>New Orleans, LA, USA</td>\n",
              "      <td>170</td>\n",
              "    </tr>\n",
              "    <tr>\n",
              "      <th>5</th>\n",
              "      <td>77511</td>\n",
              "      <td>Alvin, TX, USA</td>\n",
              "      <td>737</td>\n",
              "    </tr>\n",
              "    <tr>\n",
              "      <th>6</th>\n",
              "      <td>95070</td>\n",
              "      <td>Saratoga, CA, USA</td>\n",
              "      <td>2000</td>\n",
              "    </tr>\n",
              "    <tr>\n",
              "      <th>7</th>\n",
              "      <td>95124</td>\n",
              "      <td>San Jose, CA, USA</td>\n",
              "      <td>149</td>\n",
              "    </tr>\n",
              "  </tbody>\n",
              "</table>\n",
              "</div>\n",
              "      <button class=\"colab-df-convert\" onclick=\"convertToInteractive('df-c5e7af32-a4f9-458a-99a3-57cd99dfb065')\"\n",
              "              title=\"Convert this dataframe to an interactive table.\"\n",
              "              style=\"display:none;\">\n",
              "        \n",
              "  <svg xmlns=\"http://www.w3.org/2000/svg\" height=\"24px\"viewBox=\"0 0 24 24\"\n",
              "       width=\"24px\">\n",
              "    <path d=\"M0 0h24v24H0V0z\" fill=\"none\"/>\n",
              "    <path d=\"M18.56 5.44l.94 2.06.94-2.06 2.06-.94-2.06-.94-.94-2.06-.94 2.06-2.06.94zm-11 1L8.5 8.5l.94-2.06 2.06-.94-2.06-.94L8.5 2.5l-.94 2.06-2.06.94zm10 10l.94 2.06.94-2.06 2.06-.94-2.06-.94-.94-2.06-.94 2.06-2.06.94z\"/><path d=\"M17.41 7.96l-1.37-1.37c-.4-.4-.92-.59-1.43-.59-.52 0-1.04.2-1.43.59L10.3 9.45l-7.72 7.72c-.78.78-.78 2.05 0 2.83L4 21.41c.39.39.9.59 1.41.59.51 0 1.02-.2 1.41-.59l7.78-7.78 2.81-2.81c.8-.78.8-2.07 0-2.86zM5.41 20L4 18.59l7.72-7.72 1.47 1.35L5.41 20z\"/>\n",
              "  </svg>\n",
              "      </button>\n",
              "      \n",
              "  <style>\n",
              "    .colab-df-container {\n",
              "      display:flex;\n",
              "      flex-wrap:wrap;\n",
              "      gap: 12px;\n",
              "    }\n",
              "\n",
              "    .colab-df-convert {\n",
              "      background-color: #E8F0FE;\n",
              "      border: none;\n",
              "      border-radius: 50%;\n",
              "      cursor: pointer;\n",
              "      display: none;\n",
              "      fill: #1967D2;\n",
              "      height: 32px;\n",
              "      padding: 0 0 0 0;\n",
              "      width: 32px;\n",
              "    }\n",
              "\n",
              "    .colab-df-convert:hover {\n",
              "      background-color: #E2EBFA;\n",
              "      box-shadow: 0px 1px 2px rgba(60, 64, 67, 0.3), 0px 1px 3px 1px rgba(60, 64, 67, 0.15);\n",
              "      fill: #174EA6;\n",
              "    }\n",
              "\n",
              "    [theme=dark] .colab-df-convert {\n",
              "      background-color: #3B4455;\n",
              "      fill: #D2E3FC;\n",
              "    }\n",
              "\n",
              "    [theme=dark] .colab-df-convert:hover {\n",
              "      background-color: #434B5C;\n",
              "      box-shadow: 0px 1px 3px 1px rgba(0, 0, 0, 0.15);\n",
              "      filter: drop-shadow(0px 1px 2px rgba(0, 0, 0, 0.3));\n",
              "      fill: #FFFFFF;\n",
              "    }\n",
              "  </style>\n",
              "\n",
              "      <script>\n",
              "        const buttonEl =\n",
              "          document.querySelector('#df-c5e7af32-a4f9-458a-99a3-57cd99dfb065 button.colab-df-convert');\n",
              "        buttonEl.style.display =\n",
              "          google.colab.kernel.accessAllowed ? 'block' : 'none';\n",
              "\n",
              "        async function convertToInteractive(key) {\n",
              "          const element = document.querySelector('#df-c5e7af32-a4f9-458a-99a3-57cd99dfb065');\n",
              "          const dataTable =\n",
              "            await google.colab.kernel.invokeFunction('convertToInteractive',\n",
              "                                                     [key], {});\n",
              "          if (!dataTable) return;\n",
              "\n",
              "          const docLinkHtml = 'Like what you see? Visit the ' +\n",
              "            '<a target=\"_blank\" href=https://colab.research.google.com/notebooks/data_table.ipynb>data table notebook</a>'\n",
              "            + ' to learn more about interactive tables.';\n",
              "          element.innerHTML = '';\n",
              "          dataTable['output_type'] = 'display_data';\n",
              "          await google.colab.output.renderOutput(dataTable, element);\n",
              "          const docLink = document.createElement('div');\n",
              "          docLink.innerHTML = docLinkHtml;\n",
              "          element.appendChild(docLink);\n",
              "        }\n",
              "      </script>\n",
              "    </div>\n",
              "  </div>\n",
              "  "
            ]
          },
          "metadata": {},
          "execution_count": 117
        }
      ]
    },
    {
      "cell_type": "code",
      "source": [
        "bee_df = bee_df.replace({'location':'Athens, Georgia, USA'}, 'Athens, GA, USA')\n",
        "bee_df.head()"
      ],
      "metadata": {
        "colab": {
          "base_uri": "https://localhost:8080/",
          "height": 206
        },
        "id": "rxjMKRlnBRAK",
        "outputId": "ce144d11-5ca3-4189-fead-fb20614e8610"
      },
      "execution_count": 118,
      "outputs": [
        {
          "output_type": "execute_result",
          "data": {
            "text/plain": [
              "          file     date   time        location  zip code subspecies  \\\n",
              "0  041_066.png  8/28/18  16:07  Alvin, TX, USA     77511         -1   \n",
              "1  041_072.png  8/28/18  16:07  Alvin, TX, USA     77511         -1   \n",
              "2  041_073.png  8/28/18  16:07  Alvin, TX, USA     77511         -1   \n",
              "3  041_067.png  8/28/18  16:07  Alvin, TX, USA     77511         -1   \n",
              "4  041_059.png  8/28/18  16:07  Alvin, TX, USA     77511         -1   \n",
              "\n",
              "              health  pollen_carrying   caste  width  height  color  \n",
              "0  hive being robbed            False  worker    115     164      3  \n",
              "1  hive being robbed            False  worker    201      90      3  \n",
              "2  hive being robbed            False  worker    132     167      3  \n",
              "3  hive being robbed            False  worker    134      97      3  \n",
              "4  hive being robbed            False  worker    147     106      3  "
            ],
            "text/html": [
              "\n",
              "  <div id=\"df-ebabba66-d2e3-49a4-9dec-418bd08b55b4\">\n",
              "    <div class=\"colab-df-container\">\n",
              "      <div>\n",
              "<style scoped>\n",
              "    .dataframe tbody tr th:only-of-type {\n",
              "        vertical-align: middle;\n",
              "    }\n",
              "\n",
              "    .dataframe tbody tr th {\n",
              "        vertical-align: top;\n",
              "    }\n",
              "\n",
              "    .dataframe thead th {\n",
              "        text-align: right;\n",
              "    }\n",
              "</style>\n",
              "<table border=\"1\" class=\"dataframe\">\n",
              "  <thead>\n",
              "    <tr style=\"text-align: right;\">\n",
              "      <th></th>\n",
              "      <th>file</th>\n",
              "      <th>date</th>\n",
              "      <th>time</th>\n",
              "      <th>location</th>\n",
              "      <th>zip code</th>\n",
              "      <th>subspecies</th>\n",
              "      <th>health</th>\n",
              "      <th>pollen_carrying</th>\n",
              "      <th>caste</th>\n",
              "      <th>width</th>\n",
              "      <th>height</th>\n",
              "      <th>color</th>\n",
              "    </tr>\n",
              "  </thead>\n",
              "  <tbody>\n",
              "    <tr>\n",
              "      <th>0</th>\n",
              "      <td>041_066.png</td>\n",
              "      <td>8/28/18</td>\n",
              "      <td>16:07</td>\n",
              "      <td>Alvin, TX, USA</td>\n",
              "      <td>77511</td>\n",
              "      <td>-1</td>\n",
              "      <td>hive being robbed</td>\n",
              "      <td>False</td>\n",
              "      <td>worker</td>\n",
              "      <td>115</td>\n",
              "      <td>164</td>\n",
              "      <td>3</td>\n",
              "    </tr>\n",
              "    <tr>\n",
              "      <th>1</th>\n",
              "      <td>041_072.png</td>\n",
              "      <td>8/28/18</td>\n",
              "      <td>16:07</td>\n",
              "      <td>Alvin, TX, USA</td>\n",
              "      <td>77511</td>\n",
              "      <td>-1</td>\n",
              "      <td>hive being robbed</td>\n",
              "      <td>False</td>\n",
              "      <td>worker</td>\n",
              "      <td>201</td>\n",
              "      <td>90</td>\n",
              "      <td>3</td>\n",
              "    </tr>\n",
              "    <tr>\n",
              "      <th>2</th>\n",
              "      <td>041_073.png</td>\n",
              "      <td>8/28/18</td>\n",
              "      <td>16:07</td>\n",
              "      <td>Alvin, TX, USA</td>\n",
              "      <td>77511</td>\n",
              "      <td>-1</td>\n",
              "      <td>hive being robbed</td>\n",
              "      <td>False</td>\n",
              "      <td>worker</td>\n",
              "      <td>132</td>\n",
              "      <td>167</td>\n",
              "      <td>3</td>\n",
              "    </tr>\n",
              "    <tr>\n",
              "      <th>3</th>\n",
              "      <td>041_067.png</td>\n",
              "      <td>8/28/18</td>\n",
              "      <td>16:07</td>\n",
              "      <td>Alvin, TX, USA</td>\n",
              "      <td>77511</td>\n",
              "      <td>-1</td>\n",
              "      <td>hive being robbed</td>\n",
              "      <td>False</td>\n",
              "      <td>worker</td>\n",
              "      <td>134</td>\n",
              "      <td>97</td>\n",
              "      <td>3</td>\n",
              "    </tr>\n",
              "    <tr>\n",
              "      <th>4</th>\n",
              "      <td>041_059.png</td>\n",
              "      <td>8/28/18</td>\n",
              "      <td>16:07</td>\n",
              "      <td>Alvin, TX, USA</td>\n",
              "      <td>77511</td>\n",
              "      <td>-1</td>\n",
              "      <td>hive being robbed</td>\n",
              "      <td>False</td>\n",
              "      <td>worker</td>\n",
              "      <td>147</td>\n",
              "      <td>106</td>\n",
              "      <td>3</td>\n",
              "    </tr>\n",
              "  </tbody>\n",
              "</table>\n",
              "</div>\n",
              "      <button class=\"colab-df-convert\" onclick=\"convertToInteractive('df-ebabba66-d2e3-49a4-9dec-418bd08b55b4')\"\n",
              "              title=\"Convert this dataframe to an interactive table.\"\n",
              "              style=\"display:none;\">\n",
              "        \n",
              "  <svg xmlns=\"http://www.w3.org/2000/svg\" height=\"24px\"viewBox=\"0 0 24 24\"\n",
              "       width=\"24px\">\n",
              "    <path d=\"M0 0h24v24H0V0z\" fill=\"none\"/>\n",
              "    <path d=\"M18.56 5.44l.94 2.06.94-2.06 2.06-.94-2.06-.94-.94-2.06-.94 2.06-2.06.94zm-11 1L8.5 8.5l.94-2.06 2.06-.94-2.06-.94L8.5 2.5l-.94 2.06-2.06.94zm10 10l.94 2.06.94-2.06 2.06-.94-2.06-.94-.94-2.06-.94 2.06-2.06.94z\"/><path d=\"M17.41 7.96l-1.37-1.37c-.4-.4-.92-.59-1.43-.59-.52 0-1.04.2-1.43.59L10.3 9.45l-7.72 7.72c-.78.78-.78 2.05 0 2.83L4 21.41c.39.39.9.59 1.41.59.51 0 1.02-.2 1.41-.59l7.78-7.78 2.81-2.81c.8-.78.8-2.07 0-2.86zM5.41 20L4 18.59l7.72-7.72 1.47 1.35L5.41 20z\"/>\n",
              "  </svg>\n",
              "      </button>\n",
              "      \n",
              "  <style>\n",
              "    .colab-df-container {\n",
              "      display:flex;\n",
              "      flex-wrap:wrap;\n",
              "      gap: 12px;\n",
              "    }\n",
              "\n",
              "    .colab-df-convert {\n",
              "      background-color: #E8F0FE;\n",
              "      border: none;\n",
              "      border-radius: 50%;\n",
              "      cursor: pointer;\n",
              "      display: none;\n",
              "      fill: #1967D2;\n",
              "      height: 32px;\n",
              "      padding: 0 0 0 0;\n",
              "      width: 32px;\n",
              "    }\n",
              "\n",
              "    .colab-df-convert:hover {\n",
              "      background-color: #E2EBFA;\n",
              "      box-shadow: 0px 1px 2px rgba(60, 64, 67, 0.3), 0px 1px 3px 1px rgba(60, 64, 67, 0.15);\n",
              "      fill: #174EA6;\n",
              "    }\n",
              "\n",
              "    [theme=dark] .colab-df-convert {\n",
              "      background-color: #3B4455;\n",
              "      fill: #D2E3FC;\n",
              "    }\n",
              "\n",
              "    [theme=dark] .colab-df-convert:hover {\n",
              "      background-color: #434B5C;\n",
              "      box-shadow: 0px 1px 3px 1px rgba(0, 0, 0, 0.15);\n",
              "      filter: drop-shadow(0px 1px 2px rgba(0, 0, 0, 0.3));\n",
              "      fill: #FFFFFF;\n",
              "    }\n",
              "  </style>\n",
              "\n",
              "      <script>\n",
              "        const buttonEl =\n",
              "          document.querySelector('#df-ebabba66-d2e3-49a4-9dec-418bd08b55b4 button.colab-df-convert');\n",
              "        buttonEl.style.display =\n",
              "          google.colab.kernel.accessAllowed ? 'block' : 'none';\n",
              "\n",
              "        async function convertToInteractive(key) {\n",
              "          const element = document.querySelector('#df-ebabba66-d2e3-49a4-9dec-418bd08b55b4');\n",
              "          const dataTable =\n",
              "            await google.colab.kernel.invokeFunction('convertToInteractive',\n",
              "                                                     [key], {});\n",
              "          if (!dataTable) return;\n",
              "\n",
              "          const docLinkHtml = 'Like what you see? Visit the ' +\n",
              "            '<a target=\"_blank\" href=https://colab.research.google.com/notebooks/data_table.ipynb>data table notebook</a>'\n",
              "            + ' to learn more about interactive tables.';\n",
              "          element.innerHTML = '';\n",
              "          dataTable['output_type'] = 'display_data';\n",
              "          await google.colab.output.renderOutput(dataTable, element);\n",
              "          const docLink = document.createElement('div');\n",
              "          docLink.innerHTML = docLinkHtml;\n",
              "          element.appendChild(docLink);\n",
              "        }\n",
              "      </script>\n",
              "    </div>\n",
              "  </div>\n",
              "  "
            ]
          },
          "metadata": {},
          "execution_count": 118
        }
      ]
    },
    {
      "cell_type": "code",
      "source": [
        "bee_df.location.value_counts()"
      ],
      "metadata": {
        "colab": {
          "base_uri": "https://localhost:8080/"
        },
        "id": "3H1IeQYMB8M1",
        "outputId": "94d9d605-73fe-41c8-92f1-44339f3f3d4a"
      },
      "execution_count": 119,
      "outputs": [
        {
          "output_type": "execute_result",
          "data": {
            "text/plain": [
              "Saratoga, CA, USA       2000\n",
              "Athens, GA, USA         1051\n",
              "Des Moines, IA, USA      973\n",
              "Alvin, TX, USA           737\n",
              "New Orleans, LA, USA     170\n",
              "San Jose, CA, USA        149\n",
              "Keene, NH, USA            92\n",
              "Name: location, dtype: int64"
            ]
          },
          "metadata": {},
          "execution_count": 119
        }
      ]
    },
    {
      "cell_type": "code",
      "source": [
        "bee_df['date_time'] = pd.to_datetime(bee_df['date'] + ' ' + bee_df['time'])\n",
        "bee_df[\"year\"] = bee_df['date_time'].dt.year\n",
        "bee_df[\"month\"] = bee_df['date_time'].dt.month\n",
        "bee_df[\"day\"] = bee_df['date_time'].dt.day\n",
        "bee_df[\"hour\"] = bee_df['date_time'].dt.hour\n",
        "bee_df[\"minute\"] = bee_df['date_time'].dt.minute"
      ],
      "metadata": {
        "id": "xV7Z5yuDCBcp"
      },
      "execution_count": 120,
      "outputs": []
    },
    {
      "cell_type": "code",
      "source": [
        "bee_df.head()"
      ],
      "metadata": {
        "colab": {
          "base_uri": "https://localhost:8080/",
          "height": 206
        },
        "id": "ec_3JSSgIZ-0",
        "outputId": "e0e37885-c50d-4c28-dfbf-54fcb7ca6018"
      },
      "execution_count": 121,
      "outputs": [
        {
          "output_type": "execute_result",
          "data": {
            "text/plain": [
              "          file     date   time        location  zip code subspecies  \\\n",
              "0  041_066.png  8/28/18  16:07  Alvin, TX, USA     77511         -1   \n",
              "1  041_072.png  8/28/18  16:07  Alvin, TX, USA     77511         -1   \n",
              "2  041_073.png  8/28/18  16:07  Alvin, TX, USA     77511         -1   \n",
              "3  041_067.png  8/28/18  16:07  Alvin, TX, USA     77511         -1   \n",
              "4  041_059.png  8/28/18  16:07  Alvin, TX, USA     77511         -1   \n",
              "\n",
              "              health  pollen_carrying   caste  width  height  color  \\\n",
              "0  hive being robbed            False  worker    115     164      3   \n",
              "1  hive being robbed            False  worker    201      90      3   \n",
              "2  hive being robbed            False  worker    132     167      3   \n",
              "3  hive being robbed            False  worker    134      97      3   \n",
              "4  hive being robbed            False  worker    147     106      3   \n",
              "\n",
              "            date_time  year  month  day  hour  minute  \n",
              "0 2018-08-28 16:07:00  2018      8   28    16       7  \n",
              "1 2018-08-28 16:07:00  2018      8   28    16       7  \n",
              "2 2018-08-28 16:07:00  2018      8   28    16       7  \n",
              "3 2018-08-28 16:07:00  2018      8   28    16       7  \n",
              "4 2018-08-28 16:07:00  2018      8   28    16       7  "
            ],
            "text/html": [
              "\n",
              "  <div id=\"df-10b95e62-2c86-4c20-8533-acc8f51f967e\">\n",
              "    <div class=\"colab-df-container\">\n",
              "      <div>\n",
              "<style scoped>\n",
              "    .dataframe tbody tr th:only-of-type {\n",
              "        vertical-align: middle;\n",
              "    }\n",
              "\n",
              "    .dataframe tbody tr th {\n",
              "        vertical-align: top;\n",
              "    }\n",
              "\n",
              "    .dataframe thead th {\n",
              "        text-align: right;\n",
              "    }\n",
              "</style>\n",
              "<table border=\"1\" class=\"dataframe\">\n",
              "  <thead>\n",
              "    <tr style=\"text-align: right;\">\n",
              "      <th></th>\n",
              "      <th>file</th>\n",
              "      <th>date</th>\n",
              "      <th>time</th>\n",
              "      <th>location</th>\n",
              "      <th>zip code</th>\n",
              "      <th>subspecies</th>\n",
              "      <th>health</th>\n",
              "      <th>pollen_carrying</th>\n",
              "      <th>caste</th>\n",
              "      <th>width</th>\n",
              "      <th>height</th>\n",
              "      <th>color</th>\n",
              "      <th>date_time</th>\n",
              "      <th>year</th>\n",
              "      <th>month</th>\n",
              "      <th>day</th>\n",
              "      <th>hour</th>\n",
              "      <th>minute</th>\n",
              "    </tr>\n",
              "  </thead>\n",
              "  <tbody>\n",
              "    <tr>\n",
              "      <th>0</th>\n",
              "      <td>041_066.png</td>\n",
              "      <td>8/28/18</td>\n",
              "      <td>16:07</td>\n",
              "      <td>Alvin, TX, USA</td>\n",
              "      <td>77511</td>\n",
              "      <td>-1</td>\n",
              "      <td>hive being robbed</td>\n",
              "      <td>False</td>\n",
              "      <td>worker</td>\n",
              "      <td>115</td>\n",
              "      <td>164</td>\n",
              "      <td>3</td>\n",
              "      <td>2018-08-28 16:07:00</td>\n",
              "      <td>2018</td>\n",
              "      <td>8</td>\n",
              "      <td>28</td>\n",
              "      <td>16</td>\n",
              "      <td>7</td>\n",
              "    </tr>\n",
              "    <tr>\n",
              "      <th>1</th>\n",
              "      <td>041_072.png</td>\n",
              "      <td>8/28/18</td>\n",
              "      <td>16:07</td>\n",
              "      <td>Alvin, TX, USA</td>\n",
              "      <td>77511</td>\n",
              "      <td>-1</td>\n",
              "      <td>hive being robbed</td>\n",
              "      <td>False</td>\n",
              "      <td>worker</td>\n",
              "      <td>201</td>\n",
              "      <td>90</td>\n",
              "      <td>3</td>\n",
              "      <td>2018-08-28 16:07:00</td>\n",
              "      <td>2018</td>\n",
              "      <td>8</td>\n",
              "      <td>28</td>\n",
              "      <td>16</td>\n",
              "      <td>7</td>\n",
              "    </tr>\n",
              "    <tr>\n",
              "      <th>2</th>\n",
              "      <td>041_073.png</td>\n",
              "      <td>8/28/18</td>\n",
              "      <td>16:07</td>\n",
              "      <td>Alvin, TX, USA</td>\n",
              "      <td>77511</td>\n",
              "      <td>-1</td>\n",
              "      <td>hive being robbed</td>\n",
              "      <td>False</td>\n",
              "      <td>worker</td>\n",
              "      <td>132</td>\n",
              "      <td>167</td>\n",
              "      <td>3</td>\n",
              "      <td>2018-08-28 16:07:00</td>\n",
              "      <td>2018</td>\n",
              "      <td>8</td>\n",
              "      <td>28</td>\n",
              "      <td>16</td>\n",
              "      <td>7</td>\n",
              "    </tr>\n",
              "    <tr>\n",
              "      <th>3</th>\n",
              "      <td>041_067.png</td>\n",
              "      <td>8/28/18</td>\n",
              "      <td>16:07</td>\n",
              "      <td>Alvin, TX, USA</td>\n",
              "      <td>77511</td>\n",
              "      <td>-1</td>\n",
              "      <td>hive being robbed</td>\n",
              "      <td>False</td>\n",
              "      <td>worker</td>\n",
              "      <td>134</td>\n",
              "      <td>97</td>\n",
              "      <td>3</td>\n",
              "      <td>2018-08-28 16:07:00</td>\n",
              "      <td>2018</td>\n",
              "      <td>8</td>\n",
              "      <td>28</td>\n",
              "      <td>16</td>\n",
              "      <td>7</td>\n",
              "    </tr>\n",
              "    <tr>\n",
              "      <th>4</th>\n",
              "      <td>041_059.png</td>\n",
              "      <td>8/28/18</td>\n",
              "      <td>16:07</td>\n",
              "      <td>Alvin, TX, USA</td>\n",
              "      <td>77511</td>\n",
              "      <td>-1</td>\n",
              "      <td>hive being robbed</td>\n",
              "      <td>False</td>\n",
              "      <td>worker</td>\n",
              "      <td>147</td>\n",
              "      <td>106</td>\n",
              "      <td>3</td>\n",
              "      <td>2018-08-28 16:07:00</td>\n",
              "      <td>2018</td>\n",
              "      <td>8</td>\n",
              "      <td>28</td>\n",
              "      <td>16</td>\n",
              "      <td>7</td>\n",
              "    </tr>\n",
              "  </tbody>\n",
              "</table>\n",
              "</div>\n",
              "      <button class=\"colab-df-convert\" onclick=\"convertToInteractive('df-10b95e62-2c86-4c20-8533-acc8f51f967e')\"\n",
              "              title=\"Convert this dataframe to an interactive table.\"\n",
              "              style=\"display:none;\">\n",
              "        \n",
              "  <svg xmlns=\"http://www.w3.org/2000/svg\" height=\"24px\"viewBox=\"0 0 24 24\"\n",
              "       width=\"24px\">\n",
              "    <path d=\"M0 0h24v24H0V0z\" fill=\"none\"/>\n",
              "    <path d=\"M18.56 5.44l.94 2.06.94-2.06 2.06-.94-2.06-.94-.94-2.06-.94 2.06-2.06.94zm-11 1L8.5 8.5l.94-2.06 2.06-.94-2.06-.94L8.5 2.5l-.94 2.06-2.06.94zm10 10l.94 2.06.94-2.06 2.06-.94-2.06-.94-.94-2.06-.94 2.06-2.06.94z\"/><path d=\"M17.41 7.96l-1.37-1.37c-.4-.4-.92-.59-1.43-.59-.52 0-1.04.2-1.43.59L10.3 9.45l-7.72 7.72c-.78.78-.78 2.05 0 2.83L4 21.41c.39.39.9.59 1.41.59.51 0 1.02-.2 1.41-.59l7.78-7.78 2.81-2.81c.8-.78.8-2.07 0-2.86zM5.41 20L4 18.59l7.72-7.72 1.47 1.35L5.41 20z\"/>\n",
              "  </svg>\n",
              "      </button>\n",
              "      \n",
              "  <style>\n",
              "    .colab-df-container {\n",
              "      display:flex;\n",
              "      flex-wrap:wrap;\n",
              "      gap: 12px;\n",
              "    }\n",
              "\n",
              "    .colab-df-convert {\n",
              "      background-color: #E8F0FE;\n",
              "      border: none;\n",
              "      border-radius: 50%;\n",
              "      cursor: pointer;\n",
              "      display: none;\n",
              "      fill: #1967D2;\n",
              "      height: 32px;\n",
              "      padding: 0 0 0 0;\n",
              "      width: 32px;\n",
              "    }\n",
              "\n",
              "    .colab-df-convert:hover {\n",
              "      background-color: #E2EBFA;\n",
              "      box-shadow: 0px 1px 2px rgba(60, 64, 67, 0.3), 0px 1px 3px 1px rgba(60, 64, 67, 0.15);\n",
              "      fill: #174EA6;\n",
              "    }\n",
              "\n",
              "    [theme=dark] .colab-df-convert {\n",
              "      background-color: #3B4455;\n",
              "      fill: #D2E3FC;\n",
              "    }\n",
              "\n",
              "    [theme=dark] .colab-df-convert:hover {\n",
              "      background-color: #434B5C;\n",
              "      box-shadow: 0px 1px 3px 1px rgba(0, 0, 0, 0.15);\n",
              "      filter: drop-shadow(0px 1px 2px rgba(0, 0, 0, 0.3));\n",
              "      fill: #FFFFFF;\n",
              "    }\n",
              "  </style>\n",
              "\n",
              "      <script>\n",
              "        const buttonEl =\n",
              "          document.querySelector('#df-10b95e62-2c86-4c20-8533-acc8f51f967e button.colab-df-convert');\n",
              "        buttonEl.style.display =\n",
              "          google.colab.kernel.accessAllowed ? 'block' : 'none';\n",
              "\n",
              "        async function convertToInteractive(key) {\n",
              "          const element = document.querySelector('#df-10b95e62-2c86-4c20-8533-acc8f51f967e');\n",
              "          const dataTable =\n",
              "            await google.colab.kernel.invokeFunction('convertToInteractive',\n",
              "                                                     [key], {});\n",
              "          if (!dataTable) return;\n",
              "\n",
              "          const docLinkHtml = 'Like what you see? Visit the ' +\n",
              "            '<a target=\"_blank\" href=https://colab.research.google.com/notebooks/data_table.ipynb>data table notebook</a>'\n",
              "            + ' to learn more about interactive tables.';\n",
              "          element.innerHTML = '';\n",
              "          dataTable['output_type'] = 'display_data';\n",
              "          await google.colab.output.renderOutput(dataTable, element);\n",
              "          const docLink = document.createElement('div');\n",
              "          docLink.innerHTML = docLinkHtml;\n",
              "          element.appendChild(docLink);\n",
              "        }\n",
              "      </script>\n",
              "    </div>\n",
              "  </div>\n",
              "  "
            ]
          },
          "metadata": {},
          "execution_count": 121
        }
      ]
    },
    {
      "cell_type": "code",
      "source": [],
      "metadata": {
        "id": "X8YDB1CQIpfp"
      },
      "execution_count": 121,
      "outputs": []
    },
    {
      "cell_type": "code",
      "source": [],
      "metadata": {
        "id": "bsBgGCI5JBLa"
      },
      "execution_count": 121,
      "outputs": []
    },
    {
      "cell_type": "code",
      "source": [],
      "metadata": {
        "id": "hMdtyPqNJBNC"
      },
      "execution_count": 121,
      "outputs": []
    },
    {
      "cell_type": "code",
      "source": [],
      "metadata": {
        "id": "FbLAI3MCJBQm"
      },
      "execution_count": 121,
      "outputs": []
    },
    {
      "cell_type": "markdown",
      "source": [
        "### Train-test-split"
      ],
      "metadata": {
        "id": "ZFiPfn1EJB0u"
      }
    },
    {
      "cell_type": "code",
      "source": [],
      "metadata": {
        "id": "a5lGRYXcJOrz"
      },
      "execution_count": 121,
      "outputs": []
    },
    {
      "cell_type": "code",
      "source": [
        "train_df, test_df = train_test_split(bee_df, test_size=TEST_SIZE, \n",
        "                                     random_state=RANDOM_STATE, \n",
        "                                     stratify=bee_df['subspecies'])"
      ],
      "metadata": {
        "id": "1HCwBEljJHkI"
      },
      "execution_count": 122,
      "outputs": []
    },
    {
      "cell_type": "code",
      "source": [
        "train_df, val_df = train_test_split(train_df, test_size=VAL_SIZE, \n",
        "                                    random_state=RANDOM_STATE, \n",
        "                                    stratify=train_df['subspecies'])"
      ],
      "metadata": {
        "id": "pBPx-KVTJipW"
      },
      "execution_count": 123,
      "outputs": []
    },
    {
      "cell_type": "code",
      "source": [
        "print(\"Train set rows: {}\".format(train_df.shape[0]))\n",
        "print(\"Test  set rows: {}\".format(test_df.shape[0]))\n",
        "print(\"Val   set rows: {}\".format(val_df.shape[0]))"
      ],
      "metadata": {
        "colab": {
          "base_uri": "https://localhost:8080/"
        },
        "id": "N1sKQ2LrJq50",
        "outputId": "2307696b-7a9e-49fe-92c7-737592b33ca4"
      },
      "execution_count": 124,
      "outputs": [
        {
          "output_type": "stream",
          "name": "stdout",
          "text": [
            "Train set rows: 3309\n",
            "Test  set rows: 1035\n",
            "Val   set rows: 828\n"
          ]
        }
      ]
    },
    {
      "cell_type": "code",
      "source": [
        "def read_image(file_name):\n",
        "    image = skimage.io.imread(IMAGE_PATH + file_name)\n",
        "    image = skimage.transform.resize(image, (IMAGE_WIDTH, IMAGE_HEIGHT), mode='reflect')\n",
        "    return image[:,:,:IMAGE_CHANNELS]"
      ],
      "metadata": {
        "id": "LyXt3wKxJtvr"
      },
      "execution_count": 125,
      "outputs": []
    },
    {
      "cell_type": "code",
      "source": [
        "def categories_encoder(dataset, var='subspecies'):\n",
        "    X = np.stack(dataset['file'].apply(read_image))\n",
        "    y = pd.get_dummies(dataset[var], drop_first=False)\n",
        "    return X, y"
      ],
      "metadata": {
        "id": "u17-sAQ4KAUZ"
      },
      "execution_count": 126,
      "outputs": []
    },
    {
      "cell_type": "code",
      "source": [
        "X_train, y_train = categories_encoder(train_df)\n",
        "X_val, y_val = categories_encoder(val_df)\n",
        "X_test, y_test = categories_encoder(test_df)"
      ],
      "metadata": {
        "id": "sz3B6GCcKZoZ"
      },
      "execution_count": 127,
      "outputs": []
    },
    {
      "cell_type": "code",
      "source": [],
      "metadata": {
        "id": "7j9ovIJMKhn1"
      },
      "execution_count": 127,
      "outputs": []
    },
    {
      "cell_type": "code",
      "source": [],
      "metadata": {
        "id": "UDk_RFmKKrU-"
      },
      "execution_count": 127,
      "outputs": []
    },
    {
      "cell_type": "markdown",
      "source": [
        "## CNN"
      ],
      "metadata": {
        "id": "Y3WgwKJLKsIp"
      }
    },
    {
      "cell_type": "code",
      "source": [
        "model1 = Sequential()\n",
        "\n",
        "\n",
        "model1.add(Conv2D(CONV_2D_DIM_1, kernel_size=KERNEL_SIZE, input_shape=(IMAGE_WIDTH, IMAGE_HEIGHT,IMAGE_CHANNELS), activation='relu', padding='same'))\n",
        "model1.add(MaxPool2D(MAX_POOL_DIM))\n",
        "model1.add(Conv2D(CONV_2D_DIM_2, kernel_size=KERNEL_SIZE, activation='relu', padding='same'))\n",
        "model1.add(Flatten())\n",
        "model1.add(Dense(y_train.columns.size, activation='softmax'))\n",
        "\n",
        "\n",
        "model1.compile(optimizer='adam', loss='categorical_crossentropy', metrics=['accuracy'])"
      ],
      "metadata": {
        "id": "AwfiMx-aKrYc"
      },
      "execution_count": 128,
      "outputs": []
    },
    {
      "cell_type": "code",
      "source": [
        "model1.summary()"
      ],
      "metadata": {
        "colab": {
          "base_uri": "https://localhost:8080/"
        },
        "id": "F5wDHP7qLQFf",
        "outputId": "f468018b-8da7-44d5-a965-a70fbd2e4de1"
      },
      "execution_count": 129,
      "outputs": [
        {
          "output_type": "stream",
          "name": "stdout",
          "text": [
            "Model: \"sequential_5\"\n",
            "_________________________________________________________________\n",
            " Layer (type)                Output Shape              Param #   \n",
            "=================================================================\n",
            " conv2d_10 (Conv2D)          (None, 100, 100, 16)      448       \n",
            "                                                                 \n",
            " max_pooling2d_5 (MaxPooling  (None, 50, 50, 16)       0         \n",
            " 2D)                                                             \n",
            "                                                                 \n",
            " conv2d_11 (Conv2D)          (None, 50, 50, 16)        2320      \n",
            "                                                                 \n",
            " flatten_5 (Flatten)         (None, 40000)             0         \n",
            "                                                                 \n",
            " dense_5 (Dense)             (None, 7)                 280007    \n",
            "                                                                 \n",
            "=================================================================\n",
            "Total params: 282,775\n",
            "Trainable params: 282,775\n",
            "Non-trainable params: 0\n",
            "_________________________________________________________________\n"
          ]
        }
      ]
    },
    {
      "cell_type": "code",
      "source": [],
      "metadata": {
        "id": "vUfqwPsvEFYQ"
      },
      "execution_count": 129,
      "outputs": []
    },
    {
      "cell_type": "code",
      "source": [
        "history1 = model1.fit(\n",
        "    X_train, y_train,\n",
        "    validation_data=(X_val, y_val),\n",
        "    epochs=10,\n",
        "    batch_size=256,\n",
        "    verbose=1\n",
        ")"
      ],
      "metadata": {
        "colab": {
          "base_uri": "https://localhost:8080/"
        },
        "id": "OP1dlLEmLSCg",
        "outputId": "dee1e96d-dbfb-4275-f30f-163ff94b6eb4"
      },
      "execution_count": 130,
      "outputs": [
        {
          "output_type": "stream",
          "name": "stdout",
          "text": [
            "Epoch 1/10\n",
            "13/13 [==============================] - 1s 71ms/step - loss: 1.8084 - accuracy: 0.4669 - val_loss: 1.3021 - val_accuracy: 0.5821\n",
            "Epoch 2/10\n",
            "13/13 [==============================] - 1s 49ms/step - loss: 1.0580 - accuracy: 0.6304 - val_loss: 0.8363 - val_accuracy: 0.7415\n",
            "Epoch 3/10\n",
            "13/13 [==============================] - 1s 49ms/step - loss: 0.7291 - accuracy: 0.7283 - val_loss: 0.6367 - val_accuracy: 0.7729\n",
            "Epoch 4/10\n",
            "13/13 [==============================] - 1s 53ms/step - loss: 0.5756 - accuracy: 0.7773 - val_loss: 0.6151 - val_accuracy: 0.7838\n",
            "Epoch 5/10\n",
            "13/13 [==============================] - 1s 48ms/step - loss: 0.4856 - accuracy: 0.8150 - val_loss: 0.4621 - val_accuracy: 0.8116\n",
            "Epoch 6/10\n",
            "13/13 [==============================] - 1s 49ms/step - loss: 0.4011 - accuracy: 0.8407 - val_loss: 0.4093 - val_accuracy: 0.8442\n",
            "Epoch 7/10\n",
            "13/13 [==============================] - 1s 48ms/step - loss: 0.3400 - accuracy: 0.8767 - val_loss: 0.3561 - val_accuracy: 0.8611\n",
            "Epoch 8/10\n",
            "13/13 [==============================] - 1s 49ms/step - loss: 0.3025 - accuracy: 0.8837 - val_loss: 0.3164 - val_accuracy: 0.8720\n",
            "Epoch 9/10\n",
            "13/13 [==============================] - 1s 49ms/step - loss: 0.2741 - accuracy: 0.8933 - val_loss: 0.3059 - val_accuracy: 0.8756\n",
            "Epoch 10/10\n",
            "13/13 [==============================] - 1s 49ms/step - loss: 0.2509 - accuracy: 0.9105 - val_loss: 0.3012 - val_accuracy: 0.8816\n"
          ]
        }
      ]
    },
    {
      "cell_type": "code",
      "source": [
        "history1.history"
      ],
      "metadata": {
        "colab": {
          "base_uri": "https://localhost:8080/"
        },
        "id": "HsphP9xNEifq",
        "outputId": "8fa06a73-359b-4b59-81d0-be386e078553"
      },
      "execution_count": 131,
      "outputs": [
        {
          "output_type": "execute_result",
          "data": {
            "text/plain": [
              "{'loss': [1.808415174484253,\n",
              "  1.0580331087112427,\n",
              "  0.7291478514671326,\n",
              "  0.5756341218948364,\n",
              "  0.48556768894195557,\n",
              "  0.40113356709480286,\n",
              "  0.3399809002876282,\n",
              "  0.3025434911251068,\n",
              "  0.27408236265182495,\n",
              "  0.2508828639984131],\n",
              " 'accuracy': [0.46690842509269714,\n",
              "  0.6304019093513489,\n",
              "  0.7283167243003845,\n",
              "  0.7772740721702576,\n",
              "  0.8150498867034912,\n",
              "  0.8407374024391174,\n",
              "  0.8766999244689941,\n",
              "  0.8836506605148315,\n",
              "  0.8933212161064148,\n",
              "  0.9105470180511475],\n",
              " 'val_loss': [1.30207097530365,\n",
              "  0.8363304734230042,\n",
              "  0.6366676092147827,\n",
              "  0.6150874495506287,\n",
              "  0.4620972275733948,\n",
              "  0.4093203842639923,\n",
              "  0.3560968041419983,\n",
              "  0.31644347310066223,\n",
              "  0.3059474527835846,\n",
              "  0.3011573255062103],\n",
              " 'val_accuracy': [0.5821256041526794,\n",
              "  0.7415459156036377,\n",
              "  0.772946834564209,\n",
              "  0.783816397190094,\n",
              "  0.8115941882133484,\n",
              "  0.8442028760910034,\n",
              "  0.8611111044883728,\n",
              "  0.8719806671142578,\n",
              "  0.8756038546562195,\n",
              "  0.8816425204277039]}"
            ]
          },
          "metadata": {},
          "execution_count": 131
        }
      ]
    },
    {
      "cell_type": "code",
      "source": [
        "model1.history"
      ],
      "metadata": {
        "colab": {
          "base_uri": "https://localhost:8080/"
        },
        "id": "dNhntR-GOsau",
        "outputId": "8f4d4024-fbe4-4809-86e5-3ad050344b49"
      },
      "execution_count": 132,
      "outputs": [
        {
          "output_type": "execute_result",
          "data": {
            "text/plain": [
              "<keras.callbacks.History at 0x7f159185ad90>"
            ]
          },
          "metadata": {},
          "execution_count": 132
        }
      ]
    },
    {
      "cell_type": "code",
      "source": [
        "def plot_loss(history):\n",
        "    train_loss = history.history['loss']\n",
        "    test_loss = history.history['val_loss']\n",
        "\n",
        "    # Set figure size\n",
        "    plt.figure(figsize=(12, 8))\n",
        "\n",
        "    # Generate line plot of training, testing loss over epochs\n",
        "    plt.plot(train_loss, label='Training Loss', color='#185fad')\n",
        "    plt.plot(test_loss, label='Testing Loss', color='orange')\n",
        "\n",
        "    # Set title\n",
        "    plt.title('Training and Testing Loss by Epoch', fontsize = 25)\n",
        "    plt.xlabel('Epoch', fontsize = 18)\n",
        "    plt.ylabel('Categorical Crossentropy', fontsize = 18)\n",
        "    plt.xticks(np.arange(10), np.arange(10))\n",
        "\n",
        "    plt.legend(fontsize = 18);\n",
        "\n",
        "plot_loss(history1)"
      ],
      "metadata": {
        "colab": {
          "base_uri": "https://localhost:8080/",
          "height": 530
        },
        "id": "i5nRHKYkPORt",
        "outputId": "de2d7310-a243-4e47-cd2d-e12cdea857f2"
      },
      "execution_count": 133,
      "outputs": [
        {
          "output_type": "display_data",
          "data": {
            "text/plain": [
              "<Figure size 864x576 with 1 Axes>"
            ],
            "image/png": "[encoded data removed]"
          },
          "metadata": {
            "needs_background": "light"
          }
        }
      ]
    },
    {
      "cell_type": "markdown",
      "source": [
        "### With Image Augmentation"
      ],
      "metadata": {
        "id": "ErnxKeFSENU0"
      }
    },
    {
      "cell_type": "code",
      "source": [
        "image_generator = ImageDataGenerator(\n",
        "        featurewise_center=False,\n",
        "        samplewise_center=False,\n",
        "        featurewise_std_normalization=False,\n",
        "        samplewise_std_normalization=False,\n",
        "        zca_whitening=False,\n",
        "        rotation_range=180,\n",
        "        zoom_range = 0.1, \n",
        "        width_shift_range=0.1,\n",
        "        height_shift_range=0.1, \n",
        "        horizontal_flip=True,\n",
        "        vertical_flip=True)\n",
        "image_generator.fit(X_train)"
      ],
      "metadata": {
        "id": "MHGx8CRfNSLE"
      },
      "execution_count": 134,
      "outputs": []
    },
    {
      "cell_type": "code",
      "source": [
        "model1_train = model1.fit_generator(image_generator.flow(X_train, y_train, batch_size=BATCH_SIZE),\n",
        "                        epochs=NO_EPOCHS_1,\n",
        "                        validation_data=[X_val, y_val],\n",
        "                        steps_per_epoch=len(X_train)/BATCH_SIZE)"
      ],
      "metadata": {
        "id": "NBGpd0x2OdzY",
        "colab": {
          "base_uri": "https://localhost:8080/"
        },
        "outputId": "0af38b4e-95e8-4db9-e1c2-d07f9b4067f7"
      },
      "execution_count": 135,
      "outputs": [
        {
          "output_type": "stream",
          "name": "stdout",
          "text": [
            "Epoch 1/5\n"
          ]
        },
        {
          "output_type": "stream",
          "name": "stderr",
          "text": [
            "/usr/local/lib/python3.7/dist-packages/ipykernel_launcher.py:4: UserWarning:\n",
            "\n",
            "`Model.fit_generator` is deprecated and will be removed in a future version. Please use `Model.fit`, which supports generators.\n",
            "\n"
          ]
        },
        {
          "output_type": "stream",
          "name": "stdout",
          "text": [
            "103/103 [==============================] - 9s 82ms/step - loss: 0.5401 - accuracy: 0.7960 - val_loss: 0.3376 - val_accuracy: 0.8780\n",
            "Epoch 2/5\n",
            "103/103 [==============================] - 8s 81ms/step - loss: 0.4276 - accuracy: 0.8259 - val_loss: 0.3242 - val_accuracy: 0.8599\n",
            "Epoch 3/5\n",
            "103/103 [==============================] - 9s 83ms/step - loss: 0.3960 - accuracy: 0.8438 - val_loss: 0.3110 - val_accuracy: 0.8647\n",
            "Epoch 4/5\n",
            "103/103 [==============================] - 8s 81ms/step - loss: 0.3313 - accuracy: 0.8586 - val_loss: 0.3937 - val_accuracy: 0.8551\n",
            "Epoch 5/5\n",
            "103/103 [==============================] - 12s 112ms/step - loss: 0.3412 - accuracy: 0.8652 - val_loss: 0.2748 - val_accuracy: 0.8829\n"
          ]
        }
      ]
    },
    {
      "cell_type": "code",
      "source": [
        "# summarize history for accuracy\n",
        "def plot_acc_and_loss(model):\n",
        "  plt.figure(figsize=(15,10))\n",
        "  plt.plot(model.history['accuracy'])\n",
        "  plt.plot(model.history['val_accuracy'])\n",
        "  plt.title('Accuracy', fontsize = 15)\n",
        "  plt.ylabel('Accuracy')\n",
        "  plt.xlabel('Epoch')\n",
        "  plt.legend(['Train', 'Validation'], loc='upper left')\n",
        "  plt.show()\n",
        "# summarize history for loss\n",
        "  plt.figure(figsize=(15,10))\n",
        "  plt.plot(model.history['loss'])\n",
        "  plt.plot(model.history['val_loss'])\n",
        "  plt.title('Loss', fontsize = 15)\n",
        "  plt.ylabel('Loss')\n",
        "  plt.xlabel('Epoch')\n",
        "  plt.legend(['Train', 'Validation'], loc='upper left')\n",
        "  plt.show()"
      ],
      "metadata": {
        "id": "EBGZQ5Ipl5Av"
      },
      "execution_count": 136,
      "outputs": []
    },
    {
      "cell_type": "code",
      "source": [
        "plot_acc_and_loss(model1_train)"
      ],
      "metadata": {
        "id": "Cl8M8-shGBk5",
        "colab": {
          "base_uri": "https://localhost:8080/",
          "height": 1000
        },
        "outputId": "ffbc487b-5299-41f7-a049-ce2330c58b88"
      },
      "execution_count": 137,
      "outputs": [
        {
          "output_type": "display_data",
          "data": {
            "text/plain": [
              "<Figure size 1080x720 with 1 Axes>"
            ],
            "image/png": "[encoded data removed]"
          },
          "metadata": {
            "needs_background": "light"
          }
        },
        {
          "output_type": "display_data",
          "data": {
            "text/plain": [
              "<Figure size 1080x720 with 1 Axes>"
            ],
            "image/png": "[encoded data removed]"
          },
          "metadata": {
            "needs_background": "light"
          }
        }
      ]
    },
    {
      "cell_type": "code",
      "source": [],
      "metadata": {
        "id": "zNKenYEEGwW4"
      },
      "execution_count": 137,
      "outputs": []
    },
    {
      "cell_type": "markdown",
      "source": [
        "Model Evaluation"
      ],
      "metadata": {
        "id": "h5b9JdoaxW07"
      }
    },
    {
      "cell_type": "code",
      "source": [
        "score = model1.evaluate(X_test, y_test, verbose=1)\n",
        "print('Test loss:', score[0])\n",
        "print('Test accuracy:', score[1])"
      ],
      "metadata": {
        "colab": {
          "base_uri": "https://localhost:8080/"
        },
        "id": "Kh2mPf6uxYEn",
        "outputId": "4c29c897-87f6-4ae1-81d3-38ac304f51db"
      },
      "execution_count": 138,
      "outputs": [
        {
          "output_type": "stream",
          "name": "stdout",
          "text": [
            "33/33 [==============================] - 0s 6ms/step - loss: 0.2713 - accuracy: 0.8957\n",
            "Test loss: 0.2713240385055542\n",
            "Test accuracy: 0.895652174949646\n"
          ]
        }
      ]
    },
    {
      "cell_type": "code",
      "source": [
        "def test_accuracy_report(model):\n",
        "    predicted = model.predict(X_test)\n",
        "    test_predicted = np.argmax(predicted, axis=1)\n",
        "    test_truth = np.argmax(y_test.values, axis=1)\n",
        "    print(metrics.classification_report(test_truth, test_predicted, target_names=y_test.columns)) \n",
        "    test_res = model.evaluate(X_test, y_test.values, verbose=0)\n",
        "    print('Loss function: %s, accuracy:' % test_res[0], test_res[1])"
      ],
      "metadata": {
        "id": "nDD-gzjnx-I7"
      },
      "execution_count": 139,
      "outputs": []
    },
    {
      "cell_type": "code",
      "source": [
        "test_accuracy_report(model1)"
      ],
      "metadata": {
        "colab": {
          "base_uri": "https://localhost:8080/"
        },
        "id": "Nk17XmW4ydNB",
        "outputId": "1fe1201f-f940-4d8b-b671-5b35b87a8198"
      },
      "execution_count": 140,
      "outputs": [
        {
          "output_type": "stream",
          "name": "stdout",
          "text": [
            "33/33 [==============================] - 0s 4ms/step\n",
            "                       precision    recall  f1-score   support\n",
            "\n",
            "                   -1       0.93      0.80      0.86        86\n",
            "1 Mixed local stock 2       0.84      0.29      0.43        94\n",
            "  Carniolan honey bee       0.97      0.97      0.97       100\n",
            "    Italian honey bee       0.88      0.97      0.92       602\n",
            "    Russian honey bee       0.94      1.00      0.97       106\n",
            "VSH Italian honey bee       0.76      0.97      0.86        40\n",
            "    Western honey bee       1.00      1.00      1.00         7\n",
            "\n",
            "             accuracy                           0.90      1035\n",
            "            macro avg       0.90      0.86      0.86      1035\n",
            "         weighted avg       0.89      0.90      0.88      1035\n",
            "\n",
            "Loss function: 0.2713240385055542, accuracy: 0.895652174949646\n"
          ]
        }
      ]
    },
    {
      "cell_type": "code",
      "source": [],
      "metadata": {
        "id": "ptwgsGWryq6b"
      },
      "execution_count": 140,
      "outputs": []
    },
    {
      "cell_type": "markdown",
      "source": [
        "Dropout Layers"
      ],
      "metadata": {
        "id": "jN5E7pqDzD6z"
      }
    },
    {
      "cell_type": "code",
      "source": [
        "model_drop=Sequential()\n",
        "model_drop.add(Conv2D(CONV_2D_DIM_1, kernel_size=KERNEL_SIZE, input_shape=(IMAGE_WIDTH, IMAGE_HEIGHT,IMAGE_CHANNELS), activation='relu', padding='same'))\n",
        "model_drop.add(MaxPool2D(MAX_POOL_DIM))\n",
        "# Dropout Layer\n",
        "model_drop.add(Dropout(0.4))\n",
        "model_drop.add(Conv2D(CONV_2D_DIM_2, kernel_size=KERNEL_SIZE, activation='relu', padding='same'))\n",
        "# Dropout Layer\n",
        "model_drop.add(Dropout(0.4))\n",
        "model_drop.add(Flatten())\n",
        "model_drop.add(Dense(y_train.columns.size, activation='softmax'))\n",
        "model_drop.compile(optimizer='adam', loss='categorical_crossentropy', metrics=['accuracy'])"
      ],
      "metadata": {
        "id": "T9_au5tKzE6o"
      },
      "execution_count": 149,
      "outputs": []
    },
    {
      "cell_type": "code",
      "source": [
        "model_drop_train  = model_drop.fit_generator(image_generator.flow(X_train, y_train, batch_size=BATCH_SIZE),\n",
        "                        epochs=NO_EPOCHS_2,\n",
        "                        validation_data=[X_val, y_val],\n",
        "                        steps_per_epoch=len(X_train)/BATCH_SIZE)"
      ],
      "metadata": {
        "colab": {
          "base_uri": "https://localhost:8080/"
        },
        "id": "6u8pRO2XzdiU",
        "outputId": "fab7acc9-c637-4915-b792-c41259a40731"
      },
      "execution_count": 150,
      "outputs": [
        {
          "output_type": "stream",
          "name": "stdout",
          "text": [
            "Epoch 1/10\n"
          ]
        },
        {
          "output_type": "stream",
          "name": "stderr",
          "text": [
            "/usr/local/lib/python3.7/dist-packages/ipykernel_launcher.py:4: UserWarning:\n",
            "\n",
            "`Model.fit_generator` is deprecated and will be removed in a future version. Please use `Model.fit`, which supports generators.\n",
            "\n"
          ]
        },
        {
          "output_type": "stream",
          "name": "stdout",
          "text": [
            "103/103 [==============================] - 9s 84ms/step - loss: 1.1125 - accuracy: 0.6552 - val_loss: 0.7850 - val_accuracy: 0.6884\n",
            "Epoch 2/10\n",
            "103/103 [==============================] - 8s 81ms/step - loss: 0.6757 - accuracy: 0.7446 - val_loss: 0.7373 - val_accuracy: 0.7186\n",
            "Epoch 3/10\n",
            "103/103 [==============================] - 9s 87ms/step - loss: 0.5120 - accuracy: 0.8021 - val_loss: 0.5434 - val_accuracy: 0.7911\n",
            "Epoch 4/10\n",
            "103/103 [==============================] - 8s 81ms/step - loss: 0.4529 - accuracy: 0.8226 - val_loss: 0.4376 - val_accuracy: 0.8200\n",
            "Epoch 5/10\n",
            "103/103 [==============================] - 8s 82ms/step - loss: 0.3864 - accuracy: 0.8450 - val_loss: 0.4149 - val_accuracy: 0.8357\n",
            "Epoch 6/10\n",
            "103/103 [==============================] - 8s 81ms/step - loss: 0.3578 - accuracy: 0.8546 - val_loss: 0.4330 - val_accuracy: 0.8490\n",
            "Epoch 7/10\n",
            "103/103 [==============================] - 8s 81ms/step - loss: 0.3511 - accuracy: 0.8607 - val_loss: 0.3206 - val_accuracy: 0.8732\n",
            "Epoch 8/10\n",
            "103/103 [==============================] - 8s 81ms/step - loss: 0.3531 - accuracy: 0.8540 - val_loss: 0.2955 - val_accuracy: 0.8671\n",
            "Epoch 9/10\n",
            "103/103 [==============================] - 8s 80ms/step - loss: 0.3206 - accuracy: 0.8694 - val_loss: 0.3644 - val_accuracy: 0.8611\n",
            "Epoch 10/10\n",
            "103/103 [==============================] - 8s 80ms/step - loss: 0.3001 - accuracy: 0.8773 - val_loss: 0.2949 - val_accuracy: 0.8792\n"
          ]
        }
      ]
    },
    {
      "cell_type": "code",
      "source": [
        "plot_acc_and_loss(model_drop_train)"
      ],
      "metadata": {
        "colab": {
          "base_uri": "https://localhost:8080/",
          "height": 1000
        },
        "id": "q3k6O8W2z1Ls",
        "outputId": "4c3c1d51-36a9-4143-f6d9-5a46e3ff3d62"
      },
      "execution_count": 151,
      "outputs": [
        {
          "output_type": "display_data",
          "data": {
            "text/plain": [
              "<Figure size 1080x720 with 1 Axes>"
            ],
            "image/png": "[encoded data removed]"
          },
          "metadata": {
            "needs_background": "light"
          }
        },
        {
          "output_type": "display_data",
          "data": {
            "text/plain": [
              "<Figure size 1080x720 with 1 Axes>"
            ],
            "image/png": "[encoded data removed]"
          },
          "metadata": {
            "needs_background": "light"
          }
        }
      ]
    },
    {
      "cell_type": "code",
      "source": [
        "test_accuracy_report(model_drop)"
      ],
      "metadata": {
        "colab": {
          "base_uri": "https://localhost:8080/"
        },
        "id": "MCpfOzu40ccV",
        "outputId": "213a67e6-4704-4ec7-9627-4708dad10855"
      },
      "execution_count": 152,
      "outputs": [
        {
          "output_type": "stream",
          "name": "stdout",
          "text": [
            "33/33 [==============================] - 0s 4ms/step\n",
            "                       precision    recall  f1-score   support\n",
            "\n",
            "                   -1       0.98      0.74      0.85        86\n",
            "1 Mixed local stock 2       0.60      0.80      0.68        94\n",
            "  Carniolan honey bee       0.81      0.98      0.89       100\n",
            "    Italian honey bee       0.94      0.89      0.91       602\n",
            "    Russian honey bee       0.91      0.96      0.94       106\n",
            "VSH Italian honey bee       0.88      0.72      0.79        40\n",
            "    Western honey bee       0.88      1.00      0.93         7\n",
            "\n",
            "             accuracy                           0.88      1035\n",
            "            macro avg       0.86      0.87      0.86      1035\n",
            "         weighted avg       0.89      0.88      0.88      1035\n",
            "\n",
            "Loss function: 0.2957060933113098, accuracy: 0.8792270421981812\n"
          ]
        }
      ]
    },
    {
      "cell_type": "code",
      "source": [
        "annealer = LearningRateScheduler(lambda x: 1e-3 * 0.995 ** (x+NO_EPOCHS_3))\n",
        "earlystopper = EarlyStopping(monitor='loss', patience=PATIENCE, verbose=1)"
      ],
      "metadata": {
        "id": "_my1Nkj319tx"
      },
      "execution_count": 156,
      "outputs": []
    },
    {
      "cell_type": "code",
      "source": [
        "model_lr=Sequential()\n",
        "model_lr.add(Conv2D(CONV_2D_DIM_1, kernel_size=KERNEL_SIZE, input_shape=(IMAGE_WIDTH, IMAGE_HEIGHT,IMAGE_CHANNELS), activation='relu', padding='same'))\n",
        "model_lr.add(MaxPool2D(MAX_POOL_DIM))\n",
        "# Add dropouts to the model\n",
        "model_lr.add(Dropout(0.4))\n",
        "model_lr.add(Conv2D(CONV_2D_DIM_2, kernel_size=KERNEL_SIZE, activation='relu', padding='same'))\n",
        "# Add dropouts to the model\n",
        "model_lr.add(Dropout(0.4))\n",
        "model_lr.add(Flatten())\n",
        "model_lr.add(Dense(y_train.columns.size, activation='softmax'))\n",
        "model_lr.compile(optimizer='adam', loss='categorical_crossentropy', metrics=['accuracy'])"
      ],
      "metadata": {
        "id": "S7t7mGcQBbjT"
      },
      "execution_count": 157,
      "outputs": []
    },
    {
      "cell_type": "code",
      "source": [
        "train_model_lr  = model_lr.fit_generator(image_generator.flow(X_train, y_train, batch_size=BATCH_SIZE),\n",
        "                        epochs=NO_EPOCHS_3,\n",
        "                        validation_data=[X_val, y_val],\n",
        "                        steps_per_epoch=len(X_train)/BATCH_SIZE,\n",
        "                        callbacks=[earlystopper, annealer])"
      ],
      "metadata": {
        "colab": {
          "base_uri": "https://localhost:8080/"
        },
        "id": "vtTZgvsOCojY",
        "outputId": "23a2ebe3-7082-4667-d136-f474dff75eb4"
      },
      "execution_count": 158,
      "outputs": [
        {
          "output_type": "stream",
          "name": "stderr",
          "text": [
            "/usr/local/lib/python3.7/dist-packages/ipykernel_launcher.py:5: UserWarning:\n",
            "\n",
            "`Model.fit_generator` is deprecated and will be removed in a future version. Please use `Model.fit`, which supports generators.\n",
            "\n"
          ]
        },
        {
          "output_type": "stream",
          "name": "stdout",
          "text": [
            "Epoch 1/50\n",
            "103/103 [==============================] - 9s 81ms/step - loss: 1.2717 - accuracy: 0.6126 - val_loss: 0.9955 - val_accuracy: 0.7053 - lr: 7.7831e-04\n",
            "Epoch 2/50\n",
            "103/103 [==============================] - 8s 79ms/step - loss: 0.8789 - accuracy: 0.6933 - val_loss: 0.8756 - val_accuracy: 0.6425 - lr: 7.7442e-04\n",
            "Epoch 3/50\n",
            "103/103 [==============================] - 8s 79ms/step - loss: 0.6908 - accuracy: 0.7486 - val_loss: 0.7244 - val_accuracy: 0.7234 - lr: 7.7055e-04\n",
            "Epoch 4/50\n",
            "103/103 [==============================] - 10s 93ms/step - loss: 0.5385 - accuracy: 0.7936 - val_loss: 0.4979 - val_accuracy: 0.7947 - lr: 7.6670e-04\n",
            "Epoch 5/50\n",
            "103/103 [==============================] - 8s 77ms/step - loss: 0.4739 - accuracy: 0.8102 - val_loss: 0.4224 - val_accuracy: 0.8237 - lr: 7.6286e-04\n",
            "Epoch 6/50\n",
            "103/103 [==============================] - 8s 79ms/step - loss: 0.4433 - accuracy: 0.8226 - val_loss: 0.3811 - val_accuracy: 0.8273 - lr: 7.5905e-04\n",
            "Epoch 7/50\n",
            "103/103 [==============================] - 8s 81ms/step - loss: 0.3952 - accuracy: 0.8371 - val_loss: 0.3572 - val_accuracy: 0.8478 - lr: 7.5525e-04\n",
            "Epoch 8/50\n",
            "103/103 [==============================] - 9s 85ms/step - loss: 0.3845 - accuracy: 0.8462 - val_loss: 0.3373 - val_accuracy: 0.8587 - lr: 7.5148e-04\n",
            "Epoch 9/50\n",
            "103/103 [==============================] - 8s 80ms/step - loss: 0.3633 - accuracy: 0.8540 - val_loss: 0.3100 - val_accuracy: 0.8563 - lr: 7.4772e-04\n",
            "Epoch 10/50\n",
            "103/103 [==============================] - 8s 79ms/step - loss: 0.3460 - accuracy: 0.8631 - val_loss: 0.3353 - val_accuracy: 0.8514 - lr: 7.4398e-04\n",
            "Epoch 11/50\n",
            "103/103 [==============================] - 8s 80ms/step - loss: 0.3367 - accuracy: 0.8643 - val_loss: 0.3352 - val_accuracy: 0.8647 - lr: 7.4026e-04\n",
            "Epoch 12/50\n",
            "103/103 [==============================] - 8s 81ms/step - loss: 0.3335 - accuracy: 0.8637 - val_loss: 0.2978 - val_accuracy: 0.8829 - lr: 7.3656e-04\n",
            "Epoch 13/50\n",
            "103/103 [==============================] - 8s 79ms/step - loss: 0.3049 - accuracy: 0.8770 - val_loss: 0.2941 - val_accuracy: 0.8877 - lr: 7.3288e-04\n",
            "Epoch 14/50\n",
            "103/103 [==============================] - 10s 93ms/step - loss: 0.3007 - accuracy: 0.8731 - val_loss: 0.3324 - val_accuracy: 0.8599 - lr: 7.2921e-04\n",
            "Epoch 15/50\n",
            "103/103 [==============================] - 8s 79ms/step - loss: 0.2982 - accuracy: 0.8740 - val_loss: 0.2798 - val_accuracy: 0.8841 - lr: 7.2557e-04\n",
            "Epoch 16/50\n",
            "103/103 [==============================] - 10s 92ms/step - loss: 0.2743 - accuracy: 0.8846 - val_loss: 0.2779 - val_accuracy: 0.8877 - lr: 7.2194e-04\n",
            "Epoch 17/50\n",
            "103/103 [==============================] - 8s 79ms/step - loss: 0.2924 - accuracy: 0.8830 - val_loss: 0.3205 - val_accuracy: 0.8780 - lr: 7.1833e-04\n",
            "Epoch 18/50\n",
            "103/103 [==============================] - 8s 79ms/step - loss: 0.2788 - accuracy: 0.8821 - val_loss: 0.2961 - val_accuracy: 0.8708 - lr: 7.1474e-04\n",
            "Epoch 19/50\n",
            "103/103 [==============================] - 8s 79ms/step - loss: 0.2663 - accuracy: 0.8894 - val_loss: 0.2979 - val_accuracy: 0.8768 - lr: 7.1116e-04\n",
            "Epoch 20/50\n",
            "103/103 [==============================] - 8s 80ms/step - loss: 0.2625 - accuracy: 0.8867 - val_loss: 0.2940 - val_accuracy: 0.8853 - lr: 7.0761e-04\n",
            "Epoch 21/50\n",
            "103/103 [==============================] - 8s 80ms/step - loss: 0.2653 - accuracy: 0.8870 - val_loss: 0.2679 - val_accuracy: 0.8889 - lr: 7.0407e-04\n",
            "Epoch 22/50\n",
            "103/103 [==============================] - 8s 80ms/step - loss: 0.2457 - accuracy: 0.8954 - val_loss: 0.2573 - val_accuracy: 0.8889 - lr: 7.0055e-04\n",
            "Epoch 23/50\n",
            "103/103 [==============================] - 8s 80ms/step - loss: 0.2532 - accuracy: 0.8921 - val_loss: 0.2540 - val_accuracy: 0.8913 - lr: 6.9705e-04\n",
            "Epoch 24/50\n",
            "103/103 [==============================] - 8s 79ms/step - loss: 0.2402 - accuracy: 0.8963 - val_loss: 0.2339 - val_accuracy: 0.9130 - lr: 6.9356e-04\n",
            "Epoch 25/50\n",
            "103/103 [==============================] - 8s 80ms/step - loss: 0.2520 - accuracy: 0.8921 - val_loss: 0.2317 - val_accuracy: 0.8986 - lr: 6.9009e-04\n",
            "Epoch 26/50\n",
            "103/103 [==============================] - 8s 80ms/step - loss: 0.2561 - accuracy: 0.8933 - val_loss: 0.2623 - val_accuracy: 0.9010 - lr: 6.8664e-04\n",
            "Epoch 27/50\n",
            "103/103 [==============================] - 8s 79ms/step - loss: 0.2465 - accuracy: 0.8933 - val_loss: 0.2677 - val_accuracy: 0.8732 - lr: 6.8321e-04\n",
            "Epoch 28/50\n",
            "103/103 [==============================] - 8s 80ms/step - loss: 0.2272 - accuracy: 0.8997 - val_loss: 0.2291 - val_accuracy: 0.9070 - lr: 6.7979e-04\n",
            "Epoch 29/50\n",
            "103/103 [==============================] - 8s 79ms/step - loss: 0.2305 - accuracy: 0.8985 - val_loss: 0.2582 - val_accuracy: 0.9034 - lr: 6.7639e-04\n",
            "Epoch 30/50\n",
            "103/103 [==============================] - 8s 79ms/step - loss: 0.2236 - accuracy: 0.9048 - val_loss: 0.2184 - val_accuracy: 0.9022 - lr: 6.7301e-04\n",
            "Epoch 31/50\n",
            "103/103 [==============================] - 8s 80ms/step - loss: 0.2344 - accuracy: 0.8939 - val_loss: 0.2396 - val_accuracy: 0.8841 - lr: 6.6965e-04\n",
            "Epoch 32/50\n",
            "103/103 [==============================] - 8s 80ms/step - loss: 0.2266 - accuracy: 0.9042 - val_loss: 0.2340 - val_accuracy: 0.9034 - lr: 6.6630e-04\n",
            "Epoch 33/50\n",
            "103/103 [==============================] - 8s 80ms/step - loss: 0.2354 - accuracy: 0.8997 - val_loss: 0.2143 - val_accuracy: 0.9143 - lr: 6.6297e-04\n",
            "Epoch 34/50\n",
            "103/103 [==============================] - 8s 80ms/step - loss: 0.2175 - accuracy: 0.9096 - val_loss: 0.2484 - val_accuracy: 0.8913 - lr: 6.5965e-04\n",
            "Epoch 35/50\n",
            "103/103 [==============================] - 10s 92ms/step - loss: 0.2106 - accuracy: 0.9051 - val_loss: 0.2110 - val_accuracy: 0.9143 - lr: 6.5635e-04\n",
            "Epoch 36/50\n",
            "103/103 [==============================] - 8s 79ms/step - loss: 0.2150 - accuracy: 0.9036 - val_loss: 0.2344 - val_accuracy: 0.9094 - lr: 6.5307e-04\n",
            "Epoch 37/50\n",
            "103/103 [==============================] - 8s 78ms/step - loss: 0.2002 - accuracy: 0.9108 - val_loss: 0.2010 - val_accuracy: 0.9239 - lr: 6.4981e-04\n",
            "Epoch 38/50\n",
            "103/103 [==============================] - 8s 77ms/step - loss: 0.2126 - accuracy: 0.9060 - val_loss: 0.2686 - val_accuracy: 0.8937 - lr: 6.4656e-04\n",
            "Epoch 39/50\n",
            "103/103 [==============================] - 8s 76ms/step - loss: 0.2088 - accuracy: 0.9172 - val_loss: 0.2265 - val_accuracy: 0.9022 - lr: 6.4333e-04\n",
            "Epoch 40/50\n",
            "103/103 [==============================] - 8s 79ms/step - loss: 0.2102 - accuracy: 0.9130 - val_loss: 0.2068 - val_accuracy: 0.9130 - lr: 6.4011e-04\n",
            "Epoch 41/50\n",
            "103/103 [==============================] - 8s 79ms/step - loss: 0.1926 - accuracy: 0.9139 - val_loss: 0.1933 - val_accuracy: 0.9191 - lr: 6.3691e-04\n",
            "Epoch 42/50\n",
            "103/103 [==============================] - 8s 78ms/step - loss: 0.2013 - accuracy: 0.9130 - val_loss: 0.2298 - val_accuracy: 0.9046 - lr: 6.3372e-04\n",
            "Epoch 43/50\n",
            "103/103 [==============================] - 8s 79ms/step - loss: 0.2074 - accuracy: 0.9145 - val_loss: 0.2178 - val_accuracy: 0.8998 - lr: 6.3056e-04\n",
            "Epoch 44/50\n",
            "103/103 [==============================] - 8s 80ms/step - loss: 0.2095 - accuracy: 0.9105 - val_loss: 0.2152 - val_accuracy: 0.8986 - lr: 6.2740e-04\n",
            "Epoch 45/50\n",
            "103/103 [==============================] - 8s 80ms/step - loss: 0.2044 - accuracy: 0.9090 - val_loss: 0.2005 - val_accuracy: 0.9058 - lr: 6.2427e-04\n",
            "Epoch 46/50\n",
            "103/103 [==============================] - 8s 78ms/step - loss: 0.1944 - accuracy: 0.9187 - val_loss: 0.1910 - val_accuracy: 0.9143 - lr: 6.2114e-04\n",
            "Epoch 46: early stopping\n"
          ]
        }
      ]
    },
    {
      "cell_type": "code",
      "source": [
        "plot_acc_and_loss(train_model_lr)"
      ],
      "metadata": {
        "colab": {
          "base_uri": "https://localhost:8080/",
          "height": 1000
        },
        "id": "zybFEz2VDBzP",
        "outputId": "6e43f2b4-6334-4cc5-e42d-5bdb9ab72d4c"
      },
      "execution_count": 159,
      "outputs": [
        {
          "output_type": "display_data",
          "data": {
            "text/plain": [
              "<Figure size 1080x720 with 1 Axes>"
            ],
            "image/png": "[encoded data removed]"
          },
          "metadata": {
            "needs_background": "light"
          }
        },
        {
          "output_type": "display_data",
          "data": {
            "text/plain": [
              "<Figure size 1080x720 with 1 Axes>"
            ],
            "image/png": "[encoded data removed]"
          },
          "metadata": {
            "needs_background": "light"
          }
        }
      ]
    },
    {
      "cell_type": "code",
      "source": [],
      "metadata": {
        "id": "FQI7n29EEwoC"
      },
      "execution_count": null,
      "outputs": []
    }
  ]
}