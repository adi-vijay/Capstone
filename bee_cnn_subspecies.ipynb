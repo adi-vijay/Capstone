{
  "nbformat": 4,
  "nbformat_minor": 0,
  "metadata": {
    "colab": {
      "provenance": [],
      "collapsed_sections": []
    },
    "kernelspec": {
      "name": "python3",
      "display_name": "Python 3"
    },
    "language_info": {
      "name": "python"
    },
    "gpuClass": "standard"
  },
  "cells": [
    {
      "cell_type": "markdown",
      "source": [
        "### To BE SPLIT INTO SEPARATE NOTEBOOKS"
      ],
      "metadata": {
        "id": "vVu-2yWq8yAV"
      }
    },
    {
      "cell_type": "code",
      "execution_count": null,
      "metadata": {
        "id": "R1U0dwZriio1"
      },
      "outputs": [],
      "source": [
        "import pandas as pd\n",
        "import numpy as np\n",
        "import sys\n",
        "import os\n",
        "import random\n",
        "from pathlib import Path\n",
        "import imageio\n",
        "import skimage\n",
        "import skimage.io\n",
        "import skimage.transform\n",
        "import matplotlib.pyplot as plt\n",
        "import plotly.graph_objs as go\n",
        "import plotly.figure_factory as ff\n",
        "from plotly import tools\n",
        "import seaborn as sns\n",
        "from sklearn.model_selection import train_test_split\n",
        "from sklearn import metrics\n",
        "from keras import optimizers\n",
        "from keras.models import Sequential\n",
        "from keras.layers import Dense, Conv2D, Flatten, MaxPool2D, Dropout, BatchNormalization,LeakyReLU\n",
        "from keras.preprocessing.image import ImageDataGenerator\n",
        "from keras.callbacks import ModelCheckpoint, Callback, EarlyStopping, ReduceLROnPlateau, LearningRateScheduler\n",
        "from keras import utils\n",
        "import tensorflow"
      ]
    },
    {
      "cell_type": "code",
      "source": [
        "from google.colab import drive\n",
        "drive.mount('/content/drive')"
      ],
      "metadata": {
        "colab": {
          "base_uri": "https://localhost:8080/"
        },
        "id": "19a9jWAvlSHi",
        "outputId": "2255a9f9-8495-454b-eef1-ad130d975fa6"
      },
      "execution_count": null,
      "outputs": [
        {
          "output_type": "stream",
          "name": "stdout",
          "text": [
            "Mounted at /content/drive\n"
          ]
        }
      ]
    },
    {
      "cell_type": "code",
      "source": [
        "IMAGE_PATH = '/content/drive/MyDrive/colab_notebooks/data/Capstone/bee_imgs/'\n",
        "IMAGE_WIDTH = 100\n",
        "IMAGE_HEIGHT = 100\n",
        "IMAGE_CHANNELS = 3\n",
        "RANDOM_STATE = 42\n",
        "TEST_SIZE = 0.2\n",
        "VAL_SIZE = 0.2\n",
        "CONV_2D_DIM_1 = 16\n",
        "CONV_2D_DIM_2 = 16\n",
        "CONV_2D_DIM_3 = 32\n",
        "CONV_2D_DIM_4 = 64\n",
        "MAX_POOL_DIM = 2\n",
        "KERNEL_SIZE = 3\n",
        "BATCH_SIZE = 32\n",
        "PATIENCE = 5\n",
        "NO_EPOCHS_1 = 5\n",
        "NO_EPOCHS_2 = 10\n",
        "NO_EPOCHS_3 = 50"
      ],
      "metadata": {
        "id": "uUA3LoJRvsxe"
      },
      "execution_count": null,
      "outputs": []
    },
    {
      "cell_type": "code",
      "source": [
        "os.listdir(\"/content/drive/MyDrive/colab_notebooks/data/Capstone/\")"
      ],
      "metadata": {
        "colab": {
          "base_uri": "https://localhost:8080/"
        },
        "id": "XW6Ev0qXwckc",
        "outputId": "4a66e58f-d41e-4585-ca8b-6dc10c835ea6"
      },
      "execution_count": null,
      "outputs": [
        {
          "output_type": "execute_result",
          "data": {
            "text/plain": [
              "['bee_data.csv',\n",
              " 'bee_image.zip',\n",
              " 'bee_imgs',\n",
              " '.ipynb_checkpoints',\n",
              " 'bee_data_w_image.csv']"
            ]
          },
          "metadata": {},
          "execution_count": 4
        }
      ]
    },
    {
      "cell_type": "code",
      "source": [
        "os.listdir(IMAGE_PATH)[-10:]"
      ],
      "metadata": {
        "colab": {
          "base_uri": "https://localhost:8080/"
        },
        "id": "0hTE1vbTye1R",
        "outputId": "ad8f2dcb-83b8-4a75-f438-8607f0dce61e"
      },
      "execution_count": null,
      "outputs": [
        {
          "output_type": "execute_result",
          "data": {
            "text/plain": [
              "['003_230.png',\n",
              " '004_063.png',\n",
              " '003_259.png',\n",
              " '003_235.png',\n",
              " '004_170.png',\n",
              " '003_245.png',\n",
              " '003_273.png',\n",
              " '004_264.png',\n",
              " '003_249.png',\n",
              " '004_128.png']"
            ]
          },
          "metadata": {},
          "execution_count": 5
        }
      ]
    },
    {
      "cell_type": "code",
      "source": [
        "bee_df = pd.read_csv(\"/content/drive/MyDrive/colab_notebooks/data/Capstone/bee_data.csv\")\n",
        "bee_df.head(10)"
      ],
      "metadata": {
        "colab": {
          "base_uri": "https://localhost:8080/",
          "height": 363
        },
        "id": "8jqqHrPWxzy0",
        "outputId": "49a797bc-5185-4fea-b54f-5e75a66d868e"
      },
      "execution_count": null,
      "outputs": [
        {
          "output_type": "execute_result",
          "data": {
            "text/plain": [
              "          file     date   time        location  zip code subspecies  \\\n",
              "0  041_066.png  8/28/18  16:07  Alvin, TX, USA     77511         -1   \n",
              "1  041_072.png  8/28/18  16:07  Alvin, TX, USA     77511         -1   \n",
              "2  041_073.png  8/28/18  16:07  Alvin, TX, USA     77511         -1   \n",
              "3  041_067.png  8/28/18  16:07  Alvin, TX, USA     77511         -1   \n",
              "4  041_059.png  8/28/18  16:07  Alvin, TX, USA     77511         -1   \n",
              "5  041_071.png  8/28/18  16:07  Alvin, TX, USA     77511         -1   \n",
              "6  041_065.png  8/28/18  16:07  Alvin, TX, USA     77511         -1   \n",
              "7  041_064.png  8/28/18  16:07  Alvin, TX, USA     77511         -1   \n",
              "8  041_070.png  8/28/18  16:07  Alvin, TX, USA     77511         -1   \n",
              "9  041_058.png  8/28/18  16:07  Alvin, TX, USA     77511         -1   \n",
              "\n",
              "              health  pollen_carrying   caste  \n",
              "0  hive being robbed            False  worker  \n",
              "1  hive being robbed            False  worker  \n",
              "2  hive being robbed            False  worker  \n",
              "3  hive being robbed            False  worker  \n",
              "4  hive being robbed            False  worker  \n",
              "5  hive being robbed            False  worker  \n",
              "6  hive being robbed            False  worker  \n",
              "7  hive being robbed            False  worker  \n",
              "8  hive being robbed            False  worker  \n",
              "9  hive being robbed            False  worker  "
            ],
            "text/html": [
              "\n",
              "  <div id=\"df-b99f7459-4e4c-4db0-9bc7-fdf67ef5ee84\">\n",
              "    <div class=\"colab-df-container\">\n",
              "      <div>\n",
              "<style scoped>\n",
              "    .dataframe tbody tr th:only-of-type {\n",
              "        vertical-align: middle;\n",
              "    }\n",
              "\n",
              "    .dataframe tbody tr th {\n",
              "        vertical-align: top;\n",
              "    }\n",
              "\n",
              "    .dataframe thead th {\n",
              "        text-align: right;\n",
              "    }\n",
              "</style>\n",
              "<table border=\"1\" class=\"dataframe\">\n",
              "  <thead>\n",
              "    <tr style=\"text-align: right;\">\n",
              "      <th></th>\n",
              "      <th>file</th>\n",
              "      <th>date</th>\n",
              "      <th>time</th>\n",
              "      <th>location</th>\n",
              "      <th>zip code</th>\n",
              "      <th>subspecies</th>\n",
              "      <th>health</th>\n",
              "      <th>pollen_carrying</th>\n",
              "      <th>caste</th>\n",
              "    </tr>\n",
              "  </thead>\n",
              "  <tbody>\n",
              "    <tr>\n",
              "      <th>0</th>\n",
              "      <td>041_066.png</td>\n",
              "      <td>8/28/18</td>\n",
              "      <td>16:07</td>\n",
              "      <td>Alvin, TX, USA</td>\n",
              "      <td>77511</td>\n",
              "      <td>-1</td>\n",
              "      <td>hive being robbed</td>\n",
              "      <td>False</td>\n",
              "      <td>worker</td>\n",
              "    </tr>\n",
              "    <tr>\n",
              "      <th>1</th>\n",
              "      <td>041_072.png</td>\n",
              "      <td>8/28/18</td>\n",
              "      <td>16:07</td>\n",
              "      <td>Alvin, TX, USA</td>\n",
              "      <td>77511</td>\n",
              "      <td>-1</td>\n",
              "      <td>hive being robbed</td>\n",
              "      <td>False</td>\n",
              "      <td>worker</td>\n",
              "    </tr>\n",
              "    <tr>\n",
              "      <th>2</th>\n",
              "      <td>041_073.png</td>\n",
              "      <td>8/28/18</td>\n",
              "      <td>16:07</td>\n",
              "      <td>Alvin, TX, USA</td>\n",
              "      <td>77511</td>\n",
              "      <td>-1</td>\n",
              "      <td>hive being robbed</td>\n",
              "      <td>False</td>\n",
              "      <td>worker</td>\n",
              "    </tr>\n",
              "    <tr>\n",
              "      <th>3</th>\n",
              "      <td>041_067.png</td>\n",
              "      <td>8/28/18</td>\n",
              "      <td>16:07</td>\n",
              "      <td>Alvin, TX, USA</td>\n",
              "      <td>77511</td>\n",
              "      <td>-1</td>\n",
              "      <td>hive being robbed</td>\n",
              "      <td>False</td>\n",
              "      <td>worker</td>\n",
              "    </tr>\n",
              "    <tr>\n",
              "      <th>4</th>\n",
              "      <td>041_059.png</td>\n",
              "      <td>8/28/18</td>\n",
              "      <td>16:07</td>\n",
              "      <td>Alvin, TX, USA</td>\n",
              "      <td>77511</td>\n",
              "      <td>-1</td>\n",
              "      <td>hive being robbed</td>\n",
              "      <td>False</td>\n",
              "      <td>worker</td>\n",
              "    </tr>\n",
              "    <tr>\n",
              "      <th>5</th>\n",
              "      <td>041_071.png</td>\n",
              "      <td>8/28/18</td>\n",
              "      <td>16:07</td>\n",
              "      <td>Alvin, TX, USA</td>\n",
              "      <td>77511</td>\n",
              "      <td>-1</td>\n",
              "      <td>hive being robbed</td>\n",
              "      <td>False</td>\n",
              "      <td>worker</td>\n",
              "    </tr>\n",
              "    <tr>\n",
              "      <th>6</th>\n",
              "      <td>041_065.png</td>\n",
              "      <td>8/28/18</td>\n",
              "      <td>16:07</td>\n",
              "      <td>Alvin, TX, USA</td>\n",
              "      <td>77511</td>\n",
              "      <td>-1</td>\n",
              "      <td>hive being robbed</td>\n",
              "      <td>False</td>\n",
              "      <td>worker</td>\n",
              "    </tr>\n",
              "    <tr>\n",
              "      <th>7</th>\n",
              "      <td>041_064.png</td>\n",
              "      <td>8/28/18</td>\n",
              "      <td>16:07</td>\n",
              "      <td>Alvin, TX, USA</td>\n",
              "      <td>77511</td>\n",
              "      <td>-1</td>\n",
              "      <td>hive being robbed</td>\n",
              "      <td>False</td>\n",
              "      <td>worker</td>\n",
              "    </tr>\n",
              "    <tr>\n",
              "      <th>8</th>\n",
              "      <td>041_070.png</td>\n",
              "      <td>8/28/18</td>\n",
              "      <td>16:07</td>\n",
              "      <td>Alvin, TX, USA</td>\n",
              "      <td>77511</td>\n",
              "      <td>-1</td>\n",
              "      <td>hive being robbed</td>\n",
              "      <td>False</td>\n",
              "      <td>worker</td>\n",
              "    </tr>\n",
              "    <tr>\n",
              "      <th>9</th>\n",
              "      <td>041_058.png</td>\n",
              "      <td>8/28/18</td>\n",
              "      <td>16:07</td>\n",
              "      <td>Alvin, TX, USA</td>\n",
              "      <td>77511</td>\n",
              "      <td>-1</td>\n",
              "      <td>hive being robbed</td>\n",
              "      <td>False</td>\n",
              "      <td>worker</td>\n",
              "    </tr>\n",
              "  </tbody>\n",
              "</table>\n",
              "</div>\n",
              "      <button class=\"colab-df-convert\" onclick=\"convertToInteractive('df-b99f7459-4e4c-4db0-9bc7-fdf67ef5ee84')\"\n",
              "              title=\"Convert this dataframe to an interactive table.\"\n",
              "              style=\"display:none;\">\n",
              "        \n",
              "  <svg xmlns=\"http://www.w3.org/2000/svg\" height=\"24px\"viewBox=\"0 0 24 24\"\n",
              "       width=\"24px\">\n",
              "    <path d=\"M0 0h24v24H0V0z\" fill=\"none\"/>\n",
              "    <path d=\"M18.56 5.44l.94 2.06.94-2.06 2.06-.94-2.06-.94-.94-2.06-.94 2.06-2.06.94zm-11 1L8.5 8.5l.94-2.06 2.06-.94-2.06-.94L8.5 2.5l-.94 2.06-2.06.94zm10 10l.94 2.06.94-2.06 2.06-.94-2.06-.94-.94-2.06-.94 2.06-2.06.94z\"/><path d=\"M17.41 7.96l-1.37-1.37c-.4-.4-.92-.59-1.43-.59-.52 0-1.04.2-1.43.59L10.3 9.45l-7.72 7.72c-.78.78-.78 2.05 0 2.83L4 21.41c.39.39.9.59 1.41.59.51 0 1.02-.2 1.41-.59l7.78-7.78 2.81-2.81c.8-.78.8-2.07 0-2.86zM5.41 20L4 18.59l7.72-7.72 1.47 1.35L5.41 20z\"/>\n",
              "  </svg>\n",
              "      </button>\n",
              "      \n",
              "  <style>\n",
              "    .colab-df-container {\n",
              "      display:flex;\n",
              "      flex-wrap:wrap;\n",
              "      gap: 12px;\n",
              "    }\n",
              "\n",
              "    .colab-df-convert {\n",
              "      background-color: #E8F0FE;\n",
              "      border: none;\n",
              "      border-radius: 50%;\n",
              "      cursor: pointer;\n",
              "      display: none;\n",
              "      fill: #1967D2;\n",
              "      height: 32px;\n",
              "      padding: 0 0 0 0;\n",
              "      width: 32px;\n",
              "    }\n",
              "\n",
              "    .colab-df-convert:hover {\n",
              "      background-color: #E2EBFA;\n",
              "      box-shadow: 0px 1px 2px rgba(60, 64, 67, 0.3), 0px 1px 3px 1px rgba(60, 64, 67, 0.15);\n",
              "      fill: #174EA6;\n",
              "    }\n",
              "\n",
              "    [theme=dark] .colab-df-convert {\n",
              "      background-color: #3B4455;\n",
              "      fill: #D2E3FC;\n",
              "    }\n",
              "\n",
              "    [theme=dark] .colab-df-convert:hover {\n",
              "      background-color: #434B5C;\n",
              "      box-shadow: 0px 1px 3px 1px rgba(0, 0, 0, 0.15);\n",
              "      filter: drop-shadow(0px 1px 2px rgba(0, 0, 0, 0.3));\n",
              "      fill: #FFFFFF;\n",
              "    }\n",
              "  </style>\n",
              "\n",
              "      <script>\n",
              "        const buttonEl =\n",
              "          document.querySelector('#df-b99f7459-4e4c-4db0-9bc7-fdf67ef5ee84 button.colab-df-convert');\n",
              "        buttonEl.style.display =\n",
              "          google.colab.kernel.accessAllowed ? 'block' : 'none';\n",
              "\n",
              "        async function convertToInteractive(key) {\n",
              "          const element = document.querySelector('#df-b99f7459-4e4c-4db0-9bc7-fdf67ef5ee84');\n",
              "          const dataTable =\n",
              "            await google.colab.kernel.invokeFunction('convertToInteractive',\n",
              "                                                     [key], {});\n",
              "          if (!dataTable) return;\n",
              "\n",
              "          const docLinkHtml = 'Like what you see? Visit the ' +\n",
              "            '<a target=\"_blank\" href=https://colab.research.google.com/notebooks/data_table.ipynb>data table notebook</a>'\n",
              "            + ' to learn more about interactive tables.';\n",
              "          element.innerHTML = '';\n",
              "          dataTable['output_type'] = 'display_data';\n",
              "          await google.colab.output.renderOutput(dataTable, element);\n",
              "          const docLink = document.createElement('div');\n",
              "          docLink.innerHTML = docLinkHtml;\n",
              "          element.appendChild(docLink);\n",
              "        }\n",
              "      </script>\n",
              "    </div>\n",
              "  </div>\n",
              "  "
            ]
          },
          "metadata": {},
          "execution_count": 6
        }
      ]
    },
    {
      "cell_type": "code",
      "source": [
        "bee_df.shape"
      ],
      "metadata": {
        "colab": {
          "base_uri": "https://localhost:8080/"
        },
        "id": "G-om55_EyEGl",
        "outputId": "03fd110b-42ac-489a-e7d4-505f1190bd07"
      },
      "execution_count": null,
      "outputs": [
        {
          "output_type": "execute_result",
          "data": {
            "text/plain": [
              "(5172, 9)"
            ]
          },
          "metadata": {},
          "execution_count": 7
        }
      ]
    },
    {
      "cell_type": "code",
      "source": [
        "bee_df.info()"
      ],
      "metadata": {
        "colab": {
          "base_uri": "https://localhost:8080/"
        },
        "id": "mDH20WdayEEA",
        "outputId": "01609286-ebb1-4fb0-b330-3f54a24e70f1"
      },
      "execution_count": null,
      "outputs": [
        {
          "output_type": "stream",
          "name": "stdout",
          "text": [
            "<class 'pandas.core.frame.DataFrame'>\n",
            "RangeIndex: 5172 entries, 0 to 5171\n",
            "Data columns (total 9 columns):\n",
            " #   Column           Non-Null Count  Dtype \n",
            "---  ------           --------------  ----- \n",
            " 0   file             5172 non-null   object\n",
            " 1   date             5172 non-null   object\n",
            " 2   time             5172 non-null   object\n",
            " 3   location         5172 non-null   object\n",
            " 4   zip code         5172 non-null   int64 \n",
            " 5   subspecies       5172 non-null   object\n",
            " 6   health           5172 non-null   object\n",
            " 7   pollen_carrying  5172 non-null   bool  \n",
            " 8   caste            5172 non-null   object\n",
            "dtypes: bool(1), int64(1), object(7)\n",
            "memory usage: 328.4+ KB\n"
          ]
        }
      ]
    },
    {
      "cell_type": "code",
      "source": [
        "image_files = list(os.listdir(IMAGE_PATH))\n",
        "print(\"Number of image files: {}\".format(len(image_files)))"
      ],
      "metadata": {
        "colab": {
          "base_uri": "https://localhost:8080/"
        },
        "id": "d9VlHEdFzH7O",
        "outputId": "d0e68047-be37-43da-f6f6-2279952eef73"
      },
      "execution_count": null,
      "outputs": [
        {
          "output_type": "stream",
          "name": "stdout",
          "text": [
            "Number of image files: 5173\n"
          ]
        }
      ]
    },
    {
      "cell_type": "code",
      "source": [
        "file_names = list(bee_df['file'])\n",
        "print(\"Matching image names: {}\".format(len(set(file_names).intersection(image_files))))"
      ],
      "metadata": {
        "colab": {
          "base_uri": "https://localhost:8080/"
        },
        "id": "1fAA32peyEBI",
        "outputId": "ea3411f8-9ca9-469f-da4e-dd146ee8e766"
      },
      "execution_count": null,
      "outputs": [
        {
          "output_type": "stream",
          "name": "stdout",
          "text": [
            "Matching image names: 5172\n"
          ]
        }
      ]
    },
    {
      "cell_type": "code",
      "source": [
        "def read_image_sizes(file_name):\n",
        "    image = skimage.io.imread(IMAGE_PATH + file_name)\n",
        "    return list(image.shape)"
      ],
      "metadata": {
        "id": "p5GyOiWpyD-R"
      },
      "execution_count": null,
      "outputs": []
    },
    {
      "cell_type": "code",
      "source": [
        "np.stack([read_image_sizes(filename) for filename in bee_df['file'][:50]])"
      ],
      "metadata": {
        "colab": {
          "base_uri": "https://localhost:8080/"
        },
        "id": "8dKc6jSP6NR_",
        "outputId": "3aaa830b-4c4c-4a12-e016-dbd6db8ca427"
      },
      "execution_count": null,
      "outputs": [
        {
          "output_type": "execute_result",
          "data": {
            "text/plain": [
              "array([[115, 164,   3],\n",
              "       [201,  90,   3],\n",
              "       [132, 167,   3],\n",
              "       [134,  97,   3],\n",
              "       [147, 106,   3],\n",
              "       [194, 135,   3],\n",
              "       [159, 170,   3],\n",
              "       [132,  95,   3],\n",
              "       [126, 190,   3],\n",
              "       [156, 189,   3],\n",
              "       [132, 142,   3],\n",
              "       [ 69, 119,   3],\n",
              "       [105, 104,   3],\n",
              "       [108,  99,   3],\n",
              "       [220, 159,   3],\n",
              "       [130, 137,   3],\n",
              "       [183, 161,   3],\n",
              "       [182, 144,   3],\n",
              "       [186, 225,   3],\n",
              "       [150, 153,   3],\n",
              "       [101, 140,   3],\n",
              "       [136, 127,   3],\n",
              "       [ 95, 115,   3],\n",
              "       [ 78, 103,   3],\n",
              "       [180, 113,   3],\n",
              "       [118, 126,   3],\n",
              "       [238, 167,   3],\n",
              "       [133, 136,   3],\n",
              "       [159, 118,   3],\n",
              "       [146,  95,   3],\n",
              "       [145, 182,   3],\n",
              "       [ 89,  99,   3],\n",
              "       [126, 176,   3],\n",
              "       [172, 127,   3],\n",
              "       [210, 163,   3],\n",
              "       [ 96, 111,   3],\n",
              "       [127, 162,   3],\n",
              "       [168, 146,   3],\n",
              "       [143, 141,   3],\n",
              "       [129, 155,   3],\n",
              "       [ 86, 139,   3],\n",
              "       [222, 168,   3],\n",
              "       [ 94, 132,   3],\n",
              "       [112, 101,   3],\n",
              "       [113, 191,   3],\n",
              "       [119,  83,   3],\n",
              "       [140, 172,   3],\n",
              "       [193, 169,   3],\n",
              "       [122, 134,   3],\n",
              "       [155, 138,   3]])"
            ]
          },
          "metadata": {},
          "execution_count": 12
        }
      ]
    },
    {
      "cell_type": "code",
      "source": [],
      "metadata": {
        "id": "L3J9AtkJ6zAl"
      },
      "execution_count": null,
      "outputs": []
    },
    {
      "cell_type": "code",
      "source": [
        "m = np.stack(bee_df['file'].apply(read_image_sizes))\n",
        "df = pd.DataFrame(m,columns=['width','height','color'])\n",
        "bee_df = pd.concat([bee_df,df],axis=1, sort=False)"
      ],
      "metadata": {
        "id": "TmI2ugfZyD7Z"
      },
      "execution_count": null,
      "outputs": []
    },
    {
      "cell_type": "code",
      "source": [
        "bee_df.head()"
      ],
      "metadata": {
        "colab": {
          "base_uri": "https://localhost:8080/",
          "height": 206
        },
        "id": "lCawjf3z0uHa",
        "outputId": "79cc2d4c-24c2-4e63-8543-0eaf04fdb880"
      },
      "execution_count": null,
      "outputs": [
        {
          "output_type": "execute_result",
          "data": {
            "text/plain": [
              "          file     date   time        location  zip code subspecies  \\\n",
              "0  041_066.png  8/28/18  16:07  Alvin, TX, USA     77511         -1   \n",
              "1  041_072.png  8/28/18  16:07  Alvin, TX, USA     77511         -1   \n",
              "2  041_073.png  8/28/18  16:07  Alvin, TX, USA     77511         -1   \n",
              "3  041_067.png  8/28/18  16:07  Alvin, TX, USA     77511         -1   \n",
              "4  041_059.png  8/28/18  16:07  Alvin, TX, USA     77511         -1   \n",
              "\n",
              "              health  pollen_carrying   caste  width  height  color  \n",
              "0  hive being robbed            False  worker    115     164      3  \n",
              "1  hive being robbed            False  worker    201      90      3  \n",
              "2  hive being robbed            False  worker    132     167      3  \n",
              "3  hive being robbed            False  worker    134      97      3  \n",
              "4  hive being robbed            False  worker    147     106      3  "
            ],
            "text/html": [
              "\n",
              "  <div id=\"df-67208b6c-dcb3-4c50-a188-66405caea9eb\">\n",
              "    <div class=\"colab-df-container\">\n",
              "      <div>\n",
              "<style scoped>\n",
              "    .dataframe tbody tr th:only-of-type {\n",
              "        vertical-align: middle;\n",
              "    }\n",
              "\n",
              "    .dataframe tbody tr th {\n",
              "        vertical-align: top;\n",
              "    }\n",
              "\n",
              "    .dataframe thead th {\n",
              "        text-align: right;\n",
              "    }\n",
              "</style>\n",
              "<table border=\"1\" class=\"dataframe\">\n",
              "  <thead>\n",
              "    <tr style=\"text-align: right;\">\n",
              "      <th></th>\n",
              "      <th>file</th>\n",
              "      <th>date</th>\n",
              "      <th>time</th>\n",
              "      <th>location</th>\n",
              "      <th>zip code</th>\n",
              "      <th>subspecies</th>\n",
              "      <th>health</th>\n",
              "      <th>pollen_carrying</th>\n",
              "      <th>caste</th>\n",
              "      <th>width</th>\n",
              "      <th>height</th>\n",
              "      <th>color</th>\n",
              "    </tr>\n",
              "  </thead>\n",
              "  <tbody>\n",
              "    <tr>\n",
              "      <th>0</th>\n",
              "      <td>041_066.png</td>\n",
              "      <td>8/28/18</td>\n",
              "      <td>16:07</td>\n",
              "      <td>Alvin, TX, USA</td>\n",
              "      <td>77511</td>\n",
              "      <td>-1</td>\n",
              "      <td>hive being robbed</td>\n",
              "      <td>False</td>\n",
              "      <td>worker</td>\n",
              "      <td>115</td>\n",
              "      <td>164</td>\n",
              "      <td>3</td>\n",
              "    </tr>\n",
              "    <tr>\n",
              "      <th>1</th>\n",
              "      <td>041_072.png</td>\n",
              "      <td>8/28/18</td>\n",
              "      <td>16:07</td>\n",
              "      <td>Alvin, TX, USA</td>\n",
              "      <td>77511</td>\n",
              "      <td>-1</td>\n",
              "      <td>hive being robbed</td>\n",
              "      <td>False</td>\n",
              "      <td>worker</td>\n",
              "      <td>201</td>\n",
              "      <td>90</td>\n",
              "      <td>3</td>\n",
              "    </tr>\n",
              "    <tr>\n",
              "      <th>2</th>\n",
              "      <td>041_073.png</td>\n",
              "      <td>8/28/18</td>\n",
              "      <td>16:07</td>\n",
              "      <td>Alvin, TX, USA</td>\n",
              "      <td>77511</td>\n",
              "      <td>-1</td>\n",
              "      <td>hive being robbed</td>\n",
              "      <td>False</td>\n",
              "      <td>worker</td>\n",
              "      <td>132</td>\n",
              "      <td>167</td>\n",
              "      <td>3</td>\n",
              "    </tr>\n",
              "    <tr>\n",
              "      <th>3</th>\n",
              "      <td>041_067.png</td>\n",
              "      <td>8/28/18</td>\n",
              "      <td>16:07</td>\n",
              "      <td>Alvin, TX, USA</td>\n",
              "      <td>77511</td>\n",
              "      <td>-1</td>\n",
              "      <td>hive being robbed</td>\n",
              "      <td>False</td>\n",
              "      <td>worker</td>\n",
              "      <td>134</td>\n",
              "      <td>97</td>\n",
              "      <td>3</td>\n",
              "    </tr>\n",
              "    <tr>\n",
              "      <th>4</th>\n",
              "      <td>041_059.png</td>\n",
              "      <td>8/28/18</td>\n",
              "      <td>16:07</td>\n",
              "      <td>Alvin, TX, USA</td>\n",
              "      <td>77511</td>\n",
              "      <td>-1</td>\n",
              "      <td>hive being robbed</td>\n",
              "      <td>False</td>\n",
              "      <td>worker</td>\n",
              "      <td>147</td>\n",
              "      <td>106</td>\n",
              "      <td>3</td>\n",
              "    </tr>\n",
              "  </tbody>\n",
              "</table>\n",
              "</div>\n",
              "      <button class=\"colab-df-convert\" onclick=\"convertToInteractive('df-67208b6c-dcb3-4c50-a188-66405caea9eb')\"\n",
              "              title=\"Convert this dataframe to an interactive table.\"\n",
              "              style=\"display:none;\">\n",
              "        \n",
              "  <svg xmlns=\"http://www.w3.org/2000/svg\" height=\"24px\"viewBox=\"0 0 24 24\"\n",
              "       width=\"24px\">\n",
              "    <path d=\"M0 0h24v24H0V0z\" fill=\"none\"/>\n",
              "    <path d=\"M18.56 5.44l.94 2.06.94-2.06 2.06-.94-2.06-.94-.94-2.06-.94 2.06-2.06.94zm-11 1L8.5 8.5l.94-2.06 2.06-.94-2.06-.94L8.5 2.5l-.94 2.06-2.06.94zm10 10l.94 2.06.94-2.06 2.06-.94-2.06-.94-.94-2.06-.94 2.06-2.06.94z\"/><path d=\"M17.41 7.96l-1.37-1.37c-.4-.4-.92-.59-1.43-.59-.52 0-1.04.2-1.43.59L10.3 9.45l-7.72 7.72c-.78.78-.78 2.05 0 2.83L4 21.41c.39.39.9.59 1.41.59.51 0 1.02-.2 1.41-.59l7.78-7.78 2.81-2.81c.8-.78.8-2.07 0-2.86zM5.41 20L4 18.59l7.72-7.72 1.47 1.35L5.41 20z\"/>\n",
              "  </svg>\n",
              "      </button>\n",
              "      \n",
              "  <style>\n",
              "    .colab-df-container {\n",
              "      display:flex;\n",
              "      flex-wrap:wrap;\n",
              "      gap: 12px;\n",
              "    }\n",
              "\n",
              "    .colab-df-convert {\n",
              "      background-color: #E8F0FE;\n",
              "      border: none;\n",
              "      border-radius: 50%;\n",
              "      cursor: pointer;\n",
              "      display: none;\n",
              "      fill: #1967D2;\n",
              "      height: 32px;\n",
              "      padding: 0 0 0 0;\n",
              "      width: 32px;\n",
              "    }\n",
              "\n",
              "    .colab-df-convert:hover {\n",
              "      background-color: #E2EBFA;\n",
              "      box-shadow: 0px 1px 2px rgba(60, 64, 67, 0.3), 0px 1px 3px 1px rgba(60, 64, 67, 0.15);\n",
              "      fill: #174EA6;\n",
              "    }\n",
              "\n",
              "    [theme=dark] .colab-df-convert {\n",
              "      background-color: #3B4455;\n",
              "      fill: #D2E3FC;\n",
              "    }\n",
              "\n",
              "    [theme=dark] .colab-df-convert:hover {\n",
              "      background-color: #434B5C;\n",
              "      box-shadow: 0px 1px 3px 1px rgba(0, 0, 0, 0.15);\n",
              "      filter: drop-shadow(0px 1px 2px rgba(0, 0, 0, 0.3));\n",
              "      fill: #FFFFFF;\n",
              "    }\n",
              "  </style>\n",
              "\n",
              "      <script>\n",
              "        const buttonEl =\n",
              "          document.querySelector('#df-67208b6c-dcb3-4c50-a188-66405caea9eb button.colab-df-convert');\n",
              "        buttonEl.style.display =\n",
              "          google.colab.kernel.accessAllowed ? 'block' : 'none';\n",
              "\n",
              "        async function convertToInteractive(key) {\n",
              "          const element = document.querySelector('#df-67208b6c-dcb3-4c50-a188-66405caea9eb');\n",
              "          const dataTable =\n",
              "            await google.colab.kernel.invokeFunction('convertToInteractive',\n",
              "                                                     [key], {});\n",
              "          if (!dataTable) return;\n",
              "\n",
              "          const docLinkHtml = 'Like what you see? Visit the ' +\n",
              "            '<a target=\"_blank\" href=https://colab.research.google.com/notebooks/data_table.ipynb>data table notebook</a>'\n",
              "            + ' to learn more about interactive tables.';\n",
              "          element.innerHTML = '';\n",
              "          dataTable['output_type'] = 'display_data';\n",
              "          await google.colab.output.renderOutput(dataTable, element);\n",
              "          const docLink = document.createElement('div');\n",
              "          docLink.innerHTML = docLinkHtml;\n",
              "          element.appendChild(docLink);\n",
              "        }\n",
              "      </script>\n",
              "    </div>\n",
              "  </div>\n",
              "  "
            ]
          },
          "metadata": {},
          "execution_count": 14
        }
      ]
    },
    {
      "cell_type": "code",
      "source": [
        "bee_df.to_csv('/content/drive/MyDrive/colab_notebooks/data/Capstone/bee_data_w_image.csv')"
      ],
      "metadata": {
        "id": "u1TBslTIyD4P"
      },
      "execution_count": null,
      "outputs": []
    },
    {
      "cell_type": "code",
      "source": [
        "plt.figure()\n",
        "plt.boxplot([bee_df.width, bee_df.height], labels = ['width', 'height'], vert = False)\n",
        "\n",
        "plt.title('Image Pixel Height and Width')\n",
        ";"
      ],
      "metadata": {
        "colab": {
          "base_uri": "https://localhost:8080/",
          "height": 300
        },
        "id": "aU3csU1EyD1a",
        "outputId": "07d58b78-dd89-4d79-fc3a-20746be007e3"
      },
      "execution_count": null,
      "outputs": [
        {
          "output_type": "execute_result",
          "data": {
            "text/plain": [
              "''"
            ],
            "application/vnd.google.colaboratory.intrinsic+json": {
              "type": "string"
            }
          },
          "metadata": {},
          "execution_count": 16
        },
        {
          "output_type": "display_data",
          "data": {
            "text/plain": [
              "<Figure size 432x288 with 1 Axes>"
            ],
            "image/png": "[encoded data removed]"
          },
          "metadata": {
            "needs_background": "light"
          }
        }
      ]
    },
    {
      "cell_type": "markdown",
      "source": [
        "Scale to 100 x 100 px."
      ],
      "metadata": {
        "id": "qRxf0R48BEHR"
      }
    },
    {
      "cell_type": "code",
      "source": [],
      "metadata": {
        "id": "nZyPHI8YyDyB"
      },
      "execution_count": null,
      "outputs": []
    },
    {
      "cell_type": "code",
      "source": [
        "tmp = bee_df.groupby(['zip code'])['location'].value_counts()"
      ],
      "metadata": {
        "id": "_Qz7jSVDwgH7"
      },
      "execution_count": null,
      "outputs": []
    },
    {
      "cell_type": "code",
      "source": [
        "tmp"
      ],
      "metadata": {
        "colab": {
          "base_uri": "https://localhost:8080/"
        },
        "id": "FMCXavfFBdyF",
        "outputId": "1bff7c1b-216b-4576-e435-a2f82f0ffc83"
      },
      "execution_count": null,
      "outputs": [
        {
          "output_type": "execute_result",
          "data": {
            "text/plain": [
              "zip code  location            \n",
              "3431      Keene, NH, USA            92\n",
              "30607     Athens, GA, USA          579\n",
              "          Athens, Georgia, USA     472\n",
              "50315     Des Moines, IA, USA      973\n",
              "70115     New Orleans, LA, USA     170\n",
              "77511     Alvin, TX, USA           737\n",
              "95070     Saratoga, CA, USA       2000\n",
              "95124     San Jose, CA, USA        149\n",
              "Name: location, dtype: int64"
            ]
          },
          "metadata": {},
          "execution_count": 18
        }
      ]
    },
    {
      "cell_type": "code",
      "source": [
        "df = pd.DataFrame(data={'Images': tmp.values}, index=tmp.index).reset_index()\n",
        "df"
      ],
      "metadata": {
        "colab": {
          "base_uri": "https://localhost:8080/",
          "height": 300
        },
        "id": "dLzYSLmjBKNY",
        "outputId": "b3e25676-d743-46f1-d7d1-19cd9c4595bb"
      },
      "execution_count": null,
      "outputs": [
        {
          "output_type": "execute_result",
          "data": {
            "text/plain": [
              "   zip code              location  Images\n",
              "0      3431        Keene, NH, USA      92\n",
              "1     30607       Athens, GA, USA     579\n",
              "2     30607  Athens, Georgia, USA     472\n",
              "3     50315   Des Moines, IA, USA     973\n",
              "4     70115  New Orleans, LA, USA     170\n",
              "5     77511        Alvin, TX, USA     737\n",
              "6     95070     Saratoga, CA, USA    2000\n",
              "7     95124     San Jose, CA, USA     149"
            ],
            "text/html": [
              "\n",
              "  <div id=\"df-870e001d-9ce3-4c41-acb9-768e1ed9a74d\">\n",
              "    <div class=\"colab-df-container\">\n",
              "      <div>\n",
              "<style scoped>\n",
              "    .dataframe tbody tr th:only-of-type {\n",
              "        vertical-align: middle;\n",
              "    }\n",
              "\n",
              "    .dataframe tbody tr th {\n",
              "        vertical-align: top;\n",
              "    }\n",
              "\n",
              "    .dataframe thead th {\n",
              "        text-align: right;\n",
              "    }\n",
              "</style>\n",
              "<table border=\"1\" class=\"dataframe\">\n",
              "  <thead>\n",
              "    <tr style=\"text-align: right;\">\n",
              "      <th></th>\n",
              "      <th>zip code</th>\n",
              "      <th>location</th>\n",
              "      <th>Images</th>\n",
              "    </tr>\n",
              "  </thead>\n",
              "  <tbody>\n",
              "    <tr>\n",
              "      <th>0</th>\n",
              "      <td>3431</td>\n",
              "      <td>Keene, NH, USA</td>\n",
              "      <td>92</td>\n",
              "    </tr>\n",
              "    <tr>\n",
              "      <th>1</th>\n",
              "      <td>30607</td>\n",
              "      <td>Athens, GA, USA</td>\n",
              "      <td>579</td>\n",
              "    </tr>\n",
              "    <tr>\n",
              "      <th>2</th>\n",
              "      <td>30607</td>\n",
              "      <td>Athens, Georgia, USA</td>\n",
              "      <td>472</td>\n",
              "    </tr>\n",
              "    <tr>\n",
              "      <th>3</th>\n",
              "      <td>50315</td>\n",
              "      <td>Des Moines, IA, USA</td>\n",
              "      <td>973</td>\n",
              "    </tr>\n",
              "    <tr>\n",
              "      <th>4</th>\n",
              "      <td>70115</td>\n",
              "      <td>New Orleans, LA, USA</td>\n",
              "      <td>170</td>\n",
              "    </tr>\n",
              "    <tr>\n",
              "      <th>5</th>\n",
              "      <td>77511</td>\n",
              "      <td>Alvin, TX, USA</td>\n",
              "      <td>737</td>\n",
              "    </tr>\n",
              "    <tr>\n",
              "      <th>6</th>\n",
              "      <td>95070</td>\n",
              "      <td>Saratoga, CA, USA</td>\n",
              "      <td>2000</td>\n",
              "    </tr>\n",
              "    <tr>\n",
              "      <th>7</th>\n",
              "      <td>95124</td>\n",
              "      <td>San Jose, CA, USA</td>\n",
              "      <td>149</td>\n",
              "    </tr>\n",
              "  </tbody>\n",
              "</table>\n",
              "</div>\n",
              "      <button class=\"colab-df-convert\" onclick=\"convertToInteractive('df-870e001d-9ce3-4c41-acb9-768e1ed9a74d')\"\n",
              "              title=\"Convert this dataframe to an interactive table.\"\n",
              "              style=\"display:none;\">\n",
              "        \n",
              "  <svg xmlns=\"http://www.w3.org/2000/svg\" height=\"24px\"viewBox=\"0 0 24 24\"\n",
              "       width=\"24px\">\n",
              "    <path d=\"M0 0h24v24H0V0z\" fill=\"none\"/>\n",
              "    <path d=\"M18.56 5.44l.94 2.06.94-2.06 2.06-.94-2.06-.94-.94-2.06-.94 2.06-2.06.94zm-11 1L8.5 8.5l.94-2.06 2.06-.94-2.06-.94L8.5 2.5l-.94 2.06-2.06.94zm10 10l.94 2.06.94-2.06 2.06-.94-2.06-.94-.94-2.06-.94 2.06-2.06.94z\"/><path d=\"M17.41 7.96l-1.37-1.37c-.4-.4-.92-.59-1.43-.59-.52 0-1.04.2-1.43.59L10.3 9.45l-7.72 7.72c-.78.78-.78 2.05 0 2.83L4 21.41c.39.39.9.59 1.41.59.51 0 1.02-.2 1.41-.59l7.78-7.78 2.81-2.81c.8-.78.8-2.07 0-2.86zM5.41 20L4 18.59l7.72-7.72 1.47 1.35L5.41 20z\"/>\n",
              "  </svg>\n",
              "      </button>\n",
              "      \n",
              "  <style>\n",
              "    .colab-df-container {\n",
              "      display:flex;\n",
              "      flex-wrap:wrap;\n",
              "      gap: 12px;\n",
              "    }\n",
              "\n",
              "    .colab-df-convert {\n",
              "      background-color: #E8F0FE;\n",
              "      border: none;\n",
              "      border-radius: 50%;\n",
              "      cursor: pointer;\n",
              "      display: none;\n",
              "      fill: #1967D2;\n",
              "      height: 32px;\n",
              "      padding: 0 0 0 0;\n",
              "      width: 32px;\n",
              "    }\n",
              "\n",
              "    .colab-df-convert:hover {\n",
              "      background-color: #E2EBFA;\n",
              "      box-shadow: 0px 1px 2px rgba(60, 64, 67, 0.3), 0px 1px 3px 1px rgba(60, 64, 67, 0.15);\n",
              "      fill: #174EA6;\n",
              "    }\n",
              "\n",
              "    [theme=dark] .colab-df-convert {\n",
              "      background-color: #3B4455;\n",
              "      fill: #D2E3FC;\n",
              "    }\n",
              "\n",
              "    [theme=dark] .colab-df-convert:hover {\n",
              "      background-color: #434B5C;\n",
              "      box-shadow: 0px 1px 3px 1px rgba(0, 0, 0, 0.15);\n",
              "      filter: drop-shadow(0px 1px 2px rgba(0, 0, 0, 0.3));\n",
              "      fill: #FFFFFF;\n",
              "    }\n",
              "  </style>\n",
              "\n",
              "      <script>\n",
              "        const buttonEl =\n",
              "          document.querySelector('#df-870e001d-9ce3-4c41-acb9-768e1ed9a74d button.colab-df-convert');\n",
              "        buttonEl.style.display =\n",
              "          google.colab.kernel.accessAllowed ? 'block' : 'none';\n",
              "\n",
              "        async function convertToInteractive(key) {\n",
              "          const element = document.querySelector('#df-870e001d-9ce3-4c41-acb9-768e1ed9a74d');\n",
              "          const dataTable =\n",
              "            await google.colab.kernel.invokeFunction('convertToInteractive',\n",
              "                                                     [key], {});\n",
              "          if (!dataTable) return;\n",
              "\n",
              "          const docLinkHtml = 'Like what you see? Visit the ' +\n",
              "            '<a target=\"_blank\" href=https://colab.research.google.com/notebooks/data_table.ipynb>data table notebook</a>'\n",
              "            + ' to learn more about interactive tables.';\n",
              "          element.innerHTML = '';\n",
              "          dataTable['output_type'] = 'display_data';\n",
              "          await google.colab.output.renderOutput(dataTable, element);\n",
              "          const docLink = document.createElement('div');\n",
              "          docLink.innerHTML = docLinkHtml;\n",
              "          element.appendChild(docLink);\n",
              "        }\n",
              "      </script>\n",
              "    </div>\n",
              "  </div>\n",
              "  "
            ]
          },
          "metadata": {},
          "execution_count": 19
        }
      ]
    },
    {
      "cell_type": "code",
      "source": [
        "bee_df = bee_df.replace({'location':'Athens, Georgia, USA'}, 'Athens, GA, USA')\n",
        "bee_df.head()"
      ],
      "metadata": {
        "colab": {
          "base_uri": "https://localhost:8080/",
          "height": 206
        },
        "id": "rxjMKRlnBRAK",
        "outputId": "c6a8cbb9-2ff2-41e6-8070-977238b0b4b9"
      },
      "execution_count": null,
      "outputs": [
        {
          "output_type": "execute_result",
          "data": {
            "text/plain": [
              "          file     date   time        location  zip code subspecies  \\\n",
              "0  041_066.png  8/28/18  16:07  Alvin, TX, USA     77511         -1   \n",
              "1  041_072.png  8/28/18  16:07  Alvin, TX, USA     77511         -1   \n",
              "2  041_073.png  8/28/18  16:07  Alvin, TX, USA     77511         -1   \n",
              "3  041_067.png  8/28/18  16:07  Alvin, TX, USA     77511         -1   \n",
              "4  041_059.png  8/28/18  16:07  Alvin, TX, USA     77511         -1   \n",
              "\n",
              "              health  pollen_carrying   caste  width  height  color  \n",
              "0  hive being robbed            False  worker    115     164      3  \n",
              "1  hive being robbed            False  worker    201      90      3  \n",
              "2  hive being robbed            False  worker    132     167      3  \n",
              "3  hive being robbed            False  worker    134      97      3  \n",
              "4  hive being robbed            False  worker    147     106      3  "
            ],
            "text/html": [
              "\n",
              "  <div id=\"df-fc3e19b2-927a-4428-8bf0-e5e1470ab39f\">\n",
              "    <div class=\"colab-df-container\">\n",
              "      <div>\n",
              "<style scoped>\n",
              "    .dataframe tbody tr th:only-of-type {\n",
              "        vertical-align: middle;\n",
              "    }\n",
              "\n",
              "    .dataframe tbody tr th {\n",
              "        vertical-align: top;\n",
              "    }\n",
              "\n",
              "    .dataframe thead th {\n",
              "        text-align: right;\n",
              "    }\n",
              "</style>\n",
              "<table border=\"1\" class=\"dataframe\">\n",
              "  <thead>\n",
              "    <tr style=\"text-align: right;\">\n",
              "      <th></th>\n",
              "      <th>file</th>\n",
              "      <th>date</th>\n",
              "      <th>time</th>\n",
              "      <th>location</th>\n",
              "      <th>zip code</th>\n",
              "      <th>subspecies</th>\n",
              "      <th>health</th>\n",
              "      <th>pollen_carrying</th>\n",
              "      <th>caste</th>\n",
              "      <th>width</th>\n",
              "      <th>height</th>\n",
              "      <th>color</th>\n",
              "    </tr>\n",
              "  </thead>\n",
              "  <tbody>\n",
              "    <tr>\n",
              "      <th>0</th>\n",
              "      <td>041_066.png</td>\n",
              "      <td>8/28/18</td>\n",
              "      <td>16:07</td>\n",
              "      <td>Alvin, TX, USA</td>\n",
              "      <td>77511</td>\n",
              "      <td>-1</td>\n",
              "      <td>hive being robbed</td>\n",
              "      <td>False</td>\n",
              "      <td>worker</td>\n",
              "      <td>115</td>\n",
              "      <td>164</td>\n",
              "      <td>3</td>\n",
              "    </tr>\n",
              "    <tr>\n",
              "      <th>1</th>\n",
              "      <td>041_072.png</td>\n",
              "      <td>8/28/18</td>\n",
              "      <td>16:07</td>\n",
              "      <td>Alvin, TX, USA</td>\n",
              "      <td>77511</td>\n",
              "      <td>-1</td>\n",
              "      <td>hive being robbed</td>\n",
              "      <td>False</td>\n",
              "      <td>worker</td>\n",
              "      <td>201</td>\n",
              "      <td>90</td>\n",
              "      <td>3</td>\n",
              "    </tr>\n",
              "    <tr>\n",
              "      <th>2</th>\n",
              "      <td>041_073.png</td>\n",
              "      <td>8/28/18</td>\n",
              "      <td>16:07</td>\n",
              "      <td>Alvin, TX, USA</td>\n",
              "      <td>77511</td>\n",
              "      <td>-1</td>\n",
              "      <td>hive being robbed</td>\n",
              "      <td>False</td>\n",
              "      <td>worker</td>\n",
              "      <td>132</td>\n",
              "      <td>167</td>\n",
              "      <td>3</td>\n",
              "    </tr>\n",
              "    <tr>\n",
              "      <th>3</th>\n",
              "      <td>041_067.png</td>\n",
              "      <td>8/28/18</td>\n",
              "      <td>16:07</td>\n",
              "      <td>Alvin, TX, USA</td>\n",
              "      <td>77511</td>\n",
              "      <td>-1</td>\n",
              "      <td>hive being robbed</td>\n",
              "      <td>False</td>\n",
              "      <td>worker</td>\n",
              "      <td>134</td>\n",
              "      <td>97</td>\n",
              "      <td>3</td>\n",
              "    </tr>\n",
              "    <tr>\n",
              "      <th>4</th>\n",
              "      <td>041_059.png</td>\n",
              "      <td>8/28/18</td>\n",
              "      <td>16:07</td>\n",
              "      <td>Alvin, TX, USA</td>\n",
              "      <td>77511</td>\n",
              "      <td>-1</td>\n",
              "      <td>hive being robbed</td>\n",
              "      <td>False</td>\n",
              "      <td>worker</td>\n",
              "      <td>147</td>\n",
              "      <td>106</td>\n",
              "      <td>3</td>\n",
              "    </tr>\n",
              "  </tbody>\n",
              "</table>\n",
              "</div>\n",
              "      <button class=\"colab-df-convert\" onclick=\"convertToInteractive('df-fc3e19b2-927a-4428-8bf0-e5e1470ab39f')\"\n",
              "              title=\"Convert this dataframe to an interactive table.\"\n",
              "              style=\"display:none;\">\n",
              "        \n",
              "  <svg xmlns=\"http://www.w3.org/2000/svg\" height=\"24px\"viewBox=\"0 0 24 24\"\n",
              "       width=\"24px\">\n",
              "    <path d=\"M0 0h24v24H0V0z\" fill=\"none\"/>\n",
              "    <path d=\"M18.56 5.44l.94 2.06.94-2.06 2.06-.94-2.06-.94-.94-2.06-.94 2.06-2.06.94zm-11 1L8.5 8.5l.94-2.06 2.06-.94-2.06-.94L8.5 2.5l-.94 2.06-2.06.94zm10 10l.94 2.06.94-2.06 2.06-.94-2.06-.94-.94-2.06-.94 2.06-2.06.94z\"/><path d=\"M17.41 7.96l-1.37-1.37c-.4-.4-.92-.59-1.43-.59-.52 0-1.04.2-1.43.59L10.3 9.45l-7.72 7.72c-.78.78-.78 2.05 0 2.83L4 21.41c.39.39.9.59 1.41.59.51 0 1.02-.2 1.41-.59l7.78-7.78 2.81-2.81c.8-.78.8-2.07 0-2.86zM5.41 20L4 18.59l7.72-7.72 1.47 1.35L5.41 20z\"/>\n",
              "  </svg>\n",
              "      </button>\n",
              "      \n",
              "  <style>\n",
              "    .colab-df-container {\n",
              "      display:flex;\n",
              "      flex-wrap:wrap;\n",
              "      gap: 12px;\n",
              "    }\n",
              "\n",
              "    .colab-df-convert {\n",
              "      background-color: #E8F0FE;\n",
              "      border: none;\n",
              "      border-radius: 50%;\n",
              "      cursor: pointer;\n",
              "      display: none;\n",
              "      fill: #1967D2;\n",
              "      height: 32px;\n",
              "      padding: 0 0 0 0;\n",
              "      width: 32px;\n",
              "    }\n",
              "\n",
              "    .colab-df-convert:hover {\n",
              "      background-color: #E2EBFA;\n",
              "      box-shadow: 0px 1px 2px rgba(60, 64, 67, 0.3), 0px 1px 3px 1px rgba(60, 64, 67, 0.15);\n",
              "      fill: #174EA6;\n",
              "    }\n",
              "\n",
              "    [theme=dark] .colab-df-convert {\n",
              "      background-color: #3B4455;\n",
              "      fill: #D2E3FC;\n",
              "    }\n",
              "\n",
              "    [theme=dark] .colab-df-convert:hover {\n",
              "      background-color: #434B5C;\n",
              "      box-shadow: 0px 1px 3px 1px rgba(0, 0, 0, 0.15);\n",
              "      filter: drop-shadow(0px 1px 2px rgba(0, 0, 0, 0.3));\n",
              "      fill: #FFFFFF;\n",
              "    }\n",
              "  </style>\n",
              "\n",
              "      <script>\n",
              "        const buttonEl =\n",
              "          document.querySelector('#df-fc3e19b2-927a-4428-8bf0-e5e1470ab39f button.colab-df-convert');\n",
              "        buttonEl.style.display =\n",
              "          google.colab.kernel.accessAllowed ? 'block' : 'none';\n",
              "\n",
              "        async function convertToInteractive(key) {\n",
              "          const element = document.querySelector('#df-fc3e19b2-927a-4428-8bf0-e5e1470ab39f');\n",
              "          const dataTable =\n",
              "            await google.colab.kernel.invokeFunction('convertToInteractive',\n",
              "                                                     [key], {});\n",
              "          if (!dataTable) return;\n",
              "\n",
              "          const docLinkHtml = 'Like what you see? Visit the ' +\n",
              "            '<a target=\"_blank\" href=https://colab.research.google.com/notebooks/data_table.ipynb>data table notebook</a>'\n",
              "            + ' to learn more about interactive tables.';\n",
              "          element.innerHTML = '';\n",
              "          dataTable['output_type'] = 'display_data';\n",
              "          await google.colab.output.renderOutput(dataTable, element);\n",
              "          const docLink = document.createElement('div');\n",
              "          docLink.innerHTML = docLinkHtml;\n",
              "          element.appendChild(docLink);\n",
              "        }\n",
              "      </script>\n",
              "    </div>\n",
              "  </div>\n",
              "  "
            ]
          },
          "metadata": {},
          "execution_count": 20
        }
      ]
    },
    {
      "cell_type": "code",
      "source": [
        "bee_df.location.value_counts()"
      ],
      "metadata": {
        "colab": {
          "base_uri": "https://localhost:8080/"
        },
        "id": "3H1IeQYMB8M1",
        "outputId": "c636d841-a767-438f-e8d0-243daf42ee3b"
      },
      "execution_count": null,
      "outputs": [
        {
          "output_type": "execute_result",
          "data": {
            "text/plain": [
              "Saratoga, CA, USA       2000\n",
              "Athens, GA, USA         1051\n",
              "Des Moines, IA, USA      973\n",
              "Alvin, TX, USA           737\n",
              "New Orleans, LA, USA     170\n",
              "San Jose, CA, USA        149\n",
              "Keene, NH, USA            92\n",
              "Name: location, dtype: int64"
            ]
          },
          "metadata": {},
          "execution_count": 21
        }
      ]
    },
    {
      "cell_type": "code",
      "source": [
        "bee_df['date_time'] = pd.to_datetime(bee_df['date'] + ' ' + bee_df['time'])\n",
        "bee_df[\"year\"] = bee_df['date_time'].dt.year\n",
        "bee_df[\"month\"] = bee_df['date_time'].dt.month\n",
        "bee_df[\"day\"] = bee_df['date_time'].dt.day\n",
        "bee_df[\"hour\"] = bee_df['date_time'].dt.hour\n",
        "bee_df[\"minute\"] = bee_df['date_time'].dt.minute"
      ],
      "metadata": {
        "id": "xV7Z5yuDCBcp"
      },
      "execution_count": null,
      "outputs": []
    },
    {
      "cell_type": "code",
      "source": [
        "bee_df.head()"
      ],
      "metadata": {
        "colab": {
          "base_uri": "https://localhost:8080/",
          "height": 206
        },
        "id": "ec_3JSSgIZ-0",
        "outputId": "103a158b-9d89-40be-8d28-058b97b00c85"
      },
      "execution_count": null,
      "outputs": [
        {
          "output_type": "execute_result",
          "data": {
            "text/plain": [
              "          file     date   time        location  zip code subspecies  \\\n",
              "0  041_066.png  8/28/18  16:07  Alvin, TX, USA     77511         -1   \n",
              "1  041_072.png  8/28/18  16:07  Alvin, TX, USA     77511         -1   \n",
              "2  041_073.png  8/28/18  16:07  Alvin, TX, USA     77511         -1   \n",
              "3  041_067.png  8/28/18  16:07  Alvin, TX, USA     77511         -1   \n",
              "4  041_059.png  8/28/18  16:07  Alvin, TX, USA     77511         -1   \n",
              "\n",
              "              health  pollen_carrying   caste  width  height  color  \\\n",
              "0  hive being robbed            False  worker    115     164      3   \n",
              "1  hive being robbed            False  worker    201      90      3   \n",
              "2  hive being robbed            False  worker    132     167      3   \n",
              "3  hive being robbed            False  worker    134      97      3   \n",
              "4  hive being robbed            False  worker    147     106      3   \n",
              "\n",
              "            date_time  year  month  day  hour  minute  \n",
              "0 2018-08-28 16:07:00  2018      8   28    16       7  \n",
              "1 2018-08-28 16:07:00  2018      8   28    16       7  \n",
              "2 2018-08-28 16:07:00  2018      8   28    16       7  \n",
              "3 2018-08-28 16:07:00  2018      8   28    16       7  \n",
              "4 2018-08-28 16:07:00  2018      8   28    16       7  "
            ],
            "text/html": [
              "\n",
              "  <div id=\"df-0a9f279b-3cd0-44c3-8706-aa3db0e80916\">\n",
              "    <div class=\"colab-df-container\">\n",
              "      <div>\n",
              "<style scoped>\n",
              "    .dataframe tbody tr th:only-of-type {\n",
              "        vertical-align: middle;\n",
              "    }\n",
              "\n",
              "    .dataframe tbody tr th {\n",
              "        vertical-align: top;\n",
              "    }\n",
              "\n",
              "    .dataframe thead th {\n",
              "        text-align: right;\n",
              "    }\n",
              "</style>\n",
              "<table border=\"1\" class=\"dataframe\">\n",
              "  <thead>\n",
              "    <tr style=\"text-align: right;\">\n",
              "      <th></th>\n",
              "      <th>file</th>\n",
              "      <th>date</th>\n",
              "      <th>time</th>\n",
              "      <th>location</th>\n",
              "      <th>zip code</th>\n",
              "      <th>subspecies</th>\n",
              "      <th>health</th>\n",
              "      <th>pollen_carrying</th>\n",
              "      <th>caste</th>\n",
              "      <th>width</th>\n",
              "      <th>height</th>\n",
              "      <th>color</th>\n",
              "      <th>date_time</th>\n",
              "      <th>year</th>\n",
              "      <th>month</th>\n",
              "      <th>day</th>\n",
              "      <th>hour</th>\n",
              "      <th>minute</th>\n",
              "    </tr>\n",
              "  </thead>\n",
              "  <tbody>\n",
              "    <tr>\n",
              "      <th>0</th>\n",
              "      <td>041_066.png</td>\n",
              "      <td>8/28/18</td>\n",
              "      <td>16:07</td>\n",
              "      <td>Alvin, TX, USA</td>\n",
              "      <td>77511</td>\n",
              "      <td>-1</td>\n",
              "      <td>hive being robbed</td>\n",
              "      <td>False</td>\n",
              "      <td>worker</td>\n",
              "      <td>115</td>\n",
              "      <td>164</td>\n",
              "      <td>3</td>\n",
              "      <td>2018-08-28 16:07:00</td>\n",
              "      <td>2018</td>\n",
              "      <td>8</td>\n",
              "      <td>28</td>\n",
              "      <td>16</td>\n",
              "      <td>7</td>\n",
              "    </tr>\n",
              "    <tr>\n",
              "      <th>1</th>\n",
              "      <td>041_072.png</td>\n",
              "      <td>8/28/18</td>\n",
              "      <td>16:07</td>\n",
              "      <td>Alvin, TX, USA</td>\n",
              "      <td>77511</td>\n",
              "      <td>-1</td>\n",
              "      <td>hive being robbed</td>\n",
              "      <td>False</td>\n",
              "      <td>worker</td>\n",
              "      <td>201</td>\n",
              "      <td>90</td>\n",
              "      <td>3</td>\n",
              "      <td>2018-08-28 16:07:00</td>\n",
              "      <td>2018</td>\n",
              "      <td>8</td>\n",
              "      <td>28</td>\n",
              "      <td>16</td>\n",
              "      <td>7</td>\n",
              "    </tr>\n",
              "    <tr>\n",
              "      <th>2</th>\n",
              "      <td>041_073.png</td>\n",
              "      <td>8/28/18</td>\n",
              "      <td>16:07</td>\n",
              "      <td>Alvin, TX, USA</td>\n",
              "      <td>77511</td>\n",
              "      <td>-1</td>\n",
              "      <td>hive being robbed</td>\n",
              "      <td>False</td>\n",
              "      <td>worker</td>\n",
              "      <td>132</td>\n",
              "      <td>167</td>\n",
              "      <td>3</td>\n",
              "      <td>2018-08-28 16:07:00</td>\n",
              "      <td>2018</td>\n",
              "      <td>8</td>\n",
              "      <td>28</td>\n",
              "      <td>16</td>\n",
              "      <td>7</td>\n",
              "    </tr>\n",
              "    <tr>\n",
              "      <th>3</th>\n",
              "      <td>041_067.png</td>\n",
              "      <td>8/28/18</td>\n",
              "      <td>16:07</td>\n",
              "      <td>Alvin, TX, USA</td>\n",
              "      <td>77511</td>\n",
              "      <td>-1</td>\n",
              "      <td>hive being robbed</td>\n",
              "      <td>False</td>\n",
              "      <td>worker</td>\n",
              "      <td>134</td>\n",
              "      <td>97</td>\n",
              "      <td>3</td>\n",
              "      <td>2018-08-28 16:07:00</td>\n",
              "      <td>2018</td>\n",
              "      <td>8</td>\n",
              "      <td>28</td>\n",
              "      <td>16</td>\n",
              "      <td>7</td>\n",
              "    </tr>\n",
              "    <tr>\n",
              "      <th>4</th>\n",
              "      <td>041_059.png</td>\n",
              "      <td>8/28/18</td>\n",
              "      <td>16:07</td>\n",
              "      <td>Alvin, TX, USA</td>\n",
              "      <td>77511</td>\n",
              "      <td>-1</td>\n",
              "      <td>hive being robbed</td>\n",
              "      <td>False</td>\n",
              "      <td>worker</td>\n",
              "      <td>147</td>\n",
              "      <td>106</td>\n",
              "      <td>3</td>\n",
              "      <td>2018-08-28 16:07:00</td>\n",
              "      <td>2018</td>\n",
              "      <td>8</td>\n",
              "      <td>28</td>\n",
              "      <td>16</td>\n",
              "      <td>7</td>\n",
              "    </tr>\n",
              "  </tbody>\n",
              "</table>\n",
              "</div>\n",
              "      <button class=\"colab-df-convert\" onclick=\"convertToInteractive('df-0a9f279b-3cd0-44c3-8706-aa3db0e80916')\"\n",
              "              title=\"Convert this dataframe to an interactive table.\"\n",
              "              style=\"display:none;\">\n",
              "        \n",
              "  <svg xmlns=\"http://www.w3.org/2000/svg\" height=\"24px\"viewBox=\"0 0 24 24\"\n",
              "       width=\"24px\">\n",
              "    <path d=\"M0 0h24v24H0V0z\" fill=\"none\"/>\n",
              "    <path d=\"M18.56 5.44l.94 2.06.94-2.06 2.06-.94-2.06-.94-.94-2.06-.94 2.06-2.06.94zm-11 1L8.5 8.5l.94-2.06 2.06-.94-2.06-.94L8.5 2.5l-.94 2.06-2.06.94zm10 10l.94 2.06.94-2.06 2.06-.94-2.06-.94-.94-2.06-.94 2.06-2.06.94z\"/><path d=\"M17.41 7.96l-1.37-1.37c-.4-.4-.92-.59-1.43-.59-.52 0-1.04.2-1.43.59L10.3 9.45l-7.72 7.72c-.78.78-.78 2.05 0 2.83L4 21.41c.39.39.9.59 1.41.59.51 0 1.02-.2 1.41-.59l7.78-7.78 2.81-2.81c.8-.78.8-2.07 0-2.86zM5.41 20L4 18.59l7.72-7.72 1.47 1.35L5.41 20z\"/>\n",
              "  </svg>\n",
              "      </button>\n",
              "      \n",
              "  <style>\n",
              "    .colab-df-container {\n",
              "      display:flex;\n",
              "      flex-wrap:wrap;\n",
              "      gap: 12px;\n",
              "    }\n",
              "\n",
              "    .colab-df-convert {\n",
              "      background-color: #E8F0FE;\n",
              "      border: none;\n",
              "      border-radius: 50%;\n",
              "      cursor: pointer;\n",
              "      display: none;\n",
              "      fill: #1967D2;\n",
              "      height: 32px;\n",
              "      padding: 0 0 0 0;\n",
              "      width: 32px;\n",
              "    }\n",
              "\n",
              "    .colab-df-convert:hover {\n",
              "      background-color: #E2EBFA;\n",
              "      box-shadow: 0px 1px 2px rgba(60, 64, 67, 0.3), 0px 1px 3px 1px rgba(60, 64, 67, 0.15);\n",
              "      fill: #174EA6;\n",
              "    }\n",
              "\n",
              "    [theme=dark] .colab-df-convert {\n",
              "      background-color: #3B4455;\n",
              "      fill: #D2E3FC;\n",
              "    }\n",
              "\n",
              "    [theme=dark] .colab-df-convert:hover {\n",
              "      background-color: #434B5C;\n",
              "      box-shadow: 0px 1px 3px 1px rgba(0, 0, 0, 0.15);\n",
              "      filter: drop-shadow(0px 1px 2px rgba(0, 0, 0, 0.3));\n",
              "      fill: #FFFFFF;\n",
              "    }\n",
              "  </style>\n",
              "\n",
              "      <script>\n",
              "        const buttonEl =\n",
              "          document.querySelector('#df-0a9f279b-3cd0-44c3-8706-aa3db0e80916 button.colab-df-convert');\n",
              "        buttonEl.style.display =\n",
              "          google.colab.kernel.accessAllowed ? 'block' : 'none';\n",
              "\n",
              "        async function convertToInteractive(key) {\n",
              "          const element = document.querySelector('#df-0a9f279b-3cd0-44c3-8706-aa3db0e80916');\n",
              "          const dataTable =\n",
              "            await google.colab.kernel.invokeFunction('convertToInteractive',\n",
              "                                                     [key], {});\n",
              "          if (!dataTable) return;\n",
              "\n",
              "          const docLinkHtml = 'Like what you see? Visit the ' +\n",
              "            '<a target=\"_blank\" href=https://colab.research.google.com/notebooks/data_table.ipynb>data table notebook</a>'\n",
              "            + ' to learn more about interactive tables.';\n",
              "          element.innerHTML = '';\n",
              "          dataTable['output_type'] = 'display_data';\n",
              "          await google.colab.output.renderOutput(dataTable, element);\n",
              "          const docLink = document.createElement('div');\n",
              "          docLink.innerHTML = docLinkHtml;\n",
              "          element.appendChild(docLink);\n",
              "        }\n",
              "      </script>\n",
              "    </div>\n",
              "  </div>\n",
              "  "
            ]
          },
          "metadata": {},
          "execution_count": 23
        }
      ]
    },
    {
      "cell_type": "code",
      "source": [],
      "metadata": {
        "id": "X8YDB1CQIpfp"
      },
      "execution_count": null,
      "outputs": []
    },
    {
      "cell_type": "code",
      "source": [],
      "metadata": {
        "id": "bsBgGCI5JBLa"
      },
      "execution_count": null,
      "outputs": []
    },
    {
      "cell_type": "code",
      "source": [],
      "metadata": {
        "id": "hMdtyPqNJBNC"
      },
      "execution_count": null,
      "outputs": []
    },
    {
      "cell_type": "code",
      "source": [],
      "metadata": {
        "id": "FbLAI3MCJBQm"
      },
      "execution_count": null,
      "outputs": []
    },
    {
      "cell_type": "markdown",
      "source": [
        "### Train-test-split"
      ],
      "metadata": {
        "id": "ZFiPfn1EJB0u"
      }
    },
    {
      "cell_type": "code",
      "source": [],
      "metadata": {
        "id": "a5lGRYXcJOrz"
      },
      "execution_count": null,
      "outputs": []
    },
    {
      "cell_type": "code",
      "source": [
        "train_df, test_df = train_test_split(bee_df, test_size=TEST_SIZE, \n",
        "                                     random_state=RANDOM_STATE, \n",
        "                                     stratify=bee_df['subspecies'])"
      ],
      "metadata": {
        "id": "1HCwBEljJHkI"
      },
      "execution_count": null,
      "outputs": []
    },
    {
      "cell_type": "code",
      "source": [
        "train_df, val_df = train_test_split(train_df, test_size=VAL_SIZE, \n",
        "                                    random_state=RANDOM_STATE, \n",
        "                                    stratify=train_df['subspecies'])"
      ],
      "metadata": {
        "id": "pBPx-KVTJipW"
      },
      "execution_count": null,
      "outputs": []
    },
    {
      "cell_type": "code",
      "source": [
        "print(\"Train set rows: {}\".format(train_df.shape[0]))\n",
        "print(\"Test  set rows: {}\".format(test_df.shape[0]))\n",
        "print(\"Val   set rows: {}\".format(val_df.shape[0]))"
      ],
      "metadata": {
        "colab": {
          "base_uri": "https://localhost:8080/"
        },
        "id": "N1sKQ2LrJq50",
        "outputId": "d702eff8-aeea-42f5-eea6-3aa83f60fe0f"
      },
      "execution_count": null,
      "outputs": [
        {
          "output_type": "stream",
          "name": "stdout",
          "text": [
            "Train set rows: 3309\n",
            "Test  set rows: 1035\n",
            "Val   set rows: 828\n"
          ]
        }
      ]
    },
    {
      "cell_type": "code",
      "source": [
        "def read_image(file_name):\n",
        "    image = skimage.io.imread(IMAGE_PATH + file_name)\n",
        "    image = skimage.transform.resize(image, (IMAGE_WIDTH, IMAGE_HEIGHT), mode='reflect')\n",
        "    return image[:,:,:IMAGE_CHANNELS]"
      ],
      "metadata": {
        "id": "LyXt3wKxJtvr"
      },
      "execution_count": null,
      "outputs": []
    },
    {
      "cell_type": "code",
      "source": [
        "def categories_encoder(dataset, var='subspecies'):\n",
        "    X = np.stack(dataset['file'].apply(read_image))\n",
        "    y = pd.get_dummies(dataset[var], drop_first=False)\n",
        "    return X, y"
      ],
      "metadata": {
        "id": "u17-sAQ4KAUZ"
      },
      "execution_count": null,
      "outputs": []
    },
    {
      "cell_type": "code",
      "source": [
        "X_train, y_train = categories_encoder(train_df)\n",
        "X_val, y_val = categories_encoder(val_df)\n",
        "X_test, y_test = categories_encoder(test_df)"
      ],
      "metadata": {
        "id": "sz3B6GCcKZoZ"
      },
      "execution_count": null,
      "outputs": []
    },
    {
      "cell_type": "code",
      "source": [],
      "metadata": {
        "id": "7j9ovIJMKhn1"
      },
      "execution_count": null,
      "outputs": []
    },
    {
      "cell_type": "markdown",
      "source": [
        "## CNN"
      ],
      "metadata": {
        "id": "Y3WgwKJLKsIp"
      }
    },
    {
      "cell_type": "code",
      "source": [
        "model1 = Sequential()\n",
        "\n",
        "\n",
        "model1.add(Conv2D(CONV_2D_DIM_1, kernel_size=KERNEL_SIZE, input_shape=(IMAGE_WIDTH, IMAGE_HEIGHT,IMAGE_CHANNELS), activation='relu', padding='same'))\n",
        "model1.add(MaxPool2D(MAX_POOL_DIM))\n",
        "model1.add(Conv2D(CONV_2D_DIM_2, kernel_size=KERNEL_SIZE, activation='relu', padding='same'))\n",
        "model1.add(Flatten())\n",
        "model1.add(Dense(y_train.columns.size, activation='softmax'))\n",
        "\n",
        "\n",
        "model1.compile(optimizer='adam', loss='categorical_crossentropy', metrics=['accuracy'])"
      ],
      "metadata": {
        "id": "AwfiMx-aKrYc"
      },
      "execution_count": null,
      "outputs": []
    },
    {
      "cell_type": "code",
      "source": [
        "model1.summary()"
      ],
      "metadata": {
        "colab": {
          "base_uri": "https://localhost:8080/"
        },
        "id": "F5wDHP7qLQFf",
        "outputId": "dd134ca9-ae03-479c-c0df-016797ee03d2"
      },
      "execution_count": null,
      "outputs": [
        {
          "output_type": "stream",
          "name": "stdout",
          "text": [
            "Model: \"sequential\"\n",
            "_________________________________________________________________\n",
            " Layer (type)                Output Shape              Param #   \n",
            "=================================================================\n",
            " conv2d (Conv2D)             (None, 100, 100, 16)      448       \n",
            "                                                                 \n",
            " max_pooling2d (MaxPooling2D  (None, 50, 50, 16)       0         \n",
            " )                                                               \n",
            "                                                                 \n",
            " conv2d_1 (Conv2D)           (None, 50, 50, 16)        2320      \n",
            "                                                                 \n",
            " flatten (Flatten)           (None, 40000)             0         \n",
            "                                                                 \n",
            " dense (Dense)               (None, 7)                 280007    \n",
            "                                                                 \n",
            "=================================================================\n",
            "Total params: 282,775\n",
            "Trainable params: 282,775\n",
            "Non-trainable params: 0\n",
            "_________________________________________________________________\n"
          ]
        }
      ]
    },
    {
      "cell_type": "code",
      "source": [],
      "metadata": {
        "id": "vUfqwPsvEFYQ"
      },
      "execution_count": null,
      "outputs": []
    },
    {
      "cell_type": "code",
      "source": [
        "history1 = model1.fit(\n",
        "    X_train, y_train,\n",
        "    validation_data=(X_val, y_val),\n",
        "    epochs=10,\n",
        "    batch_size=256,\n",
        "    verbose=1\n",
        ")"
      ],
      "metadata": {
        "colab": {
          "base_uri": "https://localhost:8080/"
        },
        "id": "OP1dlLEmLSCg",
        "outputId": "b4359bf8-8408-4efb-91f2-a294ddacccb7"
      },
      "execution_count": null,
      "outputs": [
        {
          "output_type": "stream",
          "name": "stdout",
          "text": [
            "Epoch 1/10\n",
            "13/13 [==============================] - 10s 100ms/step - loss: 1.4685 - accuracy: 0.5660 - val_loss: 1.0839 - val_accuracy: 0.6522\n",
            "Epoch 2/10\n",
            "13/13 [==============================] - 1s 47ms/step - loss: 0.8635 - accuracy: 0.7117 - val_loss: 0.7272 - val_accuracy: 0.7669\n",
            "Epoch 3/10\n",
            "13/13 [==============================] - 1s 47ms/step - loss: 0.6399 - accuracy: 0.7718 - val_loss: 0.5897 - val_accuracy: 0.7766\n",
            "Epoch 4/10\n",
            "13/13 [==============================] - 1s 48ms/step - loss: 0.5058 - accuracy: 0.8024 - val_loss: 0.4803 - val_accuracy: 0.8043\n",
            "Epoch 5/10\n",
            "13/13 [==============================] - 1s 47ms/step - loss: 0.4181 - accuracy: 0.8377 - val_loss: 0.4368 - val_accuracy: 0.8297\n",
            "Epoch 6/10\n",
            "13/13 [==============================] - 1s 53ms/step - loss: 0.3715 - accuracy: 0.8616 - val_loss: 0.3935 - val_accuracy: 0.8454\n",
            "Epoch 7/10\n",
            "13/13 [==============================] - 1s 48ms/step - loss: 0.3332 - accuracy: 0.8840 - val_loss: 0.3499 - val_accuracy: 0.8575\n",
            "Epoch 8/10\n",
            "13/13 [==============================] - 1s 47ms/step - loss: 0.2881 - accuracy: 0.8924 - val_loss: 0.3432 - val_accuracy: 0.8684\n",
            "Epoch 9/10\n",
            "13/13 [==============================] - 1s 48ms/step - loss: 0.2709 - accuracy: 0.8994 - val_loss: 0.3235 - val_accuracy: 0.8816\n",
            "Epoch 10/10\n",
            "13/13 [==============================] - 1s 46ms/step - loss: 0.2518 - accuracy: 0.9006 - val_loss: 0.2994 - val_accuracy: 0.8768\n"
          ]
        }
      ]
    },
    {
      "cell_type": "code",
      "source": [
        "history1.history"
      ],
      "metadata": {
        "colab": {
          "base_uri": "https://localhost:8080/"
        },
        "id": "HsphP9xNEifq",
        "outputId": "75dfc561-884c-43de-b21f-2138195f1cc4"
      },
      "execution_count": null,
      "outputs": [
        {
          "output_type": "execute_result",
          "data": {
            "text/plain": [
              "{'loss': [1.4685367345809937,\n",
              "  0.8634551763534546,\n",
              "  0.6398981213569641,\n",
              "  0.5058078765869141,\n",
              "  0.4181329011917114,\n",
              "  0.3715045154094696,\n",
              "  0.3331577777862549,\n",
              "  0.2880605161190033,\n",
              "  0.27085795998573303,\n",
              "  0.25182807445526123],\n",
              " 'accuracy': [0.5660320520401001,\n",
              "  0.7116953730583191,\n",
              "  0.7718343734741211,\n",
              "  0.8023571968078613,\n",
              "  0.8377153277397156,\n",
              "  0.8615896105766296,\n",
              "  0.8839528560638428,\n",
              "  0.8924146294593811,\n",
              "  0.8993653655052185,\n",
              "  0.9005742073059082],\n",
              " 'val_loss': [1.0839459896087646,\n",
              "  0.7271819114685059,\n",
              "  0.5897247195243835,\n",
              "  0.4802972972393036,\n",
              "  0.4368457496166229,\n",
              "  0.39346763491630554,\n",
              "  0.34991830587387085,\n",
              "  0.3431793451309204,\n",
              "  0.32350021600723267,\n",
              "  0.29936620593070984],\n",
              " 'val_accuracy': [0.6521739363670349,\n",
              "  0.7669082283973694,\n",
              "  0.7765700221061707,\n",
              "  0.804347813129425,\n",
              "  0.8297101259231567,\n",
              "  0.8454106450080872,\n",
              "  0.8574879169464111,\n",
              "  0.8683574795722961,\n",
              "  0.8816425204277039,\n",
              "  0.8768116235733032]}"
            ]
          },
          "metadata": {},
          "execution_count": 33
        }
      ]
    },
    {
      "cell_type": "code",
      "source": [
        "model1.history"
      ],
      "metadata": {
        "colab": {
          "base_uri": "https://localhost:8080/"
        },
        "id": "dNhntR-GOsau",
        "outputId": "66fa9d35-5012-4a39-f75b-cfc5cc943a84"
      },
      "execution_count": null,
      "outputs": [
        {
          "output_type": "execute_result",
          "data": {
            "text/plain": [
              "<keras.callbacks.History at 0x7f4d4a4ead10>"
            ]
          },
          "metadata": {},
          "execution_count": 34
        }
      ]
    },
    {
      "cell_type": "code",
      "source": [
        "def plot_loss(history):\n",
        "    train_loss = history.history['loss']\n",
        "    test_loss = history.history['val_loss']\n",
        "\n",
        "    # Set figure size\n",
        "    plt.figure(figsize=(12, 8))\n",
        "\n",
        "    # Generate line plot of training, testing loss over epochs\n",
        "    plt.plot(train_loss, label='Training Loss', color='#185fad')\n",
        "    plt.plot(test_loss, label='Testing Loss', color='orange')\n",
        "\n",
        "    # Set title\n",
        "    plt.title('Training and Testing Loss by Epoch', fontsize = 25)\n",
        "    plt.xlabel('Epoch', fontsize = 18)\n",
        "    plt.ylabel('Categorical Crossentropy', fontsize = 18)\n",
        "    plt.xticks(np.arange(10), np.arange(10))\n",
        "\n",
        "    plt.legend(fontsize = 18);\n",
        "\n",
        "plot_loss(history1)"
      ],
      "metadata": {
        "colab": {
          "base_uri": "https://localhost:8080/",
          "height": 530
        },
        "id": "i5nRHKYkPORt",
        "outputId": "c4624abe-d4a9-495e-ae52-85ec05870c4c"
      },
      "execution_count": null,
      "outputs": [
        {
          "output_type": "display_data",
          "data": {
            "text/plain": [
              "<Figure size 864x576 with 1 Axes>"
            ],
            "image/png": "[encoded data removed]"
          },
          "metadata": {
            "needs_background": "light"
          }
        }
      ]
    },
    {
      "cell_type": "markdown",
      "source": [
        "### With Image Augmentation"
      ],
      "metadata": {
        "id": "ErnxKeFSENU0"
      }
    },
    {
      "cell_type": "code",
      "source": [
        "image_generator = ImageDataGenerator(\n",
        "        featurewise_center=False,\n",
        "        samplewise_center=False,\n",
        "        featurewise_std_normalization=False,\n",
        "        samplewise_std_normalization=False,\n",
        "        zca_whitening=False,\n",
        "        rotation_range=180,\n",
        "        zoom_range = 0.1, \n",
        "        width_shift_range=0.1,\n",
        "        height_shift_range=0.1, \n",
        "        horizontal_flip=True,\n",
        "        vertical_flip=True)\n",
        "image_generator.fit(X_train)"
      ],
      "metadata": {
        "id": "MHGx8CRfNSLE"
      },
      "execution_count": null,
      "outputs": []
    },
    {
      "cell_type": "code",
      "source": [
        "model1_train = model1.fit_generator(image_generator.flow(X_train, y_train, batch_size=BATCH_SIZE),\n",
        "                        epochs=NO_EPOCHS_1,\n",
        "                        validation_data=[X_val, y_val],\n",
        "                        steps_per_epoch=len(X_train)/BATCH_SIZE)"
      ],
      "metadata": {
        "id": "NBGpd0x2OdzY",
        "colab": {
          "base_uri": "https://localhost:8080/"
        },
        "outputId": "bcd7d03e-d6a4-4635-c15e-05d6c21d2a99"
      },
      "execution_count": null,
      "outputs": [
        {
          "output_type": "stream",
          "name": "stdout",
          "text": [
            "Epoch 1/5\n"
          ]
        },
        {
          "output_type": "stream",
          "name": "stderr",
          "text": [
            "/usr/local/lib/python3.7/dist-packages/ipykernel_launcher.py:4: UserWarning:\n",
            "\n",
            "`Model.fit_generator` is deprecated and will be removed in a future version. Please use `Model.fit`, which supports generators.\n",
            "\n"
          ]
        },
        {
          "output_type": "stream",
          "name": "stdout",
          "text": [
            "103/103 [==============================] - 8s 72ms/step - loss: 0.5482 - accuracy: 0.8008 - val_loss: 0.3376 - val_accuracy: 0.8708\n",
            "Epoch 2/5\n",
            "103/103 [==============================] - 7s 71ms/step - loss: 0.3900 - accuracy: 0.8444 - val_loss: 0.3086 - val_accuracy: 0.8696\n",
            "Epoch 3/5\n",
            "103/103 [==============================] - 8s 82ms/step - loss: 0.3484 - accuracy: 0.8546 - val_loss: 0.3083 - val_accuracy: 0.8575\n",
            "Epoch 4/5\n",
            "103/103 [==============================] - 7s 71ms/step - loss: 0.3635 - accuracy: 0.8571 - val_loss: 0.3018 - val_accuracy: 0.8853\n",
            "Epoch 5/5\n",
            "103/103 [==============================] - 7s 72ms/step - loss: 0.3885 - accuracy: 0.8474 - val_loss: 0.4609 - val_accuracy: 0.7971\n"
          ]
        }
      ]
    },
    {
      "cell_type": "code",
      "source": [
        "# summarize history for accuracy\n",
        "def plot_acc_and_loss(model):\n",
        "  plt.figure(figsize=(15,10))\n",
        "  plt.plot(model.history['accuracy'])\n",
        "  plt.plot(model.history['val_accuracy'])\n",
        "  plt.title('Accuracy', fontsize = 15)\n",
        "  plt.ylabel('Accuracy')\n",
        "  plt.xlabel('Epoch')\n",
        "  plt.legend(['Train', 'Validation'], loc='upper left')\n",
        "  plt.show()\n",
        "# summarize history for loss\n",
        "  plt.figure(figsize=(15,10))\n",
        "  plt.plot(model.history['loss'])\n",
        "  plt.plot(model.history['val_loss'])\n",
        "  plt.title('Loss', fontsize = 15)\n",
        "  plt.ylabel('Loss')\n",
        "  plt.xlabel('Epoch')\n",
        "  plt.legend(['Train', 'Validation'], loc='upper left')\n",
        "  plt.show()"
      ],
      "metadata": {
        "id": "EBGZQ5Ipl5Av"
      },
      "execution_count": null,
      "outputs": []
    },
    {
      "cell_type": "code",
      "source": [
        "plot_acc_and_loss(model1_train)"
      ],
      "metadata": {
        "id": "Cl8M8-shGBk5",
        "colab": {
          "base_uri": "https://localhost:8080/",
          "height": 1000
        },
        "outputId": "e69fe4cd-2e1e-4f26-d66f-5919df62a02a"
      },
      "execution_count": null,
      "outputs": [
        {
          "output_type": "display_data",
          "data": {
            "text/plain": [
              "<Figure size 1080x720 with 1 Axes>"
            ],
            "image/png": "[encoded data removed]"
          },
          "metadata": {
            "needs_background": "light"
          }
        },
        {
          "output_type": "display_data",
          "data": {
            "text/plain": [
              "<Figure size 1080x720 with 1 Axes>"
            ],
            "image/png": "[encoded data removed]"
          },
          "metadata": {
            "needs_background": "light"
          }
        }
      ]
    },
    {
      "cell_type": "code",
      "source": [],
      "metadata": {
        "id": "zNKenYEEGwW4"
      },
      "execution_count": null,
      "outputs": []
    },
    {
      "cell_type": "markdown",
      "source": [
        "Model Evaluation"
      ],
      "metadata": {
        "id": "h5b9JdoaxW07"
      }
    },
    {
      "cell_type": "code",
      "source": [
        "score = model1.evaluate(X_test, y_test, verbose=1)\n",
        "print('Test loss:', score[0])\n",
        "print('Test accuracy:', score[1])"
      ],
      "metadata": {
        "colab": {
          "base_uri": "https://localhost:8080/"
        },
        "id": "Kh2mPf6uxYEn",
        "outputId": "53e84f5e-7939-43a2-be1e-771e14d9e3a3"
      },
      "execution_count": null,
      "outputs": [
        {
          "output_type": "stream",
          "name": "stdout",
          "text": [
            "33/33 [==============================] - 0s 7ms/step - loss: 0.4975 - accuracy: 0.7942\n",
            "Test loss: 0.49748507142066956\n",
            "Test accuracy: 0.7942029237747192\n"
          ]
        }
      ]
    },
    {
      "cell_type": "code",
      "source": [
        "def test_accuracy_report(model):\n",
        "    predicted = model.predict(X_test)\n",
        "    test_predicted = np.argmax(predicted, axis=1)\n",
        "    test_truth = np.argmax(y_test.values, axis=1)\n",
        "    print(metrics.classification_report(test_truth, test_predicted, target_names=y_test.columns)) \n",
        "    test_res = model.evaluate(X_test, y_test.values, verbose=0)\n",
        "    print('Loss function: %s, accuracy:' % test_res[0], test_res[1])"
      ],
      "metadata": {
        "id": "nDD-gzjnx-I7"
      },
      "execution_count": null,
      "outputs": []
    },
    {
      "cell_type": "code",
      "source": [
        "test_accuracy_report(model1)"
      ],
      "metadata": {
        "colab": {
          "base_uri": "https://localhost:8080/"
        },
        "id": "Nk17XmW4ydNB",
        "outputId": "309a2b84-3ed7-4031-b430-fdb57c8c4dc8"
      },
      "execution_count": null,
      "outputs": [
        {
          "output_type": "stream",
          "name": "stdout",
          "text": [
            "33/33 [==============================] - 0s 3ms/step\n",
            "                       precision    recall  f1-score   support\n",
            "\n",
            "                   -1       0.96      0.50      0.66        86\n",
            "1 Mixed local stock 2       0.76      0.17      0.28        94\n",
            "  Carniolan honey bee       0.55      0.96      0.70       100\n",
            "    Italian honey bee       0.83      0.99      0.90       602\n",
            "    Russian honey bee       0.84      0.25      0.39       106\n",
            "VSH Italian honey bee       0.97      0.88      0.92        40\n",
            "    Western honey bee       1.00      1.00      1.00         7\n",
            "\n",
            "             accuracy                           0.79      1035\n",
            "            macro avg       0.85      0.68      0.69      1035\n",
            "         weighted avg       0.82      0.79      0.76      1035\n",
            "\n",
            "Loss function: 0.49748507142066956, accuracy: 0.7942029237747192\n"
          ]
        }
      ]
    },
    {
      "cell_type": "code",
      "source": [],
      "metadata": {
        "id": "ptwgsGWryq6b"
      },
      "execution_count": null,
      "outputs": []
    },
    {
      "cell_type": "markdown",
      "source": [
        "Dropout Layers"
      ],
      "metadata": {
        "id": "jN5E7pqDzD6z"
      }
    },
    {
      "cell_type": "code",
      "source": [
        "model_drop=Sequential()\n",
        "model_drop.add(Conv2D(CONV_2D_DIM_1, kernel_size=KERNEL_SIZE, input_shape=(IMAGE_WIDTH, IMAGE_HEIGHT,IMAGE_CHANNELS), activation='relu', padding='same'))\n",
        "model_drop.add(MaxPool2D(MAX_POOL_DIM))\n",
        "# Dropout Layer\n",
        "model_drop.add(Dropout(0.4))\n",
        "model_drop.add(Conv2D(CONV_2D_DIM_2, kernel_size=KERNEL_SIZE, activation='relu', padding='same'))\n",
        "# Dropout Layer\n",
        "model_drop.add(Dropout(0.4))\n",
        "model_drop.add(Flatten())\n",
        "model_drop.add(Dense(y_train.columns.size, activation='softmax'))\n",
        "model_drop.compile(optimizer='adam', loss='categorical_crossentropy', metrics=['accuracy'])"
      ],
      "metadata": {
        "id": "T9_au5tKzE6o"
      },
      "execution_count": null,
      "outputs": []
    },
    {
      "cell_type": "code",
      "source": [
        "model_drop_train  = model_drop.fit_generator(image_generator.flow(X_train, y_train, batch_size=BATCH_SIZE),\n",
        "                        epochs=NO_EPOCHS_2,\n",
        "                        validation_data=[X_val, y_val],\n",
        "                        steps_per_epoch=len(X_train)/BATCH_SIZE)"
      ],
      "metadata": {
        "colab": {
          "base_uri": "https://localhost:8080/"
        },
        "id": "6u8pRO2XzdiU",
        "outputId": "1dff8ac0-ae3a-4bda-c483-1b2083ff18d0"
      },
      "execution_count": null,
      "outputs": [
        {
          "output_type": "stream",
          "name": "stdout",
          "text": [
            "Epoch 1/10\n"
          ]
        },
        {
          "output_type": "stream",
          "name": "stderr",
          "text": [
            "/usr/local/lib/python3.7/dist-packages/ipykernel_launcher.py:4: UserWarning:\n",
            "\n",
            "`Model.fit_generator` is deprecated and will be removed in a future version. Please use `Model.fit`, which supports generators.\n",
            "\n"
          ]
        },
        {
          "output_type": "stream",
          "name": "stdout",
          "text": [
            "103/103 [==============================] - 8s 74ms/step - loss: 1.0896 - accuracy: 0.6585 - val_loss: 0.8019 - val_accuracy: 0.6800\n",
            "Epoch 2/10\n",
            "103/103 [==============================] - 10s 97ms/step - loss: 0.6700 - accuracy: 0.7498 - val_loss: 0.6864 - val_accuracy: 0.7609\n",
            "Epoch 3/10\n",
            "103/103 [==============================] - 7s 71ms/step - loss: 0.5524 - accuracy: 0.7836 - val_loss: 0.4574 - val_accuracy: 0.8140\n",
            "Epoch 4/10\n",
            "103/103 [==============================] - 9s 88ms/step - loss: 0.4466 - accuracy: 0.8199 - val_loss: 0.4028 - val_accuracy: 0.8430\n",
            "Epoch 5/10\n",
            "103/103 [==============================] - 8s 75ms/step - loss: 0.3943 - accuracy: 0.8456 - val_loss: 0.3445 - val_accuracy: 0.8684\n",
            "Epoch 6/10\n",
            "103/103 [==============================] - 8s 73ms/step - loss: 0.3570 - accuracy: 0.8549 - val_loss: 0.3951 - val_accuracy: 0.8502\n",
            "Epoch 7/10\n",
            "103/103 [==============================] - 8s 73ms/step - loss: 0.3654 - accuracy: 0.8432 - val_loss: 0.3373 - val_accuracy: 0.8599\n",
            "Epoch 8/10\n",
            "103/103 [==============================] - 8s 79ms/step - loss: 0.3524 - accuracy: 0.8571 - val_loss: 0.3157 - val_accuracy: 0.8659\n",
            "Epoch 9/10\n",
            "103/103 [==============================] - 8s 82ms/step - loss: 0.3445 - accuracy: 0.8522 - val_loss: 0.3635 - val_accuracy: 0.8466\n",
            "Epoch 10/10\n",
            "103/103 [==============================] - 8s 74ms/step - loss: 0.3285 - accuracy: 0.8640 - val_loss: 0.3200 - val_accuracy: 0.8671\n"
          ]
        }
      ]
    },
    {
      "cell_type": "code",
      "source": [
        "plot_acc_and_loss(model_drop_train)"
      ],
      "metadata": {
        "colab": {
          "base_uri": "https://localhost:8080/",
          "height": 1000
        },
        "id": "q3k6O8W2z1Ls",
        "outputId": "a8d3717c-086c-43b2-d7d8-232e1fad2187"
      },
      "execution_count": null,
      "outputs": [
        {
          "output_type": "display_data",
          "data": {
            "text/plain": [
              "<Figure size 1080x720 with 1 Axes>"
            ],
            "image/png": "[encoded data removed]"
          },
          "metadata": {
            "needs_background": "light"
          }
        },
        {
          "output_type": "display_data",
          "data": {
            "text/plain": [
              "<Figure size 1080x720 with 1 Axes>"
            ],
            "image/png": "[encoded data removed]"
          },
          "metadata": {
            "needs_background": "light"
          }
        }
      ]
    },
    {
      "cell_type": "code",
      "source": [
        "test_accuracy_report(model_drop)"
      ],
      "metadata": {
        "colab": {
          "base_uri": "https://localhost:8080/"
        },
        "id": "MCpfOzu40ccV",
        "outputId": "7d17543f-f95b-4c06-fd8a-3b1c348d5b35"
      },
      "execution_count": null,
      "outputs": [
        {
          "output_type": "stream",
          "name": "stdout",
          "text": [
            "33/33 [==============================] - 0s 4ms/step\n",
            "                       precision    recall  f1-score   support\n",
            "\n",
            "                   -1       0.97      0.72      0.83        86\n",
            "1 Mixed local stock 2       0.55      0.86      0.68        94\n",
            "  Carniolan honey bee       0.82      0.97      0.89       100\n",
            "    Italian honey bee       0.96      0.85      0.90       602\n",
            "    Russian honey bee       0.92      1.00      0.96       106\n",
            "VSH Italian honey bee       0.77      0.85      0.81        40\n",
            "    Western honey bee       0.64      1.00      0.78         7\n",
            "\n",
            "             accuracy                           0.87      1035\n",
            "            macro avg       0.80      0.89      0.83      1035\n",
            "         weighted avg       0.90      0.87      0.88      1035\n",
            "\n",
            "Loss function: 0.32183077931404114, accuracy: 0.8705313801765442\n"
          ]
        }
      ]
    },
    {
      "cell_type": "code",
      "source": [
        "annealer = LearningRateScheduler(lambda x: 1e-3 * 0.995 ** (x+NO_EPOCHS_3))\n",
        "earlystopper = EarlyStopping(monitor='loss', patience=PATIENCE, verbose=1)"
      ],
      "metadata": {
        "id": "_my1Nkj319tx"
      },
      "execution_count": null,
      "outputs": []
    },
    {
      "cell_type": "code",
      "source": [
        "model_lr=Sequential()\n",
        "model_lr.add(Conv2D(CONV_2D_DIM_1, kernel_size=KERNEL_SIZE, input_shape=(IMAGE_WIDTH, IMAGE_HEIGHT,IMAGE_CHANNELS), activation='relu', padding='same'))\n",
        "model_lr.add(MaxPool2D(MAX_POOL_DIM))\n",
        "# Add dropouts to the model\n",
        "model_lr.add(Dropout(0.4))\n",
        "model_lr.add(Conv2D(CONV_2D_DIM_2, kernel_size=KERNEL_SIZE, activation='relu', padding='same'))\n",
        "# Add dropouts to the model\n",
        "model_lr.add(Dropout(0.4))\n",
        "model_lr.add(Flatten())\n",
        "model_lr.add(Dense(y_train.columns.size, activation='softmax'))\n",
        "model_lr.compile(optimizer='adam', loss='categorical_crossentropy', metrics=['accuracy'])"
      ],
      "metadata": {
        "id": "S7t7mGcQBbjT"
      },
      "execution_count": null,
      "outputs": []
    },
    {
      "cell_type": "code",
      "source": [
        "train_model_lr  = model_lr.fit_generator(image_generator.flow(X_train, y_train, batch_size=BATCH_SIZE),\n",
        "                        epochs=NO_EPOCHS_3,\n",
        "                        validation_data=[X_val, y_val],\n",
        "                        steps_per_epoch=len(X_train)/BATCH_SIZE,\n",
        "                        callbacks=[earlystopper, annealer])"
      ],
      "metadata": {
        "colab": {
          "base_uri": "https://localhost:8080/"
        },
        "id": "vtTZgvsOCojY",
        "outputId": "2ab0278d-9990-4849-ae72-6c24498cc4e4"
      },
      "execution_count": null,
      "outputs": [
        {
          "output_type": "stream",
          "name": "stdout",
          "text": [
            "Epoch 1/50\n"
          ]
        },
        {
          "output_type": "stream",
          "name": "stderr",
          "text": [
            "/usr/local/lib/python3.7/dist-packages/ipykernel_launcher.py:5: UserWarning:\n",
            "\n",
            "`Model.fit_generator` is deprecated and will be removed in a future version. Please use `Model.fit`, which supports generators.\n",
            "\n"
          ]
        },
        {
          "output_type": "stream",
          "name": "stdout",
          "text": [
            "103/103 [==============================] - 10s 89ms/step - loss: 1.1558 - accuracy: 0.6398 - val_loss: 0.7949 - val_accuracy: 0.6908 - lr: 7.7831e-04\n",
            "Epoch 2/50\n",
            "103/103 [==============================] - 7s 72ms/step - loss: 0.6493 - accuracy: 0.7673 - val_loss: 0.5110 - val_accuracy: 0.8031 - lr: 7.7442e-04\n",
            "Epoch 3/50\n",
            "103/103 [==============================] - 7s 72ms/step - loss: 0.4706 - accuracy: 0.8111 - val_loss: 0.4057 - val_accuracy: 0.8297 - lr: 7.7055e-04\n",
            "Epoch 4/50\n",
            "103/103 [==============================] - 7s 71ms/step - loss: 0.4021 - accuracy: 0.8389 - val_loss: 0.3606 - val_accuracy: 0.8611 - lr: 7.6670e-04\n",
            "Epoch 5/50\n",
            "103/103 [==============================] - 7s 72ms/step - loss: 0.3575 - accuracy: 0.8534 - val_loss: 0.4644 - val_accuracy: 0.8200 - lr: 7.6286e-04\n",
            "Epoch 6/50\n",
            "103/103 [==============================] - 7s 71ms/step - loss: 0.3596 - accuracy: 0.8501 - val_loss: 0.3004 - val_accuracy: 0.8671 - lr: 7.5905e-04\n",
            "Epoch 7/50\n",
            "103/103 [==============================] - 8s 73ms/step - loss: 0.3251 - accuracy: 0.8613 - val_loss: 0.2770 - val_accuracy: 0.8829 - lr: 7.5525e-04\n",
            "Epoch 8/50\n",
            "103/103 [==============================] - 7s 71ms/step - loss: 0.2989 - accuracy: 0.8776 - val_loss: 0.2806 - val_accuracy: 0.8841 - lr: 7.5148e-04\n",
            "Epoch 9/50\n",
            "103/103 [==============================] - 8s 78ms/step - loss: 0.2924 - accuracy: 0.8761 - val_loss: 0.3038 - val_accuracy: 0.8744 - lr: 7.4772e-04\n",
            "Epoch 10/50\n",
            "103/103 [==============================] - 7s 71ms/step - loss: 0.2948 - accuracy: 0.8746 - val_loss: 0.2800 - val_accuracy: 0.8853 - lr: 7.4398e-04\n",
            "Epoch 11/50\n",
            "103/103 [==============================] - 7s 72ms/step - loss: 0.2752 - accuracy: 0.8861 - val_loss: 0.2612 - val_accuracy: 0.8901 - lr: 7.4026e-04\n",
            "Epoch 12/50\n",
            "103/103 [==============================] - 7s 71ms/step - loss: 0.2707 - accuracy: 0.8776 - val_loss: 0.2635 - val_accuracy: 0.8877 - lr: 7.3656e-04\n",
            "Epoch 13/50\n",
            "103/103 [==============================] - 7s 72ms/step - loss: 0.2802 - accuracy: 0.8824 - val_loss: 0.2503 - val_accuracy: 0.8913 - lr: 7.3288e-04\n",
            "Epoch 14/50\n",
            "103/103 [==============================] - 7s 71ms/step - loss: 0.2647 - accuracy: 0.8900 - val_loss: 0.2522 - val_accuracy: 0.9010 - lr: 7.2921e-04\n",
            "Epoch 15/50\n",
            "103/103 [==============================] - 8s 73ms/step - loss: 0.2684 - accuracy: 0.8915 - val_loss: 0.2380 - val_accuracy: 0.8937 - lr: 7.2557e-04\n",
            "Epoch 16/50\n",
            "103/103 [==============================] - 7s 72ms/step - loss: 0.2515 - accuracy: 0.8921 - val_loss: 0.2345 - val_accuracy: 0.8998 - lr: 7.2194e-04\n",
            "Epoch 17/50\n",
            "103/103 [==============================] - 7s 72ms/step - loss: 0.2445 - accuracy: 0.8909 - val_loss: 0.2440 - val_accuracy: 0.9022 - lr: 7.1833e-04\n",
            "Epoch 18/50\n",
            "103/103 [==============================] - 7s 72ms/step - loss: 0.2362 - accuracy: 0.8957 - val_loss: 0.2514 - val_accuracy: 0.8889 - lr: 7.1474e-04\n",
            "Epoch 19/50\n",
            "103/103 [==============================] - 7s 72ms/step - loss: 0.2468 - accuracy: 0.8909 - val_loss: 0.2530 - val_accuracy: 0.8973 - lr: 7.1116e-04\n",
            "Epoch 20/50\n",
            "103/103 [==============================] - 7s 71ms/step - loss: 0.2469 - accuracy: 0.8945 - val_loss: 0.2495 - val_accuracy: 0.8986 - lr: 7.0761e-04\n",
            "Epoch 21/50\n",
            "103/103 [==============================] - 7s 71ms/step - loss: 0.2507 - accuracy: 0.8888 - val_loss: 0.2487 - val_accuracy: 0.9022 - lr: 7.0407e-04\n",
            "Epoch 22/50\n",
            "103/103 [==============================] - 7s 71ms/step - loss: 0.2405 - accuracy: 0.8991 - val_loss: 0.2516 - val_accuracy: 0.8986 - lr: 7.0055e-04\n",
            "Epoch 23/50\n",
            "103/103 [==============================] - 7s 71ms/step - loss: 0.2270 - accuracy: 0.9021 - val_loss: 0.2677 - val_accuracy: 0.8937 - lr: 6.9705e-04\n",
            "Epoch 24/50\n",
            "103/103 [==============================] - 8s 74ms/step - loss: 0.2218 - accuracy: 0.9027 - val_loss: 0.2622 - val_accuracy: 0.8853 - lr: 6.9356e-04\n",
            "Epoch 25/50\n",
            "103/103 [==============================] - 8s 73ms/step - loss: 0.2237 - accuracy: 0.9003 - val_loss: 0.2471 - val_accuracy: 0.8949 - lr: 6.9009e-04\n",
            "Epoch 26/50\n",
            "103/103 [==============================] - 9s 86ms/step - loss: 0.2139 - accuracy: 0.9051 - val_loss: 0.2753 - val_accuracy: 0.8925 - lr: 6.8664e-04\n",
            "Epoch 27/50\n",
            "103/103 [==============================] - 8s 73ms/step - loss: 0.2112 - accuracy: 0.9084 - val_loss: 0.2754 - val_accuracy: 0.8961 - lr: 6.8321e-04\n",
            "Epoch 28/50\n",
            "103/103 [==============================] - 8s 73ms/step - loss: 0.2162 - accuracy: 0.9051 - val_loss: 0.3191 - val_accuracy: 0.8768 - lr: 6.7979e-04\n",
            "Epoch 29/50\n",
            "103/103 [==============================] - 7s 70ms/step - loss: 0.2390 - accuracy: 0.8912 - val_loss: 0.2656 - val_accuracy: 0.9010 - lr: 6.7639e-04\n",
            "Epoch 30/50\n",
            "103/103 [==============================] - 7s 70ms/step - loss: 0.2163 - accuracy: 0.9039 - val_loss: 0.2575 - val_accuracy: 0.8998 - lr: 6.7301e-04\n",
            "Epoch 31/50\n",
            "103/103 [==============================] - 7s 71ms/step - loss: 0.2018 - accuracy: 0.9090 - val_loss: 0.2784 - val_accuracy: 0.8889 - lr: 6.6965e-04\n",
            "Epoch 32/50\n",
            "103/103 [==============================] - 7s 71ms/step - loss: 0.2131 - accuracy: 0.9024 - val_loss: 0.2541 - val_accuracy: 0.9010 - lr: 6.6630e-04\n",
            "Epoch 33/50\n",
            "103/103 [==============================] - 7s 71ms/step - loss: 0.2029 - accuracy: 0.9099 - val_loss: 0.2466 - val_accuracy: 0.8913 - lr: 6.6297e-04\n",
            "Epoch 34/50\n",
            "103/103 [==============================] - 7s 72ms/step - loss: 0.2039 - accuracy: 0.9057 - val_loss: 0.2160 - val_accuracy: 0.9094 - lr: 6.5965e-04\n",
            "Epoch 35/50\n",
            "103/103 [==============================] - 7s 71ms/step - loss: 0.2205 - accuracy: 0.9112 - val_loss: 0.2276 - val_accuracy: 0.9046 - lr: 6.5635e-04\n",
            "Epoch 36/50\n",
            "103/103 [==============================] - 7s 72ms/step - loss: 0.2021 - accuracy: 0.9142 - val_loss: 0.2259 - val_accuracy: 0.8973 - lr: 6.5307e-04\n",
            "Epoch 36: early stopping\n"
          ]
        }
      ]
    },
    {
      "cell_type": "code",
      "source": [
        "plot_acc_and_loss(train_model_lr)"
      ],
      "metadata": {
        "colab": {
          "base_uri": "https://localhost:8080/",
          "height": 1000
        },
        "id": "zybFEz2VDBzP",
        "outputId": "f74d28d0-744c-4e54-c4ba-c4be4c5f834e"
      },
      "execution_count": null,
      "outputs": [
        {
          "output_type": "display_data",
          "data": {
            "text/plain": [
              "<Figure size 1080x720 with 1 Axes>"
            ],
            "image/png": "[encoded data removed]"
          },
          "metadata": {
            "needs_background": "light"
          }
        },
        {
          "output_type": "display_data",
          "data": {
            "text/plain": [
              "<Figure size 1080x720 with 1 Axes>"
            ],
            "image/png": "[encoded data removed]"
          },
          "metadata": {
            "needs_background": "light"
          }
        }
      ]
    },
    {
      "cell_type": "code",
      "source": [
        "test_preds = model_lr.predict(X_test)"
      ],
      "metadata": {
        "colab": {
          "base_uri": "https://localhost:8080/"
        },
        "id": "FQI7n29EEwoC",
        "outputId": "db84894f-cdd5-4c58-9d5a-26b35713588a"
      },
      "execution_count": null,
      "outputs": [
        {
          "output_type": "stream",
          "name": "stdout",
          "text": [
            "33/33 [==============================] - 0s 4ms/step\n"
          ]
        }
      ]
    },
    {
      "cell_type": "code",
      "source": [],
      "metadata": {
        "id": "ZtqTRG-SKWc-"
      },
      "execution_count": null,
      "outputs": []
    },
    {
      "cell_type": "code",
      "source": [
        "test_preds = np.argmax(test_preds, axis = 1)\n",
        "test_true = np.argmax(y_test.values, axis = 1)"
      ],
      "metadata": {
        "id": "wd7Cv4JvJmDm"
      },
      "execution_count": null,
      "outputs": []
    },
    {
      "cell_type": "code",
      "source": [
        "print(\"Classification report\")\n",
        "print(metrics.classification_report(test_true, test_preds, target_names=y_test.columns))"
      ],
      "metadata": {
        "colab": {
          "base_uri": "https://localhost:8080/"
        },
        "id": "Ax6yUO3XKfg4",
        "outputId": "b41f9af5-434d-415c-c90b-6057b56ed081"
      },
      "execution_count": null,
      "outputs": [
        {
          "output_type": "stream",
          "name": "stdout",
          "text": [
            "Classification report\n",
            "                       precision    recall  f1-score   support\n",
            "\n",
            "                   -1       0.93      0.83      0.88        86\n",
            "1 Mixed local stock 2       0.64      0.88      0.74        94\n",
            "  Carniolan honey bee       0.98      0.97      0.97       100\n",
            "    Italian honey bee       0.96      0.91      0.94       602\n",
            "    Russian honey bee       0.95      0.99      0.97       106\n",
            "VSH Italian honey bee       0.89      1.00      0.94        40\n",
            "    Western honey bee       1.00      1.00      1.00         7\n",
            "\n",
            "             accuracy                           0.92      1035\n",
            "            macro avg       0.91      0.94      0.92      1035\n",
            "         weighted avg       0.93      0.92      0.92      1035\n",
            "\n"
          ]
        }
      ]
    },
    {
      "cell_type": "code",
      "source": [
        "metrics.ConfusionMatrixDisplay.from_predictions(test_preds, \n",
        "                                        test_true, \n",
        "                                        display_labels = list(y_test.columns),\n",
        "                                        xticks_rotation = 'vertical');"
      ],
      "metadata": {
        "colab": {
          "base_uri": "https://localhost:8080/",
          "height": 380
        },
        "id": "sdbOcQOHSYAO",
        "outputId": "eb46dc89-fe06-42e0-e425-ca3f3005212b"
      },
      "execution_count": null,
      "outputs": [
        {
          "output_type": "display_data",
          "data": {
            "text/plain": [
              "<Figure size 432x288 with 2 Axes>"
            ],
            "image/png": "[encoded data removed]"
          },
          "metadata": {
            "needs_background": "light"
          }
        }
      ]
    },
    {
      "cell_type": "code",
      "source": [
        "metrics.ConfusionMatrixDisplay.from_predictions(test_preds, \n",
        "                                        test_true, \n",
        "                                        display_labels = list(y_test.columns),\n",
        "                                        xticks_rotation = 'vertical',\n",
        "                                        normalize = 'true');"
      ],
      "metadata": {
        "colab": {
          "base_uri": "https://localhost:8080/",
          "height": 384
        },
        "id": "JFPGxYH2RMAc",
        "outputId": "b2ee5f9f-af30-4ab1-96a3-b70c45f7edce"
      },
      "execution_count": null,
      "outputs": [
        {
          "output_type": "display_data",
          "data": {
            "text/plain": [
              "<Figure size 432x288 with 2 Axes>"
            ],
            "image/png": "[encoded data removed]"
          },
          "metadata": {
            "needs_background": "light"
          }
        }
      ]
    },
    {
      "cell_type": "code",
      "source": [
        "model1.save('/content/drive/MyDrive/colab_notebooks/models/model_1')\n",
        "model_drop.save('/content/drive/MyDrive/colab_notebooks/models/model_drop')\n",
        "model_lr.save('/content/drive/MyDrive/colab_notebooks/models/model_lr')"
      ],
      "metadata": {
        "colab": {
          "base_uri": "https://localhost:8080/"
        },
        "id": "0JNWpGFlTgnU",
        "outputId": "110c9231-2ae9-4f73-eee5-dfbaa6b09840"
      },
      "execution_count": null,
      "outputs": [
        {
          "output_type": "stream",
          "name": "stderr",
          "text": [
            "WARNING:absl:Found untraced functions such as _jit_compiled_convolution_op, _jit_compiled_convolution_op while saving (showing 2 of 2). These functions will not be directly callable after loading.\n",
            "WARNING:absl:Found untraced functions such as _jit_compiled_convolution_op, _jit_compiled_convolution_op while saving (showing 2 of 2). These functions will not be directly callable after loading.\n",
            "WARNING:absl:Found untraced functions such as _jit_compiled_convolution_op, _jit_compiled_convolution_op while saving (showing 2 of 2). These functions will not be directly callable after loading.\n"
          ]
        }
      ]
    },
    {
      "cell_type": "code",
      "source": [],
      "metadata": {
        "id": "gDVXwt5qcPNN"
      },
      "execution_count": null,
      "outputs": []
    }
  ]
}