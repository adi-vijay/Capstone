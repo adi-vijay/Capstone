{
  "nbformat": 4,
  "nbformat_minor": 0,
  "metadata": {
    "colab": {
      "provenance": [],
      "collapsed_sections": []
    },
    "kernelspec": {
      "name": "python3",
      "display_name": "Python 3"
    },
    "language_info": {
      "name": "python"
    }
  },
  "cells": [
    {
      "cell_type": "markdown",
      "source": [
        "# CNN Visualization\n",
        " - visualizations were done using the [ANNvisualizer](https://github.com/RedaOps/ann-visualizer), a python library for visualizing artificial neural networks."
      ],
      "metadata": {
        "id": "IwEodz1Gq_10"
      }
    },
    {
      "cell_type": "code",
      "source": [
        "!pip install ann_visualizer"
      ],
      "metadata": {
        "colab": {
          "base_uri": "https://localhost:8080/"
        },
        "id": "Ky02MdYbpic-",
        "outputId": "5255d60e-a2fe-40cd-c1ab-d2aab394b0d8"
      },
      "execution_count": 9,
      "outputs": [
        {
          "output_type": "stream",
          "name": "stdout",
          "text": [
            "Looking in indexes: https://pypi.org/simple, https://us-python.pkg.dev/colab-wheels/public/simple/\n",
            "Requirement already satisfied: ann_visualizer in /usr/local/lib/python3.7/dist-packages (2.5)\n"
          ]
        }
      ]
    },
    {
      "cell_type": "code",
      "execution_count": 10,
      "metadata": {
        "id": "AwgI2573pEiu"
      },
      "outputs": [],
      "source": [
        "from ann_visualizer.visualize import ann_viz\n",
        "import tensorflow as tf\n",
        "from tensorflow import keras"
      ]
    },
    {
      "cell_type": "code",
      "source": [
        "from google.colab import drive\n",
        "drive.mount('/content/drive')"
      ],
      "metadata": {
        "colab": {
          "base_uri": "https://localhost:8080/"
        },
        "id": "bJGWT2o2p__M",
        "outputId": "6fe57303-7ff9-44c1-9850-158fde4a233b"
      },
      "execution_count": 11,
      "outputs": [
        {
          "output_type": "stream",
          "name": "stdout",
          "text": [
            "Drive already mounted at /content/drive; to attempt to forcibly remount, call drive.mount(\"/content/drive\", force_remount=True).\n"
          ]
        }
      ]
    },
    {
      "cell_type": "code",
      "source": [
        "model_lr_health_bal = keras.models.load_model('/content/drive/MyDrive/Capstone/models/model_lr_health_bal/')\n",
        "model_lr_subspecies_bal = keras.models.load_model('/content/drive/MyDrive/Capstone/models/model_lr_subspecies_bal/')"
      ],
      "metadata": {
        "id": "N2U_8pCjpp7p"
      },
      "execution_count": 12,
      "outputs": []
    },
    {
      "cell_type": "markdown",
      "source": [
        "### Generate Visualizations\n",
        " - Visualizations are saved as `network.gv` and `network.gv.pdf` files in the top level directory. These are deleted upon disconnecting the runtime and should be saved to your local machine"
      ],
      "metadata": {
        "id": "bw7t-sA-rVqz"
      }
    },
    {
      "cell_type": "code",
      "source": [
        "ann_viz(model_lr_health_bal, title=\"Health CNN with Class Weights and Custom Learning Rate\")"
      ],
      "metadata": {
        "id": "bl7ED8Pgp9y4"
      },
      "execution_count": 13,
      "outputs": []
    },
    {
      "cell_type": "code",
      "source": [
        "ann_viz(model_lr_subspecies_bal, title=\"Subspecies CNN with Class Weights and Custom Learning Rate\")"
      ],
      "metadata": {
        "id": "4IaDBOJFqfn-"
      },
      "execution_count": 14,
      "outputs": []
    },
    {
      "cell_type": "code",
      "source": [],
      "metadata": {
        "id": "Y7S1RIFPq0UW"
      },
      "execution_count": 14,
      "outputs": []
    }
  ]
}