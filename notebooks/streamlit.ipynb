{
  "nbformat": 4,
  "nbformat_minor": 0,
  "metadata": {
    "colab": {
      "provenance": [],
      "collapsed_sections": []
    },
    "kernelspec": {
      "name": "python3",
      "display_name": "Python 3"
    },
    "language_info": {
      "name": "python"
    }
  },
  "cells": [
    {
      "cell_type": "markdown",
      "source": [
        "# Honey Bee Classifier\n",
        "## Streamlit Web App\n",
        "  - In order to create a web app through Colab to implement the CNNs for subspecies and health classification, we must install and run packages allowing for a secure localtunnel connection to be made.\n",
        "\n",
        "  - This notebook takes advantage of Google Drive. After forking and cloning the repo from Github, upload the files to Google Drive and change your file paths accordingly."
      ],
      "metadata": {
        "id": "dV7As_-W05z_"
      }
    },
    {
      "cell_type": "markdown",
      "source": [
        "#### Mount Google Drive\n",
        " - Authentication through a pop-up window is required. Mounting Drive allows for importing models and data uploaded to Drive."
      ],
      "metadata": {
        "id": "hlNyiyCi2Af3"
      }
    },
    {
      "cell_type": "code",
      "source": [
        "from google.colab import drive\n",
        "drive.mount('/content/drive')"
      ],
      "metadata": {
        "id": "HXgDkDxuC1f-",
        "colab": {
          "base_uri": "https://localhost:8080/"
        },
        "outputId": "45f644e9-ca9a-48ec-be53-6702051af0a2"
      },
      "execution_count": 1,
      "outputs": [
        {
          "output_type": "stream",
          "name": "stdout",
          "text": [
            "Drive already mounted at /content/drive; to attempt to forcibly remount, call drive.mount(\"/content/drive\", force_remount=True).\n"
          ]
        }
      ]
    },
    {
      "cell_type": "markdown",
      "source": [
        "#### Create Directories\n",
        " - Directories  are created to house the user-uploaded image and the RGB converted image. Directories are deleted upon disconnecting the runtime."
      ],
      "metadata": {
        "id": "4NEqG8El2ZN7"
      }
    },
    {
      "cell_type": "code",
      "source": [
        "!mkdir uploaded_images\n",
        "!mkdir rgb_images"
      ],
      "metadata": {
        "colab": {
          "base_uri": "https://localhost:8080/"
        },
        "id": "_TpCpfgvXpAp",
        "outputId": "1c3bdee3-2524-4548-adc2-e8d8d508e6d5"
      },
      "execution_count": 2,
      "outputs": [
        {
          "output_type": "stream",
          "name": "stdout",
          "text": [
            "mkdir: cannot create directory ‘uploaded_images’: File exists\n",
            "mkdir: cannot create directory ‘rgb_images’: File exists\n"
          ]
        }
      ]
    },
    {
      "cell_type": "markdown",
      "source": [
        "#### Install Streamlit"
      ],
      "metadata": {
        "id": "0AaNRLmR2-xd"
      }
    },
    {
      "cell_type": "code",
      "execution_count": 3,
      "metadata": {
        "id": "xOI8_TiPDs4J"
      },
      "outputs": [],
      "source": [
        "!pip install -q streamlit"
      ]
    },
    {
      "cell_type": "markdown",
      "source": [
        "#### Install Localtunnel"
      ],
      "metadata": {
        "id": "0wG7RNBn3BJ7"
      }
    },
    {
      "cell_type": "code",
      "source": [
        "!npm install localtunnel"
      ],
      "metadata": {
        "colab": {
          "base_uri": "https://localhost:8080/"
        },
        "id": "kAI0u9KTDvLI",
        "outputId": "f94cd884-d6aa-47f7-8350-3f0397ab1dfd"
      },
      "execution_count": 4,
      "outputs": [
        {
          "output_type": "stream",
          "name": "stdout",
          "text": [
            "\u001b[K\u001b[?25h\u001b[37;40mnpm\u001b[0m \u001b[0m\u001b[30;43mWARN\u001b[0m \u001b[0m\u001b[35msaveError\u001b[0m ENOENT: no such file or directory, open '/content/package.json'\n",
            "\u001b[K\u001b[?25h\u001b[37;40mnpm\u001b[0m \u001b[0m\u001b[30;43mWARN\u001b[0m \u001b[0m\u001b[35menoent\u001b[0m ENOENT: no such file or directory, open '/content/package.json'\n",
            "\u001b[0m\u001b[37;40mnpm\u001b[0m \u001b[0m\u001b[30;43mWARN\u001b[0m\u001b[35m\u001b[0m content No description\n",
            "\u001b[0m\u001b[37;40mnpm\u001b[0m \u001b[0m\u001b[30;43mWARN\u001b[0m\u001b[35m\u001b[0m content No repository field.\n",
            "\u001b[0m\u001b[37;40mnpm\u001b[0m \u001b[0m\u001b[30;43mWARN\u001b[0m\u001b[35m\u001b[0m content No README data\n",
            "\u001b[0m\u001b[37;40mnpm\u001b[0m \u001b[0m\u001b[30;43mWARN\u001b[0m\u001b[35m\u001b[0m content No license field.\n",
            "\u001b[0m\n",
            "\u001b[K\u001b[?25h+ localtunnel@2.0.2\n",
            "updated 1 package and audited 36 packages in 0.529s\n",
            "\n",
            "3 packages are looking for funding\n",
            "  run `npm fund` for details\n",
            "\n",
            "found \u001b[92m0\u001b[0m vulnerabilities\n",
            "\n"
          ]
        }
      ]
    },
    {
      "cell_type": "markdown",
      "source": [
        "### Streamlit App\n",
        " - The entire app is written to an app.py file upon running this notebook. The file is re-written upon disconnecting and reconnecting the runtime."
      ],
      "metadata": {
        "id": "nb8BQ25R3Fww"
      }
    },
    {
      "cell_type": "code",
      "source": [
        "%%writefile app.py\n",
        "\n",
        "# Imports\n",
        "import streamlit as st\n",
        "import numpy as np\n",
        "import matplotlib.pyplot as plt\n",
        "import sys\n",
        "import os\n",
        "import tensorflow as tf\n",
        "from tensorflow import keras\n",
        "import imageio\n",
        "import skimage\n",
        "import skimage.io\n",
        "import skimage.transform\n",
        "from PIL import Image\n",
        "\n",
        "# Global Variables\n",
        "IMAGE_PATH = '/content/drive/MyDrive/Capstone/data/bee_imgs/'\n",
        "TEST_IMAGE_PATH = '/content/drive/MyDrive/Capstone/data/test_bee_img/'\n",
        "TEMP_PATH = '/content/rgbimg/'\n",
        "MODEL_SUB_PATH = '/content/drive/MyDrive/Capstone/models/model_lr_subspecies_bal/'\n",
        "MODEL_HEALTH_PATH = '/content/drive/MyDrive/Capstone/models/model_lr_subspecies_bal/'\n",
        "IMAGE_WIDTH = 100\n",
        "IMAGE_HEIGHT = 100\n",
        "IMAGE_CHANNELS = 3\n",
        "RANDOM_STATE = 42\n",
        "TEST_SIZE = 0.2\n",
        "VAL_SIZE = 0.2\n",
        "CONV_2D_DIM_1 = 16\n",
        "CONV_2D_DIM_2 = 16\n",
        "CONV_2D_DIM_3 = 32\n",
        "CONV_2D_DIM_4 = 64\n",
        "MAX_POOL_DIM = 2\n",
        "KERNEL_SIZE = 3\n",
        "BATCH_SIZE = 32\n",
        "PATIENCE = 5\n",
        "NO_EPOCHS_1 = 5\n",
        "NO_EPOCHS_2 = 10\n",
        "NO_EPOCHS_3 = 50\n",
        "\n",
        "\n",
        "# Predicted Class Labels\n",
        "pred_species_labels = ['Unknown', '1 Mixed local stock 2', 'Carniolan honey bee',\n",
        "       'Italian honey bee', 'Russian honey bee', 'VSH Italian honey bee',\n",
        "       'Western honey bee']\n",
        "\n",
        "pred_health_labels = [\"Varroa\", \"Small Hive Beetles\", \"Ant Problems\", \n",
        "\"Few Varroa\", \"Hive Beetles, Healthy\" , \"Hive Being Robbed\", \"Missing Queen\"]\n",
        "\n",
        "\n",
        "# Loading Keras Models\n",
        "# Change the filepath to reflect your uploaded path\n",
        "model_subspecies_bal = keras.models.load_model(MODEL_SUB_PATH)\n",
        "model_health_bal = keras.models.load_model(MODEL_HEALTH_PATH)\n",
        "\n",
        "def read_rgb_image(file_path):\n",
        "    image = skimage.io.imread(file_path)\n",
        "    image = skimage.transform.resize(image, (IMAGE_WIDTH, IMAGE_HEIGHT), mode='reflect')\n",
        "    return image[:,:,:IMAGE_CHANNELS]\n",
        "\n",
        "def subsp_health_predictor(image_path):\n",
        "    image = Image.open(image_path)\n",
        "    rgb_image = image.convert('RGB')\n",
        "    rgb_filename = image.filename.split('/')[-1]\n",
        "    rgb_image.save('./rgb_images/'+ rgb_filename)\n",
        "    rgb_image_path = './rgb_images/'+rgb_filename\n",
        "\n",
        "    X = np.stack(read_rgb_image(rgb_image_path))\n",
        "    X = X.reshape(1,X.shape[0],X.shape[1],X.shape[2])\n",
        "    preds_subspecies_bal = model_subspecies_bal.predict(X)\n",
        "    preds_health_bal = model_health_bal.predict(X)\n",
        "    preds_species_bal_index = int(np.argmax(preds_subspecies_bal, axis = 1))\n",
        "    p_s_b = pred_species_labels[preds_species_bal_index]\n",
        "\n",
        "    preds_health_bal_index = int(np.argmax(preds_health_bal, axis = 1))\n",
        "    p_h_b = pred_health_labels[preds_health_bal_index]\n",
        "\n",
        "    return p_s_b, p_h_b  \n",
        "\n",
        "\n",
        "def run():\n",
        "    img1 = Image.open('/content/drive/MyDrive/Capstone/assets/splash_image.png')\n",
        "    img1 = img1.resize((350,350))\n",
        "    st.image(img1,use_column_width=False)\n",
        "    st.title(\"Welcome to Adi's Honey Bee Classifier!\")\n",
        "    st.markdown('''<h4 style='text-align: left; color: #d73b5c;'>* This classifier uses a neural network trained on 5,100+ bee images annotated with subspecies, health condition, and other qualities, extracted from still time-lapse videos of bees.\"</h4>''',\n",
        "                unsafe_allow_html=True)\n",
        "\n",
        "    img_file = st.file_uploader(\"Choose an Image of Honey Bee!\", type=[\"jpg\", \"png\"])\n",
        "    if img_file is not None:\n",
        "        st.image(img_file,use_column_width=False)\n",
        "        save_image_path = './uploaded_images/'+img_file.name\n",
        "        with open(save_image_path, \"wb\") as f:\n",
        "            f.write(img_file.getbuffer())\n",
        "\n",
        "\n",
        "\n",
        "        if st.button(\"Predict\"):\n",
        "            species, health = subsp_health_predictor(save_image_path)\n",
        "            st.success(\"Your bee's species is: \" + species +' and the health status is ' + health+'.')\n",
        "run()"
      ],
      "metadata": {
        "colab": {
          "base_uri": "https://localhost:8080/"
        },
        "id": "_57CON24Ducg",
        "outputId": "e3700d5f-e92c-4e58-a5e9-ef8212636f98"
      },
      "execution_count": 5,
      "outputs": [
        {
          "output_type": "stream",
          "name": "stdout",
          "text": [
            "Overwriting app.py\n"
          ]
        }
      ]
    },
    {
      "cell_type": "code",
      "source": [],
      "metadata": {
        "id": "UZAdk4uJgQfw"
      },
      "execution_count": 5,
      "outputs": []
    },
    {
      "cell_type": "markdown",
      "source": [
        "#### Run Streamlit in the background"
      ],
      "metadata": {
        "id": "FMFztw2K82iu"
      }
    },
    {
      "cell_type": "code",
      "source": [
        "!streamlit run /content/app.py &>/content/logs.txt &"
      ],
      "metadata": {
        "id": "3wKaZNWtDyBe"
      },
      "execution_count": 6,
      "outputs": []
    },
    {
      "cell_type": "markdown",
      "source": [
        "#### Expose Port 8501\n",
        "Click on the `url` to access the Streamlit App. A `log.txt` file will be created when run, and deleted upon disconnecting the runtime."
      ],
      "metadata": {
        "id": "bNcRyAiA851o"
      }
    },
    {
      "cell_type": "code",
      "source": [
        "!npx localtunnel --port 8501"
      ],
      "metadata": {
        "colab": {
          "base_uri": "https://localhost:8080/"
        },
        "id": "z66rqEneD0jx",
        "outputId": "9e5c2504-dc58-41ff-bf71-c99a0860c3e8"
      },
      "execution_count": 7,
      "outputs": [
        {
          "output_type": "stream",
          "name": "stdout",
          "text": [
            "\u001b[K\u001b[?25hnpx: installed 22 in 3.497s\n",
            "your url is: https://floppy-baboons-hunt-34-75-94-7.loca.lt\n",
            "^C\n"
          ]
        }
      ]
    },
    {
      "cell_type": "code",
      "source": [],
      "metadata": {
        "id": "ifIrB6D_D69h"
      },
      "execution_count": 7,
      "outputs": []
    }
  ]
}